{
 "cells": [
  {
   "cell_type": "code",
   "execution_count": 128,
   "metadata": {},
   "outputs": [],
   "source": [
    "# TODO remove this notebook as soon as ensured that create road layer and farmyard density loayer scripts work correctly"
   ]
  },
  {
   "cell_type": "code",
   "execution_count": 114,
   "metadata": {},
   "outputs": [],
   "source": [
    "import rasterio\n",
    "import geopandas as gpd\n",
    "import sys\n",
    "\n",
    "sys.path.append(\"../\")\n",
    "from src.gdal_wrapper import gdal_rasterize_pixel, gdal_align_and_resample"
   ]
  },
  {
   "cell_type": "code",
   "execution_count": 14,
   "metadata": {},
   "outputs": [],
   "source": [
    "# read in reference grid vector cells\n",
    "path_to_ref_grid_vector = r\"C:\\Users\\David\\Documents\\ZGIS\\Nextcloud_MyFiles\\Projects\\IGNITE\\data\\processed\\reference_grid\\inca_reference_grid_100m_vector_AUT\\inca_ref_grid_100m_vector_AUT.shp\"\n",
    "ref_grid_vector = gpd.read_file(path_to_ref_grid_vector)\n",
    "ref_grid_vector = ref_grid_vector.reset_index()"
   ]
  },
  {
   "cell_type": "code",
   "execution_count": 18,
   "metadata": {},
   "outputs": [],
   "source": [
    "# read in reference grid specifications\n",
    "path_to_ref_grid = r\"C:\\Users\\David\\Documents\\ZGIS\\Nextcloud_MyFiles\\Projects\\IGNITE\\data\\processed\\reference_grid\\INCA_ref_raster_since_2013_100m.tif\"\n",
    "with rasterio.open(path_to_ref_grid) as src:\n",
    "    ref_grid_meta = src.profile"
   ]
  },
  {
   "cell_type": "code",
   "execution_count": 39,
   "metadata": {},
   "outputs": [],
   "source": [
    "# read in farmyard data \n",
    "path_to_osm_farmyard = r\"C:\\Users\\David\\Documents\\ZGIS\\Nextcloud_MyFiles\\Projects\\IGNITE\\data\\processed\\farmyard_density_layer\\osm_lu_farmyards\\osm_lu_farmyards.shp\"\n",
    "farmyards_gdf = gpd.read_file(path_to_osm_farmyard)\n",
    "farmyards_gdf = farmyards_gdf.to_crs(\"EPSG:31287\")\n",
    "#farmyards_gdf = farmyards_gdf.reset_index()\n"
   ]
  },
  {
   "cell_type": "code",
   "execution_count": 49,
   "metadata": {},
   "outputs": [
    {
     "name": "stderr",
     "output_type": "stream",
     "text": [
      "C:\\Users\\David\\AppData\\Local\\Temp;\\ipykernel_19876\\632483798.py:1: UserWarning: CRS mismatch between the CRS of left geometries and the CRS of right geometries.\n",
      "Use `to_crs()` to reproject one of the input geometries to match the CRS of the other.\n",
      "\n",
      "Left CRS: EPSG:31287\n",
      "Right CRS: PROJCS[\"MGI_Austria_Lambert\",GEOGCS[\"GCS_MGI\",DATU ...\n",
      "\n",
      "  ref_raster_polygon_overlay = gpd.overlay(farmyards_gdf, ref_grid_vector)\n"
     ]
    }
   ],
   "source": [
    "ref_raster_polygon_overlay = gpd.overlay(farmyards_gdf, ref_grid_vector)"
   ]
  },
  {
   "cell_type": "code",
   "execution_count": 51,
   "metadata": {},
   "outputs": [],
   "source": [
    "# Calculate length of road segment in each cell\n",
    "ref_raster_polygon_overlay[\"area\"] = ref_raster_polygon_overlay.geometry.area\n",
    "polygon_area_per_cell = ref_raster_polygon_overlay.groupby(\n",
    "    by=\"index\").agg({\"area\": \"sum\"}).reset_index()"
   ]
  },
  {
   "cell_type": "code",
   "execution_count": 53,
   "metadata": {},
   "outputs": [],
   "source": [
    "polygon_density_layer = ref_grid_vector.merge(\n",
    "    polygon_area_per_cell, on=\"index\", how=\"left\")\n"
   ]
  },
  {
   "cell_type": "code",
   "execution_count": 98,
   "metadata": {},
   "outputs": [],
   "source": [
    "polygon_density_layer_no_nan = polygon_density_layer.dropna()\n",
    "\n",
    "path_to_farmyard_density_vector = r\"C:\\Users\\David\\Documents\\ZGIS\\Nextcloud_MyFiles\\Projects\\IGNITE\\data\\processed\\test_aoi\\test_farmyard_density_vector\\test_farmyard_density_vector.shp\"\n",
    "polygon_density_layer_no_nan.to_file(path_to_farmyard_density_vector)"
   ]
  },
  {
   "cell_type": "code",
   "execution_count": 111,
   "metadata": {},
   "outputs": [],
   "source": [
    "path_to_farmyard_density = r\"C:\\Users\\David\\Documents\\ZGIS\\Nextcloud_MyFiles\\Projects\\IGNITE\\data\\processed\\test_aoi\\test_farmyard_density.tif\"\n",
    "\n",
    "extent = (\"20003.2793\", \"220053.2444\" ,\"720106.901\", \"620076.3115\")\n",
    "\n",
    "\n",
    "gdal_rasterize_pixel(path_to_farmyard_density_vector, path_to_farmyard_density, \"test_farmyard_density_vector\", \"area\", (\"7010.0\", \"4010.0\"), \"0\", extent, \"Float32\")"
   ]
  },
  {
   "cell_type": "code",
   "execution_count": 126,
   "metadata": {},
   "outputs": [],
   "source": [
    "# path_to_farmyard_density_resampled = r\"C:\\Users\\David\\Documents\\ZGIS\\Nextcloud_MyFiles\\Projects\\IGNITE\\data\\processed\\test_aoi\\test_farmyard_density_resampled.tif\"\n",
    "resampl_algo = \"nearest neighbor\"\n",
    "path_to_farmyard_density_resampled = fr\"C:\\Users\\David\\Documents\\ZGIS\\test_farmyard_density_resampled_{resampl_algo}.tif\""
   ]
  },
  {
   "cell_type": "code",
   "execution_count": 127,
   "metadata": {},
   "outputs": [],
   "source": [
    "gdal_align_and_resample(path_to_farmyard_density, path_to_farmyard_density_resampled, path_to_ref_grid, resampl_algo)"
   ]
  },
  {
   "cell_type": "code",
   "execution_count": null,
   "metadata": {},
   "outputs": [],
   "source": []
  }
 ],
 "metadata": {
  "kernelspec": {
   "display_name": "pymc_env",
   "language": "python",
   "name": "pymc_env"
  },
  "language_info": {
   "codemirror_mode": {
    "name": "ipython",
    "version": 3
   },
   "file_extension": ".py",
   "mimetype": "text/x-python",
   "name": "python",
   "nbconvert_exporter": "python",
   "pygments_lexer": "ipython3",
   "version": "3.11.0"
  }
 },
 "nbformat": 4,
 "nbformat_minor": 2
}
