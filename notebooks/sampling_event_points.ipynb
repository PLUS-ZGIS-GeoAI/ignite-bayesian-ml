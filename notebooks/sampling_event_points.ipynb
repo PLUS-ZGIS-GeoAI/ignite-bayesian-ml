{
 "cells": [
  {
   "cell_type": "code",
   "execution_count": 1,
   "metadata": {},
   "outputs": [],
   "source": [
    "%load_ext autoreload\n",
    "%autoreload 2"
   ]
  },
  {
   "cell_type": "code",
   "execution_count": 1,
   "metadata": {},
   "outputs": [],
   "source": [
    "import sys\n",
    "import geopandas as gpd\n",
    "\n",
    "sys.path.append(\"../\")\n",
    "from src.utils import sample_points, sample_categories"
   ]
  },
  {
   "cell_type": "code",
   "execution_count": 2,
   "metadata": {},
   "outputs": [],
   "source": [
    "# specify paths to wildfire ignitions and forest type\n",
    "path_to_ignition_points = r\"C:\\Users\\David\\Documents\\ZGIS\\Nextcloud_MyFiles\\Projects\\IGNITE\\data\\raw\\BOKU_Fire_Ignitions\\boku_wildfire_ignitions.shp\"\n",
    "\n",
    "path_to_forest_type_layer = r\"C:\\Users\\David\\Documents\\ZGIS\\Nextcloud_MyFiles\\Projects\\IGNITE\\data\\raw\\BWF_forest_type\\forest_type_merged.tif\""
   ]
  },
  {
   "cell_type": "code",
   "execution_count": 3,
   "metadata": {},
   "outputs": [
    {
     "data": {
      "text/html": [
       "<div>\n",
       "<style scoped>\n",
       "    .dataframe tbody tr th:only-of-type {\n",
       "        vertical-align: middle;\n",
       "    }\n",
       "\n",
       "    .dataframe tbody tr th {\n",
       "        vertical-align: top;\n",
       "    }\n",
       "\n",
       "    .dataframe thead th {\n",
       "        text-align: right;\n",
       "    }\n",
       "</style>\n",
       "<table border=\"1\" class=\"dataframe\">\n",
       "  <thead>\n",
       "    <tr style=\"text-align: right;\">\n",
       "      <th></th>\n",
       "      <th>WaldbrandI</th>\n",
       "      <th>Datum</th>\n",
       "      <th>UTC</th>\n",
       "      <th>Bundesland</th>\n",
       "      <th>WGS84_long</th>\n",
       "      <th>WGS84_lat_</th>\n",
       "      <th>Pufferradi</th>\n",
       "      <th>Ursache1</th>\n",
       "      <th>Near_build</th>\n",
       "      <th>N_people</th>\n",
       "      <th>Dist_roads</th>\n",
       "      <th>Roads</th>\n",
       "      <th>Rad_dist</th>\n",
       "      <th>aspect_aus</th>\n",
       "      <th>dhm_at_lam</th>\n",
       "      <th>slope_aust</th>\n",
       "      <th>Veg1</th>\n",
       "      <th>Veg2_1</th>\n",
       "      <th>Veg3_firEU</th>\n",
       "      <th>geometry</th>\n",
       "    </tr>\n",
       "  </thead>\n",
       "  <tbody>\n",
       "    <tr>\n",
       "      <th>0</th>\n",
       "      <td>2021052701</td>\n",
       "      <td>5/27/2021</td>\n",
       "      <td>15:00</td>\n",
       "      <td>NOE</td>\n",
       "      <td>16.133164</td>\n",
       "      <td>47.877681</td>\n",
       "      <td>300</td>\n",
       "      <td>anthropogen</td>\n",
       "      <td>50.368667</td>\n",
       "      <td>7</td>\n",
       "      <td>54.166028</td>\n",
       "      <td>sonst</td>\n",
       "      <td>237.233615</td>\n",
       "      <td>326.15982</td>\n",
       "      <td>367.75150</td>\n",
       "      <td>11.21131</td>\n",
       "      <td>Pine_high_</td>\n",
       "      <td>Pine_high_</td>\n",
       "      <td>Urban</td>\n",
       "      <td>POINT (4779428.082 2770595.296)</td>\n",
       "    </tr>\n",
       "    <tr>\n",
       "      <th>1</th>\n",
       "      <td>2021052102</td>\n",
       "      <td>5/21/2021</td>\n",
       "      <td>7:50</td>\n",
       "      <td>NOE</td>\n",
       "      <td>16.181795</td>\n",
       "      <td>47.778698</td>\n",
       "      <td>50</td>\n",
       "      <td>anthropogen</td>\n",
       "      <td>207.367038</td>\n",
       "      <td>0</td>\n",
       "      <td>10.398109</td>\n",
       "      <td>for_road</td>\n",
       "      <td>8.045477</td>\n",
       "      <td>50.58361</td>\n",
       "      <td>303.09656</td>\n",
       "      <td>0.44824</td>\n",
       "      <td>Pine_high_</td>\n",
       "      <td>Pine_high_</td>\n",
       "      <td>Crop</td>\n",
       "      <td>POINT (4783946.969 2759929.697)</td>\n",
       "    </tr>\n",
       "  </tbody>\n",
       "</table>\n",
       "</div>"
      ],
      "text/plain": [
       "   WaldbrandI      Datum    UTC Bundesland  WGS84_long  WGS84_lat_  \\\n",
       "0  2021052701  5/27/2021  15:00        NOE   16.133164   47.877681   \n",
       "1  2021052102  5/21/2021   7:50        NOE   16.181795   47.778698   \n",
       "\n",
       "   Pufferradi     Ursache1  Near_build  N_people  Dist_roads     Roads  \\\n",
       "0         300  anthropogen   50.368667         7   54.166028     sonst   \n",
       "1          50  anthropogen  207.367038         0   10.398109  for_road   \n",
       "\n",
       "     Rad_dist  aspect_aus  dhm_at_lam  slope_aust        Veg1      Veg2_1  \\\n",
       "0  237.233615   326.15982   367.75150    11.21131  Pine_high_  Pine_high_   \n",
       "1    8.045477    50.58361   303.09656     0.44824  Pine_high_  Pine_high_   \n",
       "\n",
       "  Veg3_firEU                         geometry  \n",
       "0      Urban  POINT (4779428.082 2770595.296)  \n",
       "1       Crop  POINT (4783946.969 2759929.697)  "
      ]
     },
     "execution_count": 3,
     "metadata": {},
     "output_type": "execute_result"
    }
   ],
   "source": [
    "# read in wildfire ignition data\n",
    "ignition_points = gpd.read_file(path_to_ignition_points)\n",
    "ignition_points.head(2)"
   ]
  },
  {
   "cell_type": "code",
   "execution_count": 4,
   "metadata": {},
   "outputs": [
    {
     "name": "stdout",
     "output_type": "stream",
     "text": [
      "<class 'geopandas.geodataframe.GeoDataFrame'>\n",
      "RangeIndex: 1402 entries, 0 to 1401\n",
      "Data columns (total 20 columns):\n",
      " #   Column      Non-Null Count  Dtype   \n",
      "---  ------      --------------  -----   \n",
      " 0   WaldbrandI  1402 non-null   int64   \n",
      " 1   Datum       1402 non-null   object  \n",
      " 2   UTC         1402 non-null   object  \n",
      " 3   Bundesland  1402 non-null   object  \n",
      " 4   WGS84_long  1402 non-null   float64 \n",
      " 5   WGS84_lat_  1402 non-null   float64 \n",
      " 6   Pufferradi  1402 non-null   int64   \n",
      " 7   Ursache1    1402 non-null   object  \n",
      " 8   Near_build  1402 non-null   float64 \n",
      " 9   N_people    1402 non-null   int64   \n",
      " 10  Dist_roads  1402 non-null   float64 \n",
      " 11  Roads       1402 non-null   object  \n",
      " 12  Rad_dist    1402 non-null   float64 \n",
      " 13  aspect_aus  1402 non-null   float64 \n",
      " 14  dhm_at_lam  1402 non-null   float64 \n",
      " 15  slope_aust  1402 non-null   float64 \n",
      " 16  Veg1        1402 non-null   object  \n",
      " 17  Veg2_1      1402 non-null   object  \n",
      " 18  Veg3_firEU  1402 non-null   object  \n",
      " 19  geometry    1402 non-null   geometry\n",
      "dtypes: float64(8), geometry(1), int64(3), object(8)\n",
      "memory usage: 219.2+ KB\n"
     ]
    }
   ],
   "source": [
    "# print information of wildfire ignition dataset\n",
    "ignition_points.info()"
   ]
  },
  {
   "cell_type": "code",
   "execution_count": 5,
   "metadata": {},
   "outputs": [],
   "source": [
    "# select human caused fires for training dataset creation\n",
    "ignition_points_human = ignition_points[ignition_points[\"Ursache1\"] == \"anthropogen\"]"
   ]
  },
  {
   "cell_type": "code",
   "execution_count": 6,
   "metadata": {},
   "outputs": [],
   "source": [
    "# sample random points from Forest Type layer (non-ignition points) - as many as ignition points\n",
    "nr_points = len(ignition_points_human)\n",
    "non_ignition_points = sample_points(path_to_forest_type_layer, nr_points)"
   ]
  },
  {
   "cell_type": "code",
   "execution_count": null,
   "metadata": {},
   "outputs": [],
   "source": []
  },
  {
   "cell_type": "code",
   "execution_count": null,
   "metadata": {},
   "outputs": [],
   "source": [
    "# prepare fire ignition points for merge\n",
    "ignition_points[\"year\"] = ignition_points.Datum.apply(lambda x: x.split(\"/\")[-1])\n",
    "ignition_points[\"month\"] = ignition_points.Datum.apply(lambda x: x.split(\"/\")[0])"
   ]
  },
  {
   "cell_type": "code",
   "execution_count": null,
   "metadata": {},
   "outputs": [],
   "source": [
    "ignition_points[\"fire\"] = 1\n",
    "\n",
    "# the reference system the data set should be transformed to\n",
    "target_crs = \"EPSG:31287\"\n",
    "ignition_points = ignition_points.to_crs(target_crs)"
   ]
  },
  {
   "cell_type": "code",
   "execution_count": null,
   "metadata": {},
   "outputs": [],
   "source": [
    "# prepare non ignition points for merge\n",
    "non_ignition_points[\"fire\"] = 0\n",
    "non_ignition_points[\"Pufferradi\"] = None"
   ]
  },
  {
   "cell_type": "code",
   "execution_count": null,
   "metadata": {},
   "outputs": [],
   "source": [
    "# sample years according to the occurence distribution in the fire ignition dataset\n",
    "cat_probs = dict(ignition_points[\"month\"].value_counts())\n",
    "categories = list(cat_probs.keys())\n",
    "probabilities = [prob / len(non_ignition_points) for prob in list(cat_probs.values())]"
   ]
  },
  {
   "cell_type": "code",
   "execution_count": null,
   "metadata": {},
   "outputs": [],
   "source": [
    "categories_nr = [int(i) for i in categories]"
   ]
  },
  {
   "cell_type": "code",
   "execution_count": null,
   "metadata": {},
   "outputs": [],
   "source": [
    "month_samples = sample_categories(categories_nr, probabilities, len(non_ignition_points))\n",
    "non_ignition_points[\"month\"] = month_samples\n",
    "non_ignition_points = non_ignition_points.to_crs(target_crs)"
   ]
  },
  {
   "cell_type": "code",
   "execution_count": null,
   "metadata": {},
   "outputs": [],
   "source": [
    "# sample year and day randomly\n"
   ]
  }
 ],
 "metadata": {
  "kernelspec": {
   "display_name": "pymc_env",
   "language": "python",
   "name": "pymc_env"
  },
  "language_info": {
   "codemirror_mode": {
    "name": "ipython",
    "version": 3
   },
   "file_extension": ".py",
   "mimetype": "text/x-python",
   "name": "python",
   "nbconvert_exporter": "python",
   "pygments_lexer": "ipython3",
   "version": "3.11.0"
  }
 },
 "nbformat": 4,
 "nbformat_minor": 2
}
