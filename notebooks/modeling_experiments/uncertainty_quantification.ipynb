{
 "cells": [
  {
   "cell_type": "code",
   "execution_count": 39,
   "metadata": {},
   "outputs": [
    {
     "name": "stdout",
     "output_type": "stream",
     "text": [
      "The autoreload extension is already loaded. To reload it, use:\n",
      "  %reload_ext autoreload\n"
     ]
    }
   ],
   "source": [
    "%load_ext autoreload\n",
    "%autoreload 2"
   ]
  },
  {
   "cell_type": "markdown",
   "metadata": {},
   "source": [
    "### Load libraries and paths"
   ]
  },
  {
   "cell_type": "code",
   "execution_count": 40,
   "metadata": {},
   "outputs": [],
   "source": [
    "import sys\n",
    "sys.path.append(\"../../\")"
   ]
  },
  {
   "cell_type": "code",
   "execution_count": 41,
   "metadata": {},
   "outputs": [],
   "source": [
    "import numpy as np\n",
    "import pandas as pd\n",
    "import geopandas as gpd\n",
    "import pymc as pm \n",
    "import arviz as az\n",
    "import matplotlib.pyplot as plt\n",
    "import cloudpickle\n",
    "import joblib\n",
    "\n",
    "from sklearn.compose import ColumnTransformer\n",
    "from sklearn.preprocessing import StandardScaler, OneHotEncoder\n",
    "from sklearn.metrics import accuracy_score, precision_score, recall_score\n",
    "\n",
    "from config.config import BASE_PATH, PATH_TO_PATH_CONFIG_FILE, PROJECT_EPSG\n",
    "from src.utils import load_paths_from_yaml, replace_base_path\n",
    "from src.modeling.encodings import convert_aspect_to_cardinal_direction, apply_encoding, naturraumregionen_encoding\n",
    "from src.modeling.utils import temporal_train_test_split\n",
    "from src.modeling.bayesian_models import create_st_blr, create_blr, create_bnn \n",
    "from src.modeling.predictions import BinaryClassification, BinaryClassificationBNN"
   ]
  },
  {
   "cell_type": "code",
   "execution_count": 42,
   "metadata": {},
   "outputs": [],
   "source": [
    "paths = load_paths_from_yaml(PATH_TO_PATH_CONFIG_FILE)\n",
    "paths = replace_base_path(paths, BASE_PATH)"
   ]
  },
  {
   "cell_type": "markdown",
   "metadata": {},
   "source": [
    "### Read in data"
   ]
  },
  {
   "cell_type": "code",
   "execution_count": 47,
   "metadata": {},
   "outputs": [],
   "source": [
    "# read in training data\n",
    "training_data = gpd.read_file(paths[\"training_data\"])\n",
    "training_data.date = pd.to_datetime(training_data.date)\n",
    "\n",
    "# read in Naturraumregionen\n",
    "naturraumregionen = gpd.read_file(paths[\"naturraumregionen\"])\n",
    "naturraumregionen.to_crs(PROJECT_EPSG, inplace=True)\n"
   ]
  },
  {
   "cell_type": "code",
   "execution_count": 48,
   "metadata": {},
   "outputs": [
    {
     "name": "stderr",
     "output_type": "stream",
     "text": [
      "c:\\Users\\b1105474\\AppData\\Local\\miniconda3\\envs\\pymc_env\\Lib\\site-packages\\geopandas\\geodataframe.py:1443: SettingWithCopyWarning: \n",
      "A value is trying to be set on a copy of a slice from a DataFrame.\n",
      "Try using .loc[row_indexer,col_indexer] = value instead\n",
      "\n",
      "See the caveats in the documentation: https://pandas.pydata.org/pandas-docs/stable/user_guide/indexing.html#returning-a-view-versus-a-copy\n",
      "  super().__setitem__(key, value)\n"
     ]
    }
   ],
   "source": [
    "# Using only fire samples with low location uncertainty\n",
    "fire_samples = training_data[training_data.fire == 1]\n",
    "non_fire_samples = training_data[training_data.fire == 0]\n",
    "fire_samples.Pufferradi = fire_samples.Pufferradi.astype(\"int\")\n",
    "fire_samples = fire_samples[fire_samples.Pufferradi <= 100]\n",
    "non_fire_samples = non_fire_samples.sample(len(fire_samples))\n",
    "training_data = pd.concat([fire_samples, non_fire_samples])"
   ]
  },
  {
   "cell_type": "markdown",
   "metadata": {},
   "source": [
    "### Data Cleaning & Preparation"
   ]
  },
  {
   "cell_type": "code",
   "execution_count": 49,
   "metadata": {},
   "outputs": [],
   "source": [
    "# rename columns\n",
    "training_data.rename(columns={\"farmyard_d\": \"farmyard_density\", \n",
    "                              \"hiking_ds\": \"hikingtrail_density\", \n",
    "                              \"forest_ds\": \"forestroad_density\", \n",
    "                              \"rail_dens\": \"railway_density\", \n",
    "                              \"foresttype\": \"forest_type\", \n",
    "                              \"pop_dens\": \"population_density\"}, inplace=True)\n",
    "\n",
    "training_data = training_data.sjoin(naturraumregionen.loc[:, [\"EINHEIT\", \"geometry\"]])\n",
    "training_data.drop(columns=[\"index_right\"], inplace=True)\n",
    "\n",
    "# create season column (0 = winter (1,2,3), 1 = spring (4,5,6), 2 = sommer (7,8,9), 3 = winter (10,11,12))\n",
    "training_data[\"season\"] = (training_data.date.dt.month -1) // 3 \n",
    "training_data[\"month\"] = training_data.date.dt.month - 1\n",
    "training_data[\"aspect_encoded\"] = training_data[\"aspect\"].apply(convert_aspect_to_cardinal_direction)\n",
    "training_data[\"naturraumregionen_encoded\"] = training_data[\"EINHEIT\"].apply(apply_encoding, mapping=naturraumregionen_encoding)\n",
    "training_data[\"forest_type\"].fillna(6, inplace=True)\n",
    "training_data[\"forest_type\"] = training_data[\"forest_type\"].astype(int)"
   ]
  },
  {
   "cell_type": "code",
   "execution_count": null,
   "metadata": {},
   "outputs": [],
   "source": []
  },
  {
   "cell_type": "markdown",
   "metadata": {},
   "source": [
    "### Temporal train test split"
   ]
  },
  {
   "cell_type": "code",
   "execution_count": 50,
   "metadata": {},
   "outputs": [],
   "source": [
    "X_train_unprocessed, X_test_unprocessed = temporal_train_test_split(training_data, \"date\", 0.7)\n",
    "y_train, y_test = X_train_unprocessed[\"fire\"], X_test_unprocessed[\"fire\"]"
   ]
  },
  {
   "cell_type": "markdown",
   "metadata": {},
   "source": [
    "### Feature Preprocessing"
   ]
  },
  {
   "cell_type": "code",
   "execution_count": 51,
   "metadata": {},
   "outputs": [],
   "source": [
    "# Define the transformer\n",
    "features_to_scale = ['ffmc', 'farmyard_density',\n",
    "       'hikingtrail_density', 'forestroad_density', 'railway_density',\n",
    "       'elevation', 'slope', 'population_density']\n",
    "passthrough_columns = ['date', 'Pufferradi', 'fire', 'geometry', 'season', 'naturraumregionen_encoded', 'aspect_encoded', 'forest_type', 'month']\n",
    "\n",
    "preprocessor = ColumnTransformer(\n",
    "    transformers=[\n",
    "        ('std_scaler', StandardScaler(), features_to_scale)\n",
    "    ],\n",
    "    remainder='drop',\n",
    ")\n",
    "\n",
    "preprocessor.fit(X_train_unprocessed)\n",
    "train_data_transformed = preprocessor.transform(X_train_unprocessed)\n",
    "test_data_transformed = preprocessor.transform(X_test_unprocessed)\n",
    "joblib.dump(preprocessor, '../../models/blr_preprocessor.pkl')\n",
    "\n",
    "\n",
    "X_train_features_to_scale = pd.DataFrame(train_data_transformed, columns=features_to_scale, index=X_train_unprocessed.index)\n",
    "X_test_features_to_scale = pd.DataFrame(test_data_transformed, columns=features_to_scale, index=X_test_unprocessed.index)\n",
    "\n",
    "X_train = pd.concat([X_train_unprocessed[passthrough_columns], X_train_features_to_scale], axis=1)\n",
    "X_test = pd.concat([X_test_unprocessed[passthrough_columns], X_test_features_to_scale], axis=1)"
   ]
  },
  {
   "cell_type": "code",
   "execution_count": 52,
   "metadata": {},
   "outputs": [],
   "source": [
    "features_bnn_ohe = ['aspect_encoded', 'forest_type']\n",
    "\n",
    "\n",
    "preprocessor = ColumnTransformer(\n",
    "    transformers=[\n",
    "        ('std_scaler', StandardScaler(), features_to_scale),\n",
    "        ('ohe', OneHotEncoder(), features_bnn_ohe)\n",
    "    ],\n",
    "    remainder='drop'\n",
    ")\n",
    "\n",
    "\n",
    "X_train_bnn = preprocessor.fit_transform(X_train_unprocessed)\n",
    "X_test_bnn = preprocessor.transform(X_test_unprocessed)"
   ]
  },
  {
   "cell_type": "markdown",
   "metadata": {},
   "source": [
    "### Modeling"
   ]
  },
  {
   "cell_type": "code",
   "execution_count": 53,
   "metadata": {},
   "outputs": [
    {
     "name": "stdout",
     "output_type": "stream",
     "text": [
      "{'forest_type_classes': [0, 1, 2, 3, 4, 5, 6], 'aspect_classes': [0, 1, 2, 3, 4, 5, 6, 7], 'spatial_groups': [0, 1, 2, 3, 4, 5, 6, 7, 8, 9], 'temporal_groups': [0, 1, 2, 3]}\n"
     ]
    }
   ],
   "source": [
    "coords = {\"forest_type_classes\": list(np.unique(training_data.forest_type)), \n",
    "          \"aspect_classes\": list(np.unique(training_data.aspect_encoded)), \n",
    "          \"spatial_groups\": list(np.unique(training_data.naturraumregionen_encoded)), \n",
    "          \"temporal_groups\": list(np.unique(training_data.season))}\n",
    "print(coords)"
   ]
  },
  {
   "cell_type": "code",
   "execution_count": 62,
   "metadata": {},
   "outputs": [
    {
     "data": {
      "text/html": [
       "\n",
       "<style>\n",
       "    /* Turns off some styling */\n",
       "    progress {\n",
       "        /* gets rid of default border in Firefox and Opera. */\n",
       "        border: none;\n",
       "        /* Needs to be in here for Safari polyfill so background images work as expected. */\n",
       "        background-size: auto;\n",
       "    }\n",
       "    progress:not([value]), progress:not([value])::-webkit-progress-bar {\n",
       "        background: repeating-linear-gradient(45deg, #7e7e7e, #7e7e7e 10px, #5c5c5c 10px, #5c5c5c 20px);\n",
       "    }\n",
       "    .progress-bar-interrupted, .progress-bar-interrupted::-webkit-progress-bar {\n",
       "        background: #F44336;\n",
       "    }\n",
       "</style>\n"
      ],
      "text/plain": [
       "<IPython.core.display.HTML object>"
      ]
     },
     "metadata": {},
     "output_type": "display_data"
    },
    {
     "data": {
      "text/html": [
       "\n",
       "    <div>\n",
       "      <progress value='40000' class='' max='40000' style='width:300px; height:20px; vertical-align: middle;'></progress>\n",
       "      100.00% [40000/40000 00:17&lt;00:00 Average Loss = 223.44]\n",
       "    </div>\n",
       "    "
      ],
      "text/plain": [
       "<IPython.core.display.HTML object>"
      ]
     },
     "metadata": {},
     "output_type": "display_data"
    },
    {
     "name": "stderr",
     "output_type": "stream",
     "text": [
      "Finished [100%]: Average Loss = 223.47\n"
     ]
    },
    {
     "data": {
      "text/html": [
       "\n",
       "<style>\n",
       "    /* Turns off some styling */\n",
       "    progress {\n",
       "        /* gets rid of default border in Firefox and Opera. */\n",
       "        border: none;\n",
       "        /* Needs to be in here for Safari polyfill so background images work as expected. */\n",
       "        background-size: auto;\n",
       "    }\n",
       "    progress:not([value]), progress:not([value])::-webkit-progress-bar {\n",
       "        background: repeating-linear-gradient(45deg, #7e7e7e, #7e7e7e 10px, #5c5c5c 10px, #5c5c5c 20px);\n",
       "    }\n",
       "    .progress-bar-interrupted, .progress-bar-interrupted::-webkit-progress-bar {\n",
       "        background: #F44336;\n",
       "    }\n",
       "</style>\n"
      ],
      "text/plain": [
       "<IPython.core.display.HTML object>"
      ]
     },
     "metadata": {},
     "output_type": "display_data"
    },
    {
     "data": {
      "text/html": [
       "\n",
       "    <div>\n",
       "      <progress value='500' class='' max='500' style='width:300px; height:20px; vertical-align: middle;'></progress>\n",
       "      100.00% [500/500 00:00&lt;00:00]\n",
       "    </div>\n",
       "    "
      ],
      "text/plain": [
       "<IPython.core.display.HTML object>"
      ]
     },
     "metadata": {},
     "output_type": "display_data"
    }
   ],
   "source": [
    "# Create simple Bayesian Log Reg Model\n",
    "model_blr = create_blr(X_train, y_train, coords)\n",
    "\n",
    "with model_blr:\n",
    "    approx = pm.fit(n=20000, random_seed=0)\n",
    "    blr_idata = approx.sample()\n",
    "    #blr_idata = pm.sample()\n",
    "    pm.compute_log_likelihood(blr_idata)"
   ]
  },
  {
   "cell_type": "code",
   "execution_count": 55,
   "metadata": {},
   "outputs": [],
   "source": [
    "# save model\n",
    "pickle_filepath = f'../../models/blr_pickle.pkl'\n",
    "dict_to_save = {'model': model_blr,\n",
    "                'idata': blr_idata\n",
    "                }\n",
    "\n",
    "with open(pickle_filepath , 'wb') as buff:\n",
    "    cloudpickle.dump(dict_to_save, buff)"
   ]
  },
  {
   "cell_type": "code",
   "execution_count": null,
   "metadata": {},
   "outputs": [],
   "source": []
  },
  {
   "cell_type": "code",
   "execution_count": 56,
   "metadata": {},
   "outputs": [
    {
     "name": "stderr",
     "output_type": "stream",
     "text": [
      "Auto-assigning NUTS sampler...\n",
      "Initializing NUTS using jitter+adapt_diag...\n",
      "Multiprocess sampling (2 chains in 2 jobs)\n",
      "NUTS: [mu_b1, sigma_b1, mu_b2, sigma_b2, mu_b3, sigma_b3, mu_b4, sigma_b4, mu_b5, sigma_b5, mu_b6, sigma_b6, mu_b7, sigma_b7, mu_b8, sigma_b8, mu_b9, sigma_b9, mu_b10, sigma_b10, intercept, beta_elevation, beta_slope, beta_aspect, beta_forestroad_density, beta_railway_density, beta_hikingtrail_density, beta_farmyard_density, beta_population, beta_forest_type, beta_ffmc, error_beta]\n"
     ]
    },
    {
     "data": {
      "text/html": [
       "\n",
       "<style>\n",
       "    /* Turns off some styling */\n",
       "    progress {\n",
       "        /* gets rid of default border in Firefox and Opera. */\n",
       "        border: none;\n",
       "        /* Needs to be in here for Safari polyfill so background images work as expected. */\n",
       "        background-size: auto;\n",
       "    }\n",
       "    progress:not([value]), progress:not([value])::-webkit-progress-bar {\n",
       "        background: repeating-linear-gradient(45deg, #7e7e7e, #7e7e7e 10px, #5c5c5c 10px, #5c5c5c 20px);\n",
       "    }\n",
       "    .progress-bar-interrupted, .progress-bar-interrupted::-webkit-progress-bar {\n",
       "        background: #F44336;\n",
       "    }\n",
       "</style>\n"
      ],
      "text/plain": [
       "<IPython.core.display.HTML object>"
      ]
     },
     "metadata": {},
     "output_type": "display_data"
    },
    {
     "data": {
      "text/html": [
       "\n",
       "    <div>\n",
       "      <progress value='4000' class='' max='4000' style='width:300px; height:20px; vertical-align: middle;'></progress>\n",
       "      100.00% [4000/4000 1:56:49&lt;00:00 Sampling 2 chains, 0 divergences]\n",
       "    </div>\n",
       "    "
      ],
      "text/plain": [
       "<IPython.core.display.HTML object>"
      ]
     },
     "metadata": {},
     "output_type": "display_data"
    },
    {
     "name": "stderr",
     "output_type": "stream",
     "text": [
      "Sampling 2 chains for 1_000 tune and 1_000 draw iterations (2_000 + 2_000 draws total) took 7035 seconds.\n"
     ]
    },
    {
     "data": {
      "text/html": [
       "\n",
       "<style>\n",
       "    /* Turns off some styling */\n",
       "    progress {\n",
       "        /* gets rid of default border in Firefox and Opera. */\n",
       "        border: none;\n",
       "        /* Needs to be in here for Safari polyfill so background images work as expected. */\n",
       "        background-size: auto;\n",
       "    }\n",
       "    progress:not([value]), progress:not([value])::-webkit-progress-bar {\n",
       "        background: repeating-linear-gradient(45deg, #7e7e7e, #7e7e7e 10px, #5c5c5c 10px, #5c5c5c 20px);\n",
       "    }\n",
       "    .progress-bar-interrupted, .progress-bar-interrupted::-webkit-progress-bar {\n",
       "        background: #F44336;\n",
       "    }\n",
       "</style>\n"
      ],
      "text/plain": [
       "<IPython.core.display.HTML object>"
      ]
     },
     "metadata": {},
     "output_type": "display_data"
    },
    {
     "data": {
      "text/html": [
       "\n",
       "    <div>\n",
       "      <progress value='2000' class='' max='2000' style='width:300px; height:20px; vertical-align: middle;'></progress>\n",
       "      100.00% [2000/2000 00:01&lt;00:00]\n",
       "    </div>\n",
       "    "
      ],
      "text/plain": [
       "<IPython.core.display.HTML object>"
      ]
     },
     "metadata": {},
     "output_type": "display_data"
    }
   ],
   "source": [
    "# Spatio temporal Bayesian Logistic Regression Model\n",
    "model_st_blr = create_st_blr(X_train, y_train, coords, \"naturraumregionen_encoded\", \"season\")\n",
    "\n",
    "with model_st_blr:\n",
    "    #approx = pm.fit(n=20000, random_seed=0)\n",
    "    #st_blr_idata = approx.sample()\n",
    "    st_blr_idata = pm.sample()\n",
    "    pm.compute_log_likelihood(st_blr_idata)"
   ]
  },
  {
   "cell_type": "code",
   "execution_count": 58,
   "metadata": {},
   "outputs": [
    {
     "data": {
      "text/html": [
       "\n",
       "<style>\n",
       "    /* Turns off some styling */\n",
       "    progress {\n",
       "        /* gets rid of default border in Firefox and Opera. */\n",
       "        border: none;\n",
       "        /* Needs to be in here for Safari polyfill so background images work as expected. */\n",
       "        background-size: auto;\n",
       "    }\n",
       "    progress:not([value]), progress:not([value])::-webkit-progress-bar {\n",
       "        background: repeating-linear-gradient(45deg, #7e7e7e, #7e7e7e 10px, #5c5c5c 10px, #5c5c5c 20px);\n",
       "    }\n",
       "    .progress-bar-interrupted, .progress-bar-interrupted::-webkit-progress-bar {\n",
       "        background: #F44336;\n",
       "    }\n",
       "</style>\n"
      ],
      "text/plain": [
       "<IPython.core.display.HTML object>"
      ]
     },
     "metadata": {},
     "output_type": "display_data"
    },
    {
     "data": {
      "text/html": [
       "\n",
       "    <div>\n",
       "      <progress value='20000' class='' max='20000' style='width:300px; height:20px; vertical-align: middle;'></progress>\n",
       "      100.00% [20000/20000 00:23&lt;00:00 Average Loss = 226.77]\n",
       "    </div>\n",
       "    "
      ],
      "text/plain": [
       "<IPython.core.display.HTML object>"
      ]
     },
     "metadata": {},
     "output_type": "display_data"
    },
    {
     "name": "stderr",
     "output_type": "stream",
     "text": [
      "Finished [100%]: Average Loss = 226.74\n"
     ]
    }
   ],
   "source": [
    "# create bayesian nerural network\n",
    "model_bnn = create_bnn(X_train_bnn, y_train)\n",
    "\n",
    "with model_bnn:\n",
    "    approx = pm.fit(n=20000, random_seed=0)\n",
    "    bnn_idata = approx.sample()\n",
    "    # pm.compute_log_likelihood(bnn_idata)\n"
   ]
  },
  {
   "cell_type": "markdown",
   "metadata": {},
   "source": [
    "### Model Comparison "
   ]
  },
  {
   "cell_type": "code",
   "execution_count": 59,
   "metadata": {},
   "outputs": [
    {
     "name": "stderr",
     "output_type": "stream",
     "text": [
      "c:\\Users\\b1105474\\AppData\\Local\\miniconda3\\envs\\pymc_env\\Lib\\site-packages\\arviz\\stats\\stats.py:1037: RuntimeWarning: overflow encountered in exp\n",
      "  weights = 1 / np.exp(len_scale - len_scale[:, None]).sum(axis=1)\n",
      "c:\\Users\\b1105474\\AppData\\Local\\miniconda3\\envs\\pymc_env\\Lib\\site-packages\\arviz\\stats\\stats.py:803: UserWarning: Estimated shape parameter of Pareto distribution is greater than 0.7 for one or more samples. You should consider using a more robust model, this is because importance sampling is less likely to work well if the marginal posterior and LOO posterior are very different. This is more likely to happen with a non-robust model and highly influential observations.\n",
      "  warnings.warn(\n",
      "c:\\Users\\b1105474\\AppData\\Local\\miniconda3\\envs\\pymc_env\\Lib\\site-packages\\arviz\\stats\\stats.py:803: UserWarning: Estimated shape parameter of Pareto distribution is greater than 0.7 for one or more samples. You should consider using a more robust model, this is because importance sampling is less likely to work well if the marginal posterior and LOO posterior are very different. This is more likely to happen with a non-robust model and highly influential observations.\n",
      "  warnings.warn(\n"
     ]
    },
    {
     "data": {
      "text/html": [
       "<div>\n",
       "<style scoped>\n",
       "    .dataframe tbody tr th:only-of-type {\n",
       "        vertical-align: middle;\n",
       "    }\n",
       "\n",
       "    .dataframe tbody tr th {\n",
       "        vertical-align: top;\n",
       "    }\n",
       "\n",
       "    .dataframe thead th {\n",
       "        text-align: right;\n",
       "    }\n",
       "</style>\n",
       "<table border=\"1\" class=\"dataframe\">\n",
       "  <thead>\n",
       "    <tr style=\"text-align: right;\">\n",
       "      <th></th>\n",
       "      <th>rank</th>\n",
       "      <th>elpd_loo</th>\n",
       "      <th>p_loo</th>\n",
       "      <th>elpd_diff</th>\n",
       "      <th>weight</th>\n",
       "      <th>se</th>\n",
       "      <th>dse</th>\n",
       "      <th>warning</th>\n",
       "      <th>scale</th>\n",
       "    </tr>\n",
       "  </thead>\n",
       "  <tbody>\n",
       "    <tr>\n",
       "      <th>hierarchical</th>\n",
       "      <td>0</td>\n",
       "      <td>-187.799980</td>\n",
       "      <td>43.652662</td>\n",
       "      <td>0.000000</td>\n",
       "      <td>0.639744</td>\n",
       "      <td>14.628049</td>\n",
       "      <td>0.000000</td>\n",
       "      <td>True</td>\n",
       "      <td>log</td>\n",
       "    </tr>\n",
       "    <tr>\n",
       "      <th>pooled</th>\n",
       "      <td>1</td>\n",
       "      <td>-203.344303</td>\n",
       "      <td>27.715313</td>\n",
       "      <td>15.544323</td>\n",
       "      <td>0.360256</td>\n",
       "      <td>19.444950</td>\n",
       "      <td>18.009982</td>\n",
       "      <td>True</td>\n",
       "      <td>log</td>\n",
       "    </tr>\n",
       "  </tbody>\n",
       "</table>\n",
       "</div>"
      ],
      "text/plain": [
       "              rank    elpd_loo      p_loo  elpd_diff    weight         se  \\\n",
       "hierarchical     0 -187.799980  43.652662   0.000000  0.639744  14.628049   \n",
       "pooled           1 -203.344303  27.715313  15.544323  0.360256  19.444950   \n",
       "\n",
       "                    dse  warning scale  \n",
       "hierarchical   0.000000     True   log  \n",
       "pooled        18.009982     True   log  "
      ]
     },
     "execution_count": 59,
     "metadata": {},
     "output_type": "execute_result"
    }
   ],
   "source": [
    "df_comp_loo = az.compare({\"hierarchical\": st_blr_idata, \"pooled\": blr_idata})\n",
    "df_comp_loo"
   ]
  },
  {
   "cell_type": "code",
   "execution_count": null,
   "metadata": {},
   "outputs": [],
   "source": []
  },
  {
   "cell_type": "markdown",
   "metadata": {},
   "source": [
    "### Out-of-sample prediction"
   ]
  },
  {
   "cell_type": "code",
   "execution_count": 63,
   "metadata": {},
   "outputs": [],
   "source": [
    "y_dummy = [0 for i in y_test]\n",
    "X_new_blr = {\n",
    "    \"elevation\": X_test.elevation,\n",
    "    \"slope\": X_test.slope,\n",
    "    \"aspect\": X_test.aspect_encoded,\n",
    "    \"forestroad_density\": X_test.forestroad_density,\n",
    "    \"railway_density\": X_test.railway_density,\n",
    "    \"hikingtrail_density\": X_test.hikingtrail_density,\n",
    "    \"farmyard_density\": X_test.farmyard_density,\n",
    "    \"population\": X_test.population_density,\n",
    "    \"forest_type\": X_test.forest_type,\n",
    "    \"ffmc\": X_test.ffmc,\n",
    "    \"fire\": y_dummy\n",
    "    }\n",
    "\n",
    "X_new_st_blr = X_new_blr.copy()\n",
    "X_new_st_blr[\"spatial_groups_idx\"] = X_test.naturraumregionen_encoded\n",
    "X_new_st_blr[\"temporal_groups_idx\"] = X_test.season"
   ]
  },
  {
   "cell_type": "code",
   "execution_count": 64,
   "metadata": {},
   "outputs": [
    {
     "name": "stderr",
     "output_type": "stream",
     "text": [
      "Sampling: [y_pred]\n"
     ]
    },
    {
     "data": {
      "text/html": [
       "\n",
       "<style>\n",
       "    /* Turns off some styling */\n",
       "    progress {\n",
       "        /* gets rid of default border in Firefox and Opera. */\n",
       "        border: none;\n",
       "        /* Needs to be in here for Safari polyfill so background images work as expected. */\n",
       "        background-size: auto;\n",
       "    }\n",
       "    progress:not([value]), progress:not([value])::-webkit-progress-bar {\n",
       "        background: repeating-linear-gradient(45deg, #7e7e7e, #7e7e7e 10px, #5c5c5c 10px, #5c5c5c 20px);\n",
       "    }\n",
       "    .progress-bar-interrupted, .progress-bar-interrupted::-webkit-progress-bar {\n",
       "        background: #F44336;\n",
       "    }\n",
       "</style>\n"
      ],
      "text/plain": [
       "<IPython.core.display.HTML object>"
      ]
     },
     "metadata": {},
     "output_type": "display_data"
    },
    {
     "data": {
      "text/html": [
       "\n",
       "    <div>\n",
       "      <progress value='500' class='' max='500' style='width:300px; height:20px; vertical-align: middle;'></progress>\n",
       "      100.00% [500/500 00:00&lt;00:00]\n",
       "    </div>\n",
       "    "
      ],
      "text/plain": [
       "<IPython.core.display.HTML object>"
      ]
     },
     "metadata": {},
     "output_type": "display_data"
    },
    {
     "name": "stderr",
     "output_type": "stream",
     "text": [
      "Sampling: [y_pred]\n"
     ]
    },
    {
     "data": {
      "text/html": [
       "\n",
       "<style>\n",
       "    /* Turns off some styling */\n",
       "    progress {\n",
       "        /* gets rid of default border in Firefox and Opera. */\n",
       "        border: none;\n",
       "        /* Needs to be in here for Safari polyfill so background images work as expected. */\n",
       "        background-size: auto;\n",
       "    }\n",
       "    progress:not([value]), progress:not([value])::-webkit-progress-bar {\n",
       "        background: repeating-linear-gradient(45deg, #7e7e7e, #7e7e7e 10px, #5c5c5c 10px, #5c5c5c 20px);\n",
       "    }\n",
       "    .progress-bar-interrupted, .progress-bar-interrupted::-webkit-progress-bar {\n",
       "        background: #F44336;\n",
       "    }\n",
       "</style>\n"
      ],
      "text/plain": [
       "<IPython.core.display.HTML object>"
      ]
     },
     "metadata": {},
     "output_type": "display_data"
    },
    {
     "data": {
      "text/html": [
       "\n",
       "    <div>\n",
       "      <progress value='2000' class='' max='2000' style='width:300px; height:20px; vertical-align: middle;'></progress>\n",
       "      100.00% [2000/2000 00:01&lt;00:00]\n",
       "    </div>\n",
       "    "
      ],
      "text/plain": [
       "<IPython.core.display.HTML object>"
      ]
     },
     "metadata": {},
     "output_type": "display_data"
    },
    {
     "name": "stderr",
     "output_type": "stream",
     "text": [
      "Sampling: [y_pred]\n"
     ]
    },
    {
     "data": {
      "text/html": [
       "\n",
       "<style>\n",
       "    /* Turns off some styling */\n",
       "    progress {\n",
       "        /* gets rid of default border in Firefox and Opera. */\n",
       "        border: none;\n",
       "        /* Needs to be in here for Safari polyfill so background images work as expected. */\n",
       "        background-size: auto;\n",
       "    }\n",
       "    progress:not([value]), progress:not([value])::-webkit-progress-bar {\n",
       "        background: repeating-linear-gradient(45deg, #7e7e7e, #7e7e7e 10px, #5c5c5c 10px, #5c5c5c 20px);\n",
       "    }\n",
       "    .progress-bar-interrupted, .progress-bar-interrupted::-webkit-progress-bar {\n",
       "        background: #F44336;\n",
       "    }\n",
       "</style>\n"
      ],
      "text/plain": [
       "<IPython.core.display.HTML object>"
      ]
     },
     "metadata": {},
     "output_type": "display_data"
    },
    {
     "data": {
      "text/html": [
       "\n",
       "    <div>\n",
       "      <progress value='500' class='' max='500' style='width:300px; height:20px; vertical-align: middle;'></progress>\n",
       "      100.00% [500/500 00:00&lt;00:00]\n",
       "    </div>\n",
       "    "
      ],
      "text/plain": [
       "<IPython.core.display.HTML object>"
      ]
     },
     "metadata": {},
     "output_type": "display_data"
    },
    {
     "name": "stdout",
     "output_type": "stream",
     "text": [
      "BLR Accuracy:  0.7650273224043715\n",
      "BLR Precision:  0.8761061946902655\n",
      "BLR Recall:  0.7734375\n",
      "---------------------------------\n",
      "ST BLR Accuracy:  0.6994535519125683\n",
      "ST BLR Precision:  0.8543689320388349\n",
      "ST BLR Recall:  0.6875\n",
      "---------------------------------\n",
      "BNN Accuracy:  0.7377049180327869\n",
      "BNN Precision:  0.9081632653061225\n",
      "BNN Recall:  0.6953125\n"
     ]
    }
   ],
   "source": [
    "seed = 0\n",
    "\n",
    "# predictions for blr model\n",
    "blr_prediction_obj = BinaryClassification(model_blr, blr_idata, X_new_blr, seed, \"y_pred\", \"p\")\n",
    "blr_prediction_obj.extend_trace()\n",
    "blr_preds = blr_prediction_obj.predict()\n",
    "\n",
    "# predictions for st_blr model\n",
    "st_blr_prediction_obj = BinaryClassification(model_st_blr, st_blr_idata, X_new_st_blr, seed, \"y_pred\", \"p\")\n",
    "st_blr_prediction_obj.extend_trace()\n",
    "st_blr_preds = st_blr_prediction_obj.predict()\n",
    "\n",
    "# predictions for bnn model\n",
    "bnn_prediction_obj = BinaryClassificationBNN(model_bnn, bnn_idata, X_test_bnn, seed, \"y_pred\", \"p\")\n",
    "bnn_prediction_obj.extend_trace()\n",
    "bnn_preds = bnn_prediction_obj.predict()\n",
    "\n",
    "print(\"BLR Accuracy: \", accuracy_score(y_test, blr_preds.y_pred))\n",
    "print(\"BLR Precision: \", precision_score(y_test, blr_preds.y_pred))\n",
    "print(\"BLR Recall: \", recall_score(y_test, blr_preds.y_pred))\n",
    "\n",
    "print(\"---------------------------------\")\n",
    "\n",
    "print(\"ST BLR Accuracy: \", accuracy_score(y_test, st_blr_preds.y_pred))\n",
    "print(\"ST BLR Precision: \", precision_score(y_test, st_blr_preds.y_pred))\n",
    "print(\"ST BLR Recall: \", recall_score(y_test, st_blr_preds.y_pred))\n",
    "\n",
    "print(\"---------------------------------\")\n",
    "\n",
    "print(\"BNN Accuracy: \", accuracy_score(y_test, bnn_preds.y_pred))\n",
    "print(\"BNN Precision: \", precision_score(y_test, bnn_preds.y_pred))\n",
    "print(\"BNN Recall: \", recall_score(y_test, bnn_preds.y_pred))\n"
   ]
  },
  {
   "cell_type": "code",
   "execution_count": null,
   "metadata": {},
   "outputs": [],
   "source": []
  },
  {
   "cell_type": "markdown",
   "metadata": {},
   "source": [
    "### Analyze uncertainty"
   ]
  },
  {
   "cell_type": "markdown",
   "metadata": {},
   "source": [
    "#### Analyze uncertainty of estimated coefficients"
   ]
  },
  {
   "cell_type": "code",
   "execution_count": 22,
   "metadata": {},
   "outputs": [
    {
     "name": "stderr",
     "output_type": "stream",
     "text": [
      "C:\\Users\\b1105474\\AppData\\Local\\Temp\\ipykernel_10988\\2825547375.py:29: FutureWarning: hdi currently interprets 2d data as (draw, shape) but this will change in a future release to (chain, draw) for coherence with other functions\n",
      "  beta_hdi_95 = az.hdi(st_blr_idata.posterior[coeff].mean(axis=(0, 3)).values, hdi_prob=hdi_prob)\n"
     ]
    },
    {
     "data": {
      "image/png": "[encoded data removed]",
      "text/plain": [
       "<Figure size 640x480 with 1 Axes>"
      ]
     },
     "metadata": {},
     "output_type": "display_data"
    }
   ],
   "source": [
    "# beta of aspect \n",
    "aspect_classes = [\"N\", \"NE\", \"E\", \"SE\", \"S\", \"SW\", \"W\", \"NW\"]\n",
    "forest_types = [\"coniferous non pine\", \"coniferous with mixed pine\", \"pine pure\", \"coniferous deciduous mixed with pine\", \n",
    "                \"coniferous_deciduous_mixed_non_pine\", \"deciduous pure\", \"low and no vegetation\"]\n",
    "\n",
    "def plot_beta_per_class(coeff: str, classes: list, xrot: int, hdi_prob: float = 0.95):\n",
    "    betas = st_blr_idata.posterior[coeff].mean(axis=(0, 1, 3, 4)).values\n",
    "    beta_hdi_95 = az.hdi(st_blr_idata.posterior[coeff].mean(axis=(0, 3, 4)).values, hdi_prob=hdi_prob)\n",
    "    plt.vlines(classes, beta_hdi_95[:, 1], beta_hdi_95[:, 0])\n",
    "    plt.scatter(classes, betas)\n",
    "    plt.xticks(rotation=xrot)\n",
    "    plt.show()\n",
    "\n",
    "def plot_beta_per_season(coeff: str, hdi_prob: float = 0.95):\n",
    "    season_types = [\"spring\", \"summer\", \"autumn\", \"winter\"]\n",
    "    coeff_beta = st_blr_idata.posterior[coeff].mean(axis=(0, 1, 2)).values\n",
    "    beta_hdi_95 = az.hdi(st_blr_idata.posterior[coeff].mean(axis=(0, 2)).values, hdi_prob=hdi_prob)\n",
    "    plt.vlines(season_types, beta_hdi_95[:, 1], beta_hdi_95[:, 0])\n",
    "    plt.scatter(season_types, coeff_beta)\n",
    "    plt.show()\n",
    "\n",
    "def plot_beta_per_naturraum(coeff: str, xrot: int, hdi_prob: float = 0.95):\n",
    "    naturräume = ['Pannonische Flach- und Hügelländer', 'Südöstliches Alpenvorland',\n",
    "       'Nördliches Granit- und Gneishochland', 'Nördliches Alpenvorland',\n",
    "       'Östliche Nordalpen', 'Zentralalpen - südöstlicher Teil',\n",
    "       'Klagenfurter Becken', 'Südalpen', 'Zentralalpen - zentraler Teil',\n",
    "       'Mittlere und westliche Nordalpen']\n",
    "    coeff_beta = st_blr_idata.posterior[coeff].mean(axis=(0, 1, 3)).values\n",
    "    beta_hdi_95 = az.hdi(st_blr_idata.posterior[coeff].mean(axis=(0, 3)).values, hdi_prob=hdi_prob)\n",
    "    plt.vlines(naturräume, beta_hdi_95[:, 1], beta_hdi_95[:, 0])\n",
    "    plt.scatter(naturräume, coeff_beta)\n",
    "    plt.xticks(rotation=xrot)\n",
    "    plt.show()\n",
    "    \n",
    "\n",
    "# plot_beta_per_class(\"beta_forest_type\", forest_types, 90)\n",
    "# plot_beta_per_class(\"beta_aspect\", aspect_classes, 0)\n",
    "# plot_beta_per_season(\"beta_population\")\n",
    "plot_beta_per_naturraum(\"beta_population\", 90)\n",
    "# plot_beta_per_season(\"beta_ffmc\")"
   ]
  },
  {
   "cell_type": "code",
   "execution_count": null,
   "metadata": {},
   "outputs": [],
   "source": []
  },
  {
   "cell_type": "markdown",
   "metadata": {},
   "source": [
    "#### Analyze relationship between scores & uncertainties\n"
   ]
  },
  {
   "cell_type": "code",
   "execution_count": 20,
   "metadata": {},
   "outputs": [
    {
     "data": {
      "image/png": "[encoded data removed]",
      "text/plain": [
       "<Figure size 1000x300 with 3 Axes>"
      ]
     },
     "metadata": {},
     "output_type": "display_data"
    }
   ],
   "source": [
    "# Create subplots\n",
    "fig, axs = plt.subplots(1, 3, figsize=(10, 3), sharey=True)\n",
    "\n",
    "# Plot data on each subplot\n",
    "axs[0].scatter(blr_preds.p_pred, blr_preds.hdi_width, color='blue')\n",
    "axs[0].set_title('BLR')\n",
    "\n",
    "axs[1].scatter(st_blr_preds.p_pred, st_blr_preds.hdi_width, color='blue')\n",
    "axs[1].set_title('ST BLR')\n",
    "\n",
    "axs[2].scatter(bnn_preds.p_pred, bnn_preds.hdi_width, color='blue')\n",
    "axs[2].set_title('BNN')\n",
    "\n",
    "# Adjust layout\n",
    "plt.tight_layout()\n",
    "\n",
    "# Show plot\n",
    "plt.show()"
   ]
  },
  {
   "cell_type": "code",
   "execution_count": null,
   "metadata": {},
   "outputs": [],
   "source": []
  },
  {
   "cell_type": "markdown",
   "metadata": {},
   "source": [
    "##### Analyze performance & uncertainty of out-of-sample predictions (per Naturregion & season)"
   ]
  },
  {
   "cell_type": "code",
   "execution_count": 21,
   "metadata": {},
   "outputs": [],
   "source": [
    "def calculate_accuracy(group):\n",
    "    return accuracy_score(group.y_true, group.y_pred)\n",
    "\n",
    "def calculate_precision(group):\n",
    "    return precision_score(group.y_true, group.y_pred)\n",
    "\n",
    "def calculate_recall(group):\n",
    "    return recall_score(group.y_true, group.y_pred)\n",
    "\n",
    "def prepare_prediction_data(pred_df: pd.DataFrame, y_test: pd.Series, training_data: pd.DataFrame):\n",
    "    \"\"\"set index of predictions to match training data and enrich predictions with additional\"\"\"\n",
    "    pred_df.index = y_test.index\n",
    "    pred_df[\"y_true\"] = y_test\n",
    "    pred_df_final = training_data.loc[:, [\"date\", \"Pufferradi\", \"season\", \"naturraumregionen_encoded\", \"geometry\"]].join(pred_df)\n",
    "    pred_df_final.dropna(subset=\"y_true\", inplace=True)\n",
    "    pred_df_final.Pufferradi = pred_df_final.Pufferradi.astype(\"float\")\n",
    "    return pred_df_final\n",
    "\n",
    "def group_prediction_data(pred_df, group_var: str):\n",
    "    \"\"\"group predictions by group_var and calculate performance metrics and mean uncertainty for each group\"\"\"\n",
    "\n",
    "    agg_funcs = {\n",
    "        'y_true': 'count',  \n",
    "        'hdi_width': 'mean',  \n",
    "        'Pufferradi': 'mean',\n",
    "    }\n",
    "\n",
    "    pred_df_grouped = pred_df.groupby(group_var).agg(agg_funcs)\n",
    "    pred_df_grouped.rename(columns={'y_true': 'count', 'hdi_width': 'hdi_width_mean', 'Pufferradi': 'Pufferradi_mean'}, inplace=True)\n",
    "\n",
    "    # Group by specific columns and apply the custom function to two columns\n",
    "    grp_accuracy = pred_df.groupby(group_var).apply(lambda x: calculate_accuracy(x))\n",
    "    grp_precision = pred_df.groupby(group_var).apply(lambda x: calculate_precision(x))\n",
    "    grp_recall = pred_df.groupby(group_var).apply(lambda x: calculate_recall(x))\n",
    "\n",
    "    pred_df_grouped_performance = pd.concat([grp_accuracy, grp_precision, grp_recall], axis=1)\n",
    "    pred_df_grouped_performance.columns = [\"accuracy\", \"precision\", \"recall\"]\n",
    "\n",
    "    pred_df_grouped = pred_df_grouped.join(pred_df_grouped_performance)\n",
    "    return pred_df_grouped"
   ]
  },
  {
   "cell_type": "code",
   "execution_count": 22,
   "metadata": {},
   "outputs": [],
   "source": [
    "blr_pred_df_prep = prepare_prediction_data(blr_preds, y_test, training_data)\n",
    "st_blr_pred_df_prep = prepare_prediction_data(st_blr_preds, y_test, training_data)\n",
    "bnn_pred_df_prep = prepare_prediction_data(bnn_preds, y_test, training_data)\n",
    "\n",
    "# Calculate mean uncertainty and prediction performance for season subgroups\n",
    "blr_pred_df_grouped_season = group_prediction_data(blr_pred_df_prep, \"season\")\n",
    "st_blr_pred_df_grouped_season = group_prediction_data(st_blr_pred_df_prep, \"season\")\n",
    "bnn_pred_df_grouped_season = group_prediction_data(bnn_pred_df_prep, \"season\")\n",
    "\n",
    "# Calculate mean uncertainty and prediction performance for naturregion subgroups\n",
    "blr_pred_df_grouped_naturregion = group_prediction_data(blr_pred_df_prep, \"naturraumregionen_encoded\")\n",
    "st_blr_pred_df_grouped_naturregion = group_prediction_data(st_blr_pred_df_prep, \"naturraumregionen_encoded\")\n",
    "bnn_pred_df_grouped_naturregion = group_prediction_data(bnn_pred_df_prep, \"naturraumregionen_encoded\")\n"
   ]
  },
  {
   "cell_type": "code",
   "execution_count": null,
   "metadata": {},
   "outputs": [],
   "source": []
  },
  {
   "cell_type": "code",
   "execution_count": 28,
   "metadata": {},
   "outputs": [],
   "source": []
  },
  {
   "cell_type": "code",
   "execution_count": 25,
   "metadata": {},
   "outputs": [],
   "source": []
  },
  {
   "cell_type": "code",
   "execution_count": null,
   "metadata": {},
   "outputs": [],
   "source": []
  },
  {
   "cell_type": "code",
   "execution_count": null,
   "metadata": {},
   "outputs": [],
   "source": []
  }
 ],
 "metadata": {
  "kernelspec": {
   "display_name": "Python 3",
   "language": "python",
   "name": "python3"
  },
  "language_info": {
   "codemirror_mode": {
    "name": "ipython",
    "version": 3
   },
   "file_extension": ".py",
   "mimetype": "text/x-python",
   "name": "python",
   "nbconvert_exporter": "python",
   "pygments_lexer": "ipython3",
   "version": "3.11.0"
  }
 },
 "nbformat": 4,
 "nbformat_minor": 2
}
