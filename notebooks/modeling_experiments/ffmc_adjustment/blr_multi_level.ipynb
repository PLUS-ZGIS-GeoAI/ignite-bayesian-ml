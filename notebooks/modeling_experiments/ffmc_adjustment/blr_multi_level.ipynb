{
 "cells": [
  {
   "cell_type": "code",
   "execution_count": 1,
   "metadata": {},
   "outputs": [],
   "source": [
    "%load_ext autoreload\n",
    "%autoreload 2"
   ]
  },
  {
   "cell_type": "code",
   "execution_count": 2,
   "metadata": {},
   "outputs": [],
   "source": [
    "import sys\n",
    "sys.path.append(\"../../../\")"
   ]
  },
  {
   "cell_type": "code",
   "execution_count": 3,
   "metadata": {},
   "outputs": [
    {
     "name": "stderr",
     "output_type": "stream",
     "text": [
      "WARNING (pytensor.tensor.blas): Using NumPy C-API based implementation for BLAS functions.\n"
     ]
    }
   ],
   "source": [
    "import pandas as pd\n",
    "import geopandas as gpd\n",
    "import pymc as pm\n",
    "from sklearn.preprocessing import StandardScaler\n",
    "\n",
    "from config.config import BASE_PATH, PATH_TO_PATH_CONFIG_FILE\n",
    "from src.utils import load_paths_from_yaml, replace_base_path\n",
    "from src.modeling.encodings import (convert_aspect_to_cardinal_direction, \n",
    "                                    convert_canopy_cover_to_classes, \n",
    "                                    convert_ffmc_to_classes)\n",
    "from src.modeling.bayesian_models import (create_model_ffmc_adjustment_aspect, \n",
    "                                          create_model_ffmc_adjustment_foresttype,\n",
    "                                          create_model_ffmc_adjustment_canopy_cover)\n",
    "from src.modeling.utils import temporal_train_test_split, save_model, load_model\n",
    "from src.modeling.predictions import BinaryClassification"
   ]
  },
  {
   "cell_type": "code",
   "execution_count": 4,
   "metadata": {},
   "outputs": [],
   "source": [
    "paths = load_paths_from_yaml(PATH_TO_PATH_CONFIG_FILE)\n",
    "paths = replace_base_path(paths, BASE_PATH)"
   ]
  },
  {
   "cell_type": "code",
   "execution_count": 5,
   "metadata": {},
   "outputs": [],
   "source": [
    "def calculate_diff_beta_ffmc(idata):\n",
    "    abs_diff = idata.posterior.beta_ffmc[0, :] - idata.posterior.mu_b1[0, :]\n",
    "    rel_diff = idata.posterior.beta_ffmc[0, :] / idata.posterior.mu_b1[0, :]\n",
    "    return abs_diff, rel_diff\n",
    "\n",
    "coords = {\"aspect_groups\": [0, 1, 2, 3, 4, 5, 6, 7], \n",
    "          \"foresttype_groups\": [0, 1, 2, 3, 4, 5, 6], \n",
    "          \"canopy_cover_groups\": [0, 1, 2, 3, 4], \n",
    "          \"ffmc_groups\": [0, 1, 2, 3, 4]}"
   ]
  },
  {
   "cell_type": "markdown",
   "metadata": {},
   "source": [
    "### Using all data"
   ]
  },
  {
   "cell_type": "code",
   "execution_count": 6,
   "metadata": {},
   "outputs": [],
   "source": [
    "# read training data\n",
    "train_data = gpd.read_file(paths[\"training_data\"])\n",
    "train_data = train_data.loc[:, [\"ffmc\", \"aspect\", \"foresttype\", \"canopy_cov\", \"fire\", \"date\"]]\n",
    "\n",
    "# data preprocessing\n",
    "# remove entries with missing values in forest type & canopy cover\n",
    "train_data.dropna(inplace=True)\n",
    "train_data[\"foresttype\"] = train_data.foresttype.astype(\"int\")\n",
    "train_data[\"aspect_categorized\"] = train_data.aspect.apply(convert_aspect_to_cardinal_direction).astype(\"int\")\n",
    "train_data[\"canopy_cover_categorized\"] = train_data.canopy_cov.apply(convert_canopy_cover_to_classes).astype(\"int\")\n",
    "train_data[\"ffmc_categorized\"] = train_data.ffmc.apply(convert_ffmc_to_classes).astype(\"int\")\n",
    "\n",
    "# Split data temporally \n",
    "# Older samples (70%) will be used for training; newer samples (30%) will be used for evaluation\n",
    "train_df, test_df = temporal_train_test_split(train_data, \"date\", 0.7)\n",
    "relevant_columns = [\"ffmc\", \"foresttype\", \"aspect_categorized\", \"canopy_cover_categorized\", \"ffmc_categorized\", \"date\"]\n",
    "X_train, y_train = train_df.loc[:, relevant_columns], train_df.loc[:, \"fire\"]\n",
    "X_test, y_test = test_df.loc[:, relevant_columns], test_df.loc[:, \"fire\"]\n",
    "\n",
    "scaler = StandardScaler()\n",
    "X_train[\"ffmc\"] = scaler.fit_transform(X_train[[\"ffmc\"]])\n",
    "X_test[\"ffmc\"] = scaler.transform(X_test[[\"ffmc\"]])\n"
   ]
  },
  {
   "cell_type": "code",
   "execution_count": 10,
   "metadata": {},
   "outputs": [
    {
     "name": "stderr",
     "output_type": "stream",
     "text": [
      "Auto-assigning NUTS sampler...\n",
      "Initializing NUTS using jitter+adapt_diag...\n",
      "Multiprocess sampling (2 chains in 2 jobs)\n",
      "NUTS: [mu_b1, sigma_b1, intercept, beta_ffmc, error_beta]\n"
     ]
    },
    {
     "data": {
      "text/html": [
       "\n",
       "<style>\n",
       "    /* Turns off some styling */\n",
       "    progress {\n",
       "        /* gets rid of default border in Firefox and Opera. */\n",
       "        border: none;\n",
       "        /* Needs to be in here for Safari polyfill so background images work as expected. */\n",
       "        background-size: auto;\n",
       "    }\n",
       "    progress:not([value]), progress:not([value])::-webkit-progress-bar {\n",
       "        background: repeating-linear-gradient(45deg, #7e7e7e, #7e7e7e 10px, #5c5c5c 10px, #5c5c5c 20px);\n",
       "    }\n",
       "    .progress-bar-interrupted, .progress-bar-interrupted::-webkit-progress-bar {\n",
       "        background: #F44336;\n",
       "    }\n",
       "</style>\n"
      ],
      "text/plain": [
       "<IPython.core.display.HTML object>"
      ]
     },
     "metadata": {},
     "output_type": "display_data"
    },
    {
     "data": {
      "text/html": [
       "\n",
       "    <div>\n",
       "      <progress value='6000' class='' max='6000' style='width:300px; height:20px; vertical-align: middle;'></progress>\n",
       "      100.00% [6000/6000 06:31&lt;00:00 Sampling 2 chains, 0 divergences]\n",
       "    </div>\n",
       "    "
      ],
      "text/plain": [
       "<IPython.core.display.HTML object>"
      ]
     },
     "metadata": {},
     "output_type": "display_data"
    },
    {
     "name": "stderr",
     "output_type": "stream",
     "text": [
      "Sampling 2 chains for 1_000 tune and 2_000 draw iterations (2_000 + 4_000 draws total) took 426 seconds.\n",
      "Auto-assigning NUTS sampler...\n",
      "Initializing NUTS using jitter+adapt_diag...\n",
      "Multiprocess sampling (2 chains in 2 jobs)\n",
      "NUTS: [mu_b1, sigma_b1, intercept, beta_ffmc, error_beta]\n"
     ]
    },
    {
     "data": {
      "text/html": [
       "\n",
       "<style>\n",
       "    /* Turns off some styling */\n",
       "    progress {\n",
       "        /* gets rid of default border in Firefox and Opera. */\n",
       "        border: none;\n",
       "        /* Needs to be in here for Safari polyfill so background images work as expected. */\n",
       "        background-size: auto;\n",
       "    }\n",
       "    progress:not([value]), progress:not([value])::-webkit-progress-bar {\n",
       "        background: repeating-linear-gradient(45deg, #7e7e7e, #7e7e7e 10px, #5c5c5c 10px, #5c5c5c 20px);\n",
       "    }\n",
       "    .progress-bar-interrupted, .progress-bar-interrupted::-webkit-progress-bar {\n",
       "        background: #F44336;\n",
       "    }\n",
       "</style>\n"
      ],
      "text/plain": [
       "<IPython.core.display.HTML object>"
      ]
     },
     "metadata": {},
     "output_type": "display_data"
    },
    {
     "data": {
      "text/html": [
       "\n",
       "    <div>\n",
       "      <progress value='6000' class='' max='6000' style='width:300px; height:20px; vertical-align: middle;'></progress>\n",
       "      100.00% [6000/6000 30:34&lt;00:00 Sampling 2 chains, 0 divergences]\n",
       "    </div>\n",
       "    "
      ],
      "text/plain": [
       "<IPython.core.display.HTML object>"
      ]
     },
     "metadata": {},
     "output_type": "display_data"
    },
    {
     "name": "stderr",
     "output_type": "stream",
     "text": [
      "Sampling 2 chains for 1_000 tune and 2_000 draw iterations (2_000 + 4_000 draws total) took 1892 seconds.\n",
      "Auto-assigning NUTS sampler...\n",
      "Initializing NUTS using jitter+adapt_diag...\n",
      "Multiprocess sampling (2 chains in 2 jobs)\n",
      "NUTS: [mu_b1, sigma_b1, intercept, beta_ffmc, error_beta]\n"
     ]
    },
    {
     "data": {
      "text/html": [
       "\n",
       "<style>\n",
       "    /* Turns off some styling */\n",
       "    progress {\n",
       "        /* gets rid of default border in Firefox and Opera. */\n",
       "        border: none;\n",
       "        /* Needs to be in here for Safari polyfill so background images work as expected. */\n",
       "        background-size: auto;\n",
       "    }\n",
       "    progress:not([value]), progress:not([value])::-webkit-progress-bar {\n",
       "        background: repeating-linear-gradient(45deg, #7e7e7e, #7e7e7e 10px, #5c5c5c 10px, #5c5c5c 20px);\n",
       "    }\n",
       "    .progress-bar-interrupted, .progress-bar-interrupted::-webkit-progress-bar {\n",
       "        background: #F44336;\n",
       "    }\n",
       "</style>\n"
      ],
      "text/plain": [
       "<IPython.core.display.HTML object>"
      ]
     },
     "metadata": {},
     "output_type": "display_data"
    },
    {
     "data": {
      "text/html": [
       "\n",
       "    <div>\n",
       "      <progress value='6000' class='' max='6000' style='width:300px; height:20px; vertical-align: middle;'></progress>\n",
       "      100.00% [6000/6000 05:02&lt;00:00 Sampling 2 chains, 0 divergences]\n",
       "    </div>\n",
       "    "
      ],
      "text/plain": [
       "<IPython.core.display.HTML object>"
      ]
     },
     "metadata": {},
     "output_type": "display_data"
    },
    {
     "name": "stderr",
     "output_type": "stream",
     "text": [
      "Sampling 2 chains for 1_000 tune and 2_000 draw iterations (2_000 + 4_000 draws total) took 359 seconds.\n"
     ]
    }
   ],
   "source": [
    "model_ffmc_aspect_all_data = create_model_ffmc_adjustment_aspect(X_train, y_train, coords)\n",
    "model_ffmc_canopy_cover_all_data = create_model_ffmc_adjustment_canopy_cover(X_train, y_train, coords)\n",
    "model_ffmc_forest_type_all_data = create_model_ffmc_adjustment_foresttype(X_train, y_train, coords)\n",
    "\n",
    "with model_ffmc_aspect_all_data:\n",
    "    idata_ffmc_aspect_all_data = pm.sample(2000, target_accept=0.9, random_seed=0)\n",
    "\n",
    "with model_ffmc_canopy_cover_all_data:\n",
    "    idata_ffmc_canopy_cover_all_data = pm.sample(2000, target_accept=0.9, random_seed=0)\n",
    "\n",
    "with model_ffmc_forest_type_all_data:\n",
    "    idata_ffmc_forest_type_all_data = pm.sample(2000, target_accept=0.9, random_seed=0)\n",
    "\n",
    "# save models\n",
    "save_model(\"../../../models/ffmc_adjustment/blr_aspect_all.pkl\", model_ffmc_aspect_all_data, idata_ffmc_aspect_all_data)\n",
    "save_model(\"../../../models/ffmc_adjustment/blr_canopy_cover_all.pkl\", model_ffmc_canopy_cover_all_data, idata_ffmc_canopy_cover_all_data)\n",
    "save_model(\"../../../models/ffmc_adjustment/blr_forest_type_all.pkl\", model_ffmc_forest_type_all_data, idata_ffmc_forest_type_all_data)"
   ]
  },
  {
   "cell_type": "code",
   "execution_count": 12,
   "metadata": {},
   "outputs": [],
   "source": [
    "# load models\n",
    "model_ffmc_aspect_all_data, idata_ffmc_aspect_all_data = load_model(\"../../../models/ffmc_adjustment/blr_aspect_all.pkl\")\n",
    "model_ffmc_canopy_cover_all_data, idata_ffmc_canopy_cover_all_data = load_model(\"../../../models/ffmc_adjustment/blr_canopy_cover_all.pkl\")\n",
    "model_ffmc_forest_type_all_data, idata_ffmc_forest_type_all_data = load_model(\"../../../models/ffmc_adjustment/blr_forest_type_all.pkl\")"
   ]
  },
  {
   "cell_type": "code",
   "execution_count": null,
   "metadata": {},
   "outputs": [],
   "source": []
  },
  {
   "cell_type": "code",
   "execution_count": 16,
   "metadata": {},
   "outputs": [
    {
     "name": "stderr",
     "output_type": "stream",
     "text": [
      "Sampling: [y_pred]\n"
     ]
    },
    {
     "data": {
      "text/html": [
       "\n",
       "<style>\n",
       "    /* Turns off some styling */\n",
       "    progress {\n",
       "        /* gets rid of default border in Firefox and Opera. */\n",
       "        border: none;\n",
       "        /* Needs to be in here for Safari polyfill so background images work as expected. */\n",
       "        background-size: auto;\n",
       "    }\n",
       "    progress:not([value]), progress:not([value])::-webkit-progress-bar {\n",
       "        background: repeating-linear-gradient(45deg, #7e7e7e, #7e7e7e 10px, #5c5c5c 10px, #5c5c5c 20px);\n",
       "    }\n",
       "    .progress-bar-interrupted, .progress-bar-interrupted::-webkit-progress-bar {\n",
       "        background: #F44336;\n",
       "    }\n",
       "</style>\n"
      ],
      "text/plain": [
       "<IPython.core.display.HTML object>"
      ]
     },
     "metadata": {},
     "output_type": "display_data"
    },
    {
     "data": {
      "text/html": [
       "\n",
       "    <div>\n",
       "      <progress value='4000' class='' max='4000' style='width:300px; height:20px; vertical-align: middle;'></progress>\n",
       "      100.00% [4000/4000 00:01&lt;00:00]\n",
       "    </div>\n",
       "    "
      ],
      "text/plain": [
       "<IPython.core.display.HTML object>"
      ]
     },
     "metadata": {},
     "output_type": "display_data"
    }
   ],
   "source": [
    "# Model evaluation\n",
    "y_dummy = [0 for i in y_test]\n",
    "X_new_blr = {\n",
    "    \"aspect_groups_idx\": X_test.aspect_categorized,\n",
    "    \"ffmc\": X_test.ffmc,\n",
    "    \"fire\": y_dummy\n",
    "    }\n",
    "\n",
    "seed = 0\n",
    "\n",
    "# predictions for blr model\n",
    "blr_prediction_obj = BinaryClassification(model_ffmc_aspect_all_data, idata_ffmc_aspect_all_data, X_new_blr, seed, \"y_pred\", \"p\")\n",
    "blr_prediction_obj.extend_trace()\n",
    "blr_preds = blr_prediction_obj.predict()"
   ]
  },
  {
   "cell_type": "code",
   "execution_count": 17,
   "metadata": {},
   "outputs": [
    {
     "data": {
      "text/plain": [
       "0.7168949771689498"
      ]
     },
     "execution_count": 17,
     "metadata": {},
     "output_type": "execute_result"
    }
   ],
   "source": [
    "from sklearn.metrics import accuracy_score\n",
    "accuracy_score(y_test, blr_preds.y_pred)"
   ]
  },
  {
   "cell_type": "code",
   "execution_count": null,
   "metadata": {},
   "outputs": [],
   "source": []
  },
  {
   "cell_type": "code",
   "execution_count": null,
   "metadata": {},
   "outputs": [],
   "source": []
  },
  {
   "cell_type": "markdown",
   "metadata": {},
   "source": [
    "### Using only data with location uncertainty < 250m"
   ]
  },
  {
   "cell_type": "code",
   "execution_count": 70,
   "metadata": {},
   "outputs": [],
   "source": [
    "# read training data\n",
    "train_data = gpd.read_file(paths[\"training_data\"])\n",
    "train_data = train_data.loc[:, [\"ffmc\", \"aspect\", \"foresttype\", \"canopy_cov\", \"fire\", \"date\", \"Pufferradi\"]]\n",
    "\n",
    "# Using only fire samples with low location uncertainty\n",
    "fire_samples = train_data[train_data.fire == 1]\n",
    "non_fire_samples = train_data[train_data.fire == 0]\n",
    "fire_samples.Pufferradi = fire_samples.Pufferradi.astype(\"int\")\n",
    "fire_samples = fire_samples[fire_samples.Pufferradi <= 250]\n",
    "non_fire_samples = non_fire_samples.sample(len(fire_samples))\n",
    "train_data = pd.concat([fire_samples, non_fire_samples])\n",
    "\n",
    "# data preprocessing\n",
    "# remove entries with missing values in forest type & canopy cover\n",
    "train_data.dropna(subset=(\"foresttype\", \"canopy_cov\"), inplace=True)\n",
    "train_data[\"foresttype\"] = train_data.foresttype.astype(\"int\")\n",
    "train_data[\"aspect_categorized\"] = train_data.aspect.apply(convert_aspect_to_cardinal_direction).astype(\"int\")\n",
    "train_data[\"canopy_cover_categorized\"] = train_data.canopy_cov.apply(convert_canopy_cover_to_classes).astype(\"int\")\n",
    "train_data[\"ffmc_categorized\"] = train_data.ffmc.apply(convert_ffmc_to_classes).astype(\"int\")\n",
    "\n",
    "# Split data temporally \n",
    "# Older samples (70%) will be used for training; newer samples (30%) will be used for evaluation\n",
    "train_df, test_df = temporal_train_test_split(train_data, \"date\", 0.7)\n",
    "relevant_columns = [\"ffmc\", \"foresttype\", \"aspect_categorized\", \"canopy_cover_categorized\", \"ffmc_categorized\", \"date\"]\n",
    "X_train, y_train = train_df.loc[:, relevant_columns], train_df.loc[:, \"fire\"]\n",
    "X_test, y_test = test_df.loc[:, relevant_columns], test_df.loc[:, \"fire\"]\n",
    "\n",
    "scaler = StandardScaler()\n",
    "X_train[\"ffmc\"] = scaler.fit_transform(X_train[[\"ffmc\"]])\n",
    "X_test[\"ffmc\"] = scaler.transform(X_test[[\"ffmc\"]])"
   ]
  },
  {
   "cell_type": "code",
   "execution_count": 27,
   "metadata": {},
   "outputs": [
    {
     "name": "stderr",
     "output_type": "stream",
     "text": [
      "Auto-assigning NUTS sampler...\n",
      "Initializing NUTS using jitter+adapt_diag...\n",
      "Multiprocess sampling (2 chains in 2 jobs)\n",
      "NUTS: [mu_b1, sigma_b1, intercept, beta_ffmc, error_beta]\n"
     ]
    },
    {
     "data": {
      "text/html": [
       "\n",
       "<style>\n",
       "    /* Turns off some styling */\n",
       "    progress {\n",
       "        /* gets rid of default border in Firefox and Opera. */\n",
       "        border: none;\n",
       "        /* Needs to be in here for Safari polyfill so background images work as expected. */\n",
       "        background-size: auto;\n",
       "    }\n",
       "    progress:not([value]), progress:not([value])::-webkit-progress-bar {\n",
       "        background: repeating-linear-gradient(45deg, #7e7e7e, #7e7e7e 10px, #5c5c5c 10px, #5c5c5c 20px);\n",
       "    }\n",
       "    .progress-bar-interrupted, .progress-bar-interrupted::-webkit-progress-bar {\n",
       "        background: #F44336;\n",
       "    }\n",
       "</style>\n"
      ],
      "text/plain": [
       "<IPython.core.display.HTML object>"
      ]
     },
     "metadata": {},
     "output_type": "display_data"
    },
    {
     "data": {
      "text/html": [
       "\n",
       "    <div>\n",
       "      <progress value='6000' class='' max='6000' style='width:300px; height:20px; vertical-align: middle;'></progress>\n",
       "      100.00% [6000/6000 02:48&lt;00:00 Sampling 2 chains, 0 divergences]\n",
       "    </div>\n",
       "    "
      ],
      "text/plain": [
       "<IPython.core.display.HTML object>"
      ]
     },
     "metadata": {},
     "output_type": "display_data"
    },
    {
     "name": "stderr",
     "output_type": "stream",
     "text": [
      "Sampling 2 chains for 1_000 tune and 2_000 draw iterations (2_000 + 4_000 draws total) took 214 seconds.\n",
      "Auto-assigning NUTS sampler...\n",
      "Initializing NUTS using jitter+adapt_diag...\n",
      "Multiprocess sampling (2 chains in 2 jobs)\n",
      "NUTS: [mu_b1, sigma_b1, intercept, beta_ffmc, error_beta]\n"
     ]
    },
    {
     "data": {
      "text/html": [
       "\n",
       "<style>\n",
       "    /* Turns off some styling */\n",
       "    progress {\n",
       "        /* gets rid of default border in Firefox and Opera. */\n",
       "        border: none;\n",
       "        /* Needs to be in here for Safari polyfill so background images work as expected. */\n",
       "        background-size: auto;\n",
       "    }\n",
       "    progress:not([value]), progress:not([value])::-webkit-progress-bar {\n",
       "        background: repeating-linear-gradient(45deg, #7e7e7e, #7e7e7e 10px, #5c5c5c 10px, #5c5c5c 20px);\n",
       "    }\n",
       "    .progress-bar-interrupted, .progress-bar-interrupted::-webkit-progress-bar {\n",
       "        background: #F44336;\n",
       "    }\n",
       "</style>\n"
      ],
      "text/plain": [
       "<IPython.core.display.HTML object>"
      ]
     },
     "metadata": {},
     "output_type": "display_data"
    },
    {
     "data": {
      "text/html": [
       "\n",
       "    <div>\n",
       "      <progress value='6000' class='' max='6000' style='width:300px; height:20px; vertical-align: middle;'></progress>\n",
       "      100.00% [6000/6000 09:15&lt;00:00 Sampling 2 chains, 0 divergences]\n",
       "    </div>\n",
       "    "
      ],
      "text/plain": [
       "<IPython.core.display.HTML object>"
      ]
     },
     "metadata": {},
     "output_type": "display_data"
    },
    {
     "name": "stderr",
     "output_type": "stream",
     "text": [
      "Sampling 2 chains for 1_000 tune and 2_000 draw iterations (2_000 + 4_000 draws total) took 597 seconds.\n",
      "Auto-assigning NUTS sampler...\n",
      "Initializing NUTS using jitter+adapt_diag...\n",
      "Multiprocess sampling (2 chains in 2 jobs)\n",
      "NUTS: [mu_b1, sigma_b1, intercept, beta_ffmc, error_beta]\n"
     ]
    },
    {
     "data": {
      "text/html": [
       "\n",
       "<style>\n",
       "    /* Turns off some styling */\n",
       "    progress {\n",
       "        /* gets rid of default border in Firefox and Opera. */\n",
       "        border: none;\n",
       "        /* Needs to be in here for Safari polyfill so background images work as expected. */\n",
       "        background-size: auto;\n",
       "    }\n",
       "    progress:not([value]), progress:not([value])::-webkit-progress-bar {\n",
       "        background: repeating-linear-gradient(45deg, #7e7e7e, #7e7e7e 10px, #5c5c5c 10px, #5c5c5c 20px);\n",
       "    }\n",
       "    .progress-bar-interrupted, .progress-bar-interrupted::-webkit-progress-bar {\n",
       "        background: #F44336;\n",
       "    }\n",
       "</style>\n"
      ],
      "text/plain": [
       "<IPython.core.display.HTML object>"
      ]
     },
     "metadata": {},
     "output_type": "display_data"
    },
    {
     "data": {
      "text/html": [
       "\n",
       "    <div>\n",
       "      <progress value='6000' class='' max='6000' style='width:300px; height:20px; vertical-align: middle;'></progress>\n",
       "      100.00% [6000/6000 03:15&lt;00:00 Sampling 2 chains, 0 divergences]\n",
       "    </div>\n",
       "    "
      ],
      "text/plain": [
       "<IPython.core.display.HTML object>"
      ]
     },
     "metadata": {},
     "output_type": "display_data"
    },
    {
     "name": "stderr",
     "output_type": "stream",
     "text": [
      "Sampling 2 chains for 1_000 tune and 2_000 draw iterations (2_000 + 4_000 draws total) took 232 seconds.\n"
     ]
    }
   ],
   "source": [
    "model_ffmc_aspect_250m = create_model_ffmc_adjustment_aspect(X_train, y_train, coords)\n",
    "model_ffmc_canopy_cover_250m = create_model_ffmc_adjustment_canopy_cover(X_train, y_train, coords)\n",
    "model_ffmc_forest_type_250m = create_model_ffmc_adjustment_foresttype(X_train, y_train, coords)\n",
    "\n",
    "with model_ffmc_aspect_250m:\n",
    "    idata_ffmc_aspect_250m = pm.sample(2000, target_accept=0.9, random_seed=0)\n",
    "\n",
    "with model_ffmc_canopy_cover_250m:\n",
    "    idata_ffmc_canopy_cover_250m = pm.sample(2000, target_accept=0.9, random_seed=0)\n",
    "\n",
    "with model_ffmc_forest_type_250m:\n",
    "    idata_ffmc_forest_type_250m = pm.sample(2000, target_accept=0.9, random_seed=0)\n",
    "\n",
    "save_model(\"../../../models/ffmc_adjustment/blr_aspect_250m.pkl\", model_ffmc_aspect_250m, idata_ffmc_aspect_250m)\n",
    "save_model(\"../../../models/ffmc_adjustment/blr_canopy_cover_250m.pkl\", model_ffmc_canopy_cover_250m, idata_ffmc_canopy_cover_250m)\n",
    "save_model(\"../../../models/ffmc_adjustment/blr_forest_type_250m.pkl\", model_ffmc_forest_type_250m, idata_ffmc_forest_type_250m)\n"
   ]
  },
  {
   "cell_type": "code",
   "execution_count": 76,
   "metadata": {},
   "outputs": [],
   "source": [
    "model_ffmc_aspect_250m, idata_ffmc_aspect_250m = load_model(\"../../../models/ffmc_adjustment/blr_aspect_250m.pkl\")\n",
    "model_ffmc_canopy_cover_250m, idata_ffmc_canopy_cover_250m = load_model(\"../../../models/ffmc_adjustment/blr_canopy_cover_250m.pkl\")\n",
    "model_ffmc_forest_type_250m, idata_ffmc_forest_type_250m = load_model(\"../../../models/ffmc_adjustment/blr_forest_type_250m.pkl\")"
   ]
  },
  {
   "cell_type": "code",
   "execution_count": 83,
   "metadata": {},
   "outputs": [
    {
     "ename": "KeyError",
     "evalue": "'aspect_categorized'",
     "output_type": "error",
     "traceback": [
      "\u001b[1;31m---------------------------------------------------------------------------\u001b[0m",
      "\u001b[1;31mKeyError\u001b[0m                                  Traceback (most recent call last)",
      "File \u001b[1;32mc:\\Users\\b1105474\\AppData\\Local\\miniconda3\\envs\\pymc_env\\Lib\\site-packages\\pymc\\model.py:1585\u001b[0m, in \u001b[0;36mModel.__getitem__\u001b[1;34m(self, key)\u001b[0m\n\u001b[0;32m   1584\u001b[0m \u001b[38;5;28;01mtry\u001b[39;00m:\n\u001b[1;32m-> 1585\u001b[0m     \u001b[38;5;28;01mreturn\u001b[39;00m \u001b[38;5;28;43mself\u001b[39;49m\u001b[38;5;241;43m.\u001b[39;49m\u001b[43mnamed_vars\u001b[49m\u001b[43m[\u001b[49m\u001b[38;5;28;43mself\u001b[39;49m\u001b[38;5;241;43m.\u001b[39;49m\u001b[43mname_for\u001b[49m\u001b[43m(\u001b[49m\u001b[43mkey\u001b[49m\u001b[43m)\u001b[49m\u001b[43m]\u001b[49m\n\u001b[0;32m   1586\u001b[0m \u001b[38;5;28;01mexcept\u001b[39;00m \u001b[38;5;167;01mKeyError\u001b[39;00m:\n",
      "\u001b[1;31mKeyError\u001b[0m: 'aspect_categorized'",
      "\nDuring handling of the above exception, another exception occurred:\n",
      "\u001b[1;31mKeyError\u001b[0m                                  Traceback (most recent call last)",
      "Cell \u001b[1;32mIn[83], line 20\u001b[0m\n\u001b[0;32m     13\u001b[0m \u001b[38;5;66;03m# predictions for blr model\u001b[39;00m\n\u001b[0;32m     14\u001b[0m \u001b[38;5;66;03m# blr_prediction_obj = BinaryClassification(model_ffmc_aspect_250m, idata_ffmc_aspect_250m, X_new_blr, seed, \"y_pred\", \"p\")\u001b[39;00m\n\u001b[0;32m     15\u001b[0m \u001b[38;5;66;03m# blr_prediction_obj.extend_trace()\u001b[39;00m\n\u001b[0;32m     16\u001b[0m \u001b[38;5;66;03m# blr_preds = blr_prediction_obj.predict()\u001b[39;00m\n\u001b[0;32m     17\u001b[0m \n\u001b[0;32m     18\u001b[0m \u001b[38;5;66;03m# predictions for blr model\u001b[39;00m\n\u001b[0;32m     19\u001b[0m blr_prediction_obj \u001b[38;5;241m=\u001b[39m BinaryClassification(model_ffmc_forest_type_250m, idata_ffmc_forest_type_250m, X_new_blr, seed, \u001b[38;5;124m\"\u001b[39m\u001b[38;5;124my_pred\u001b[39m\u001b[38;5;124m\"\u001b[39m, \u001b[38;5;124m\"\u001b[39m\u001b[38;5;124mp\u001b[39m\u001b[38;5;124m\"\u001b[39m)\n\u001b[1;32m---> 20\u001b[0m \u001b[43mblr_prediction_obj\u001b[49m\u001b[38;5;241;43m.\u001b[39;49m\u001b[43mextend_trace\u001b[49m\u001b[43m(\u001b[49m\u001b[43m)\u001b[49m\n\u001b[0;32m     21\u001b[0m blr_preds \u001b[38;5;241m=\u001b[39m blr_prediction_obj\u001b[38;5;241m.\u001b[39mpredict()\n",
      "File \u001b[1;32mc:\\Users\\b1105474\\OneDrive - Universität Salzburg\\Gitlab_Projects\\ignite-wildfire-ignition-prediction\\notebooks\\modeling_experiments\\ffmc_adjustment\\../../..\\src\\modeling\\predictions.py:28\u001b[0m, in \u001b[0;36mBayesianPrediction.extend_trace\u001b[1;34m(self)\u001b[0m\n\u001b[0;32m     25\u001b[0m trace_new \u001b[38;5;241m=\u001b[39m \u001b[38;5;28mself\u001b[39m\u001b[38;5;241m.\u001b[39mtrace\u001b[38;5;241m.\u001b[39mcopy()\n\u001b[0;32m     27\u001b[0m \u001b[38;5;28;01mwith\u001b[39;00m \u001b[38;5;28mself\u001b[39m\u001b[38;5;241m.\u001b[39mmodel:\n\u001b[1;32m---> 28\u001b[0m     \u001b[43mpm\u001b[49m\u001b[38;5;241;43m.\u001b[39;49m\u001b[43mset_data\u001b[49m\u001b[43m(\u001b[49m\u001b[38;5;28;43mself\u001b[39;49m\u001b[38;5;241;43m.\u001b[39;49m\u001b[43mx_new\u001b[49m\u001b[43m)\u001b[49m\n\u001b[0;32m     29\u001b[0m     ppc \u001b[38;5;241m=\u001b[39m pm\u001b[38;5;241m.\u001b[39msample_posterior_predictive(\n\u001b[0;32m     30\u001b[0m         trace_new, var_names\u001b[38;5;241m=\u001b[39m\u001b[38;5;28mself\u001b[39m\u001b[38;5;241m.\u001b[39mvar_names_pred, random_seed\u001b[38;5;241m=\u001b[39m\u001b[38;5;28mself\u001b[39m\u001b[38;5;241m.\u001b[39mseed)\n\u001b[0;32m     31\u001b[0m     trace_new\u001b[38;5;241m.\u001b[39mextend(ppc)\n",
      "File \u001b[1;32mc:\\Users\\b1105474\\AppData\\Local\\miniconda3\\envs\\pymc_env\\Lib\\site-packages\\pymc\\model.py:1885\u001b[0m, in \u001b[0;36mset_data\u001b[1;34m(new_data, model, coords)\u001b[0m\n\u001b[0;32m   1882\u001b[0m model \u001b[38;5;241m=\u001b[39m modelcontext(model)\n\u001b[0;32m   1884\u001b[0m \u001b[38;5;28;01mfor\u001b[39;00m variable_name, new_value \u001b[38;5;129;01min\u001b[39;00m new_data\u001b[38;5;241m.\u001b[39mitems():\n\u001b[1;32m-> 1885\u001b[0m     \u001b[43mmodel\u001b[49m\u001b[38;5;241;43m.\u001b[39;49m\u001b[43mset_data\u001b[49m\u001b[43m(\u001b[49m\u001b[43mvariable_name\u001b[49m\u001b[43m,\u001b[49m\u001b[43m \u001b[49m\u001b[43mnew_value\u001b[49m\u001b[43m,\u001b[49m\u001b[43m \u001b[49m\u001b[43mcoords\u001b[49m\u001b[38;5;241;43m=\u001b[39;49m\u001b[43mcoords\u001b[49m\u001b[43m)\u001b[49m\n",
      "File \u001b[1;32mc:\\Users\\b1105474\\AppData\\Local\\miniconda3\\envs\\pymc_env\\Lib\\site-packages\\pymc\\model.py:1171\u001b[0m, in \u001b[0;36mModel.set_data\u001b[1;34m(self, name, values, coords)\u001b[0m\n\u001b[0;32m   1149\u001b[0m \u001b[38;5;28;01mdef\u001b[39;00m \u001b[38;5;21mset_data\u001b[39m(\n\u001b[0;32m   1150\u001b[0m     \u001b[38;5;28mself\u001b[39m,\n\u001b[0;32m   1151\u001b[0m     name: \u001b[38;5;28mstr\u001b[39m,\n\u001b[0;32m   1152\u001b[0m     values: Dict[\u001b[38;5;28mstr\u001b[39m, Optional[Sequence]],\n\u001b[0;32m   1153\u001b[0m     coords: Optional[Dict[\u001b[38;5;28mstr\u001b[39m, Sequence]] \u001b[38;5;241m=\u001b[39m \u001b[38;5;28;01mNone\u001b[39;00m,\n\u001b[0;32m   1154\u001b[0m ):\n\u001b[0;32m   1155\u001b[0m \u001b[38;5;250m    \u001b[39m\u001b[38;5;124;03m\"\"\"Changes the values of a data variable in the model.\u001b[39;00m\n\u001b[0;32m   1156\u001b[0m \n\u001b[0;32m   1157\u001b[0m \u001b[38;5;124;03m    In contrast to pm.MutableData().set_value, this method can also\u001b[39;00m\n\u001b[1;32m   (...)\u001b[0m\n\u001b[0;32m   1169\u001b[0m \u001b[38;5;124;03m        and already have coordinate values.\u001b[39;00m\n\u001b[0;32m   1170\u001b[0m \u001b[38;5;124;03m    \"\"\"\u001b[39;00m\n\u001b[1;32m-> 1171\u001b[0m     shared_object \u001b[38;5;241m=\u001b[39m \u001b[38;5;28;43mself\u001b[39;49m\u001b[43m[\u001b[49m\u001b[43mname\u001b[49m\u001b[43m]\u001b[49m\n\u001b[0;32m   1172\u001b[0m     \u001b[38;5;28;01mif\u001b[39;00m \u001b[38;5;129;01mnot\u001b[39;00m \u001b[38;5;28misinstance\u001b[39m(shared_object, SharedVariable):\n\u001b[0;32m   1173\u001b[0m         \u001b[38;5;28;01mraise\u001b[39;00m \u001b[38;5;167;01mTypeError\u001b[39;00m(\n\u001b[0;32m   1174\u001b[0m             \u001b[38;5;124mf\u001b[39m\u001b[38;5;124m\"\u001b[39m\u001b[38;5;124mThe variable `\u001b[39m\u001b[38;5;132;01m{\u001b[39;00mname\u001b[38;5;132;01m}\u001b[39;00m\u001b[38;5;124m` must be a `SharedVariable`\u001b[39m\u001b[38;5;124m\"\u001b[39m\n\u001b[0;32m   1175\u001b[0m             \u001b[38;5;124m\"\u001b[39m\u001b[38;5;124m (created through `pm.MutableData()` or `pm.Data(mutable=True)`) to allow updating. \u001b[39m\u001b[38;5;124m\"\u001b[39m\n\u001b[0;32m   1176\u001b[0m             \u001b[38;5;124mf\u001b[39m\u001b[38;5;124m\"\u001b[39m\u001b[38;5;124mThe current type is: \u001b[39m\u001b[38;5;132;01m{\u001b[39;00m\u001b[38;5;28mtype\u001b[39m(shared_object)\u001b[38;5;132;01m}\u001b[39;00m\u001b[38;5;124m\"\u001b[39m\n\u001b[0;32m   1177\u001b[0m         )\n",
      "File \u001b[1;32mc:\\Users\\b1105474\\AppData\\Local\\miniconda3\\envs\\pymc_env\\Lib\\site-packages\\pymc\\model.py:1587\u001b[0m, in \u001b[0;36mModel.__getitem__\u001b[1;34m(self, key)\u001b[0m\n\u001b[0;32m   1585\u001b[0m     \u001b[38;5;28;01mreturn\u001b[39;00m \u001b[38;5;28mself\u001b[39m\u001b[38;5;241m.\u001b[39mnamed_vars[\u001b[38;5;28mself\u001b[39m\u001b[38;5;241m.\u001b[39mname_for(key)]\n\u001b[0;32m   1586\u001b[0m \u001b[38;5;28;01mexcept\u001b[39;00m \u001b[38;5;167;01mKeyError\u001b[39;00m:\n\u001b[1;32m-> 1587\u001b[0m     \u001b[38;5;28;01mraise\u001b[39;00m e\n",
      "File \u001b[1;32mc:\\Users\\b1105474\\AppData\\Local\\miniconda3\\envs\\pymc_env\\Lib\\site-packages\\pymc\\model.py:1582\u001b[0m, in \u001b[0;36mModel.__getitem__\u001b[1;34m(self, key)\u001b[0m\n\u001b[0;32m   1580\u001b[0m \u001b[38;5;28;01mdef\u001b[39;00m \u001b[38;5;21m__getitem__\u001b[39m(\u001b[38;5;28mself\u001b[39m, key):\n\u001b[0;32m   1581\u001b[0m     \u001b[38;5;28;01mtry\u001b[39;00m:\n\u001b[1;32m-> 1582\u001b[0m         \u001b[38;5;28;01mreturn\u001b[39;00m \u001b[38;5;28;43mself\u001b[39;49m\u001b[38;5;241;43m.\u001b[39;49m\u001b[43mnamed_vars\u001b[49m\u001b[43m[\u001b[49m\u001b[43mkey\u001b[49m\u001b[43m]\u001b[49m\n\u001b[0;32m   1583\u001b[0m     \u001b[38;5;28;01mexcept\u001b[39;00m \u001b[38;5;167;01mKeyError\u001b[39;00m \u001b[38;5;28;01mas\u001b[39;00m e:\n\u001b[0;32m   1584\u001b[0m         \u001b[38;5;28;01mtry\u001b[39;00m:\n",
      "\u001b[1;31mKeyError\u001b[0m: 'aspect_categorized'"
     ]
    }
   ],
   "source": [
    "# Model evaluation\n",
    "y_dummy = [0 for i in y_test]\n",
    "X_new_blr = {\n",
    "    \"aspect_categorized\": X_test.aspect_categorized,\n",
    "    \"canopy_cover_categorized\": X_test.canopy_cover_categorized,\n",
    "    \"foresttype\": X_test.foresttype,\n",
    "    \"ffmc\": X_test.ffmc,\n",
    "    \"fire\": y_dummy\n",
    "    }\n",
    "\n",
    "seed = 0\n",
    "\n",
    "# predictions for blr model\n",
    "# blr_prediction_obj = BinaryClassification(model_ffmc_aspect_250m, idata_ffmc_aspect_250m, X_new_blr, seed, \"y_pred\", \"p\")\n",
    "# blr_prediction_obj.extend_trace()\n",
    "# blr_preds = blr_prediction_obj.predict()\n",
    "\n",
    "# predictions for blr model\n",
    "blr_prediction_obj = BinaryClassification(model_ffmc_forest_type_250m, idata_ffmc_forest_type_250m, X_new_blr, seed, \"y_pred\", \"p\")\n",
    "blr_prediction_obj.extend_trace()\n",
    "blr_preds = blr_prediction_obj.predict()"
   ]
  },
  {
   "cell_type": "code",
   "execution_count": null,
   "metadata": {},
   "outputs": [],
   "source": []
  },
  {
   "cell_type": "markdown",
   "metadata": {},
   "source": [
    "### FFMC Adjustment"
   ]
  },
  {
   "cell_type": "code",
   "execution_count": 82,
   "metadata": {},
   "outputs": [],
   "source": [
    "abs_diff_ffmc_beta_cc_all, abs_diff_ffmc_beta_cc_rel = calculate_diff_beta_ffmc(idata_ffmc_canopy_cover_all_data)\n",
    "abs_diff_ffmc_beta_aspect_all, abs_diff_ffmc_beta_aspect_rel = calculate_diff_beta_ffmc(idata_ffmc_aspect_all_data)\n",
    "abs_diff_ffmc_beta_ft_all, abs_diff_ffmc_beta_ft_rel = calculate_diff_beta_ffmc(idata_ffmc_forest_type_all_data)\n",
    "\n",
    "abs_diff_ffmc_beta_cc_250m,  rel_diff_ffmc_beta_cc_250m = calculate_diff_beta_ffmc(idata_ffmc_canopy_cover_250m)\n",
    "abs_diff_ffmc_beta_aspect_250m, rel_diff_ffmc_beta_aspect_250m = calculate_diff_beta_ffmc(idata_ffmc_aspect_250m)\n",
    "abs_diff_ffmc_beta_ft_250m, rel_diff_ffmc_beta_ft_250m = calculate_diff_beta_ffmc(idata_ffmc_forest_type_250m)"
   ]
  },
  {
   "cell_type": "code",
   "execution_count": null,
   "metadata": {},
   "outputs": [],
   "source": []
  }
 ],
 "metadata": {
  "kernelspec": {
   "display_name": "Python 3",
   "language": "python",
   "name": "python3"
  },
  "language_info": {
   "codemirror_mode": {
    "name": "ipython",
    "version": 3
   },
   "file_extension": ".py",
   "mimetype": "text/x-python",
   "name": "python",
   "nbconvert_exporter": "python",
   "pygments_lexer": "ipython3",
   "version": "3.11.0"
  }
 },
 "nbformat": 4,
 "nbformat_minor": 2
}
