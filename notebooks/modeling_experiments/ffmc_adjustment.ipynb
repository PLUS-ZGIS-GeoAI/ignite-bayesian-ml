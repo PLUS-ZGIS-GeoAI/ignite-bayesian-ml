{
 "cells": [
  {
   "cell_type": "code",
   "execution_count": 1,
   "metadata": {},
   "outputs": [],
   "source": [
    "%load_ext autoreload\n",
    "%autoreload 2"
   ]
  },
  {
   "cell_type": "code",
   "execution_count": 2,
   "metadata": {},
   "outputs": [],
   "source": [
    "import sys\n",
    "sys.path.append(\"../../\")"
   ]
  },
  {
   "cell_type": "code",
   "execution_count": 3,
   "metadata": {},
   "outputs": [
    {
     "name": "stderr",
     "output_type": "stream",
     "text": [
      "WARNING (pytensor.tensor.blas): Using NumPy C-API based implementation for BLAS functions.\n"
     ]
    }
   ],
   "source": [
    "import geopandas as gpd\n",
    "import pymc as pm\n",
    "import arviz as az\n",
    "import matplotlib.pyplot as plt\n",
    "from sklearn.preprocessing import StandardScaler\n",
    "\n",
    "from config.config import BASE_PATH, PATH_TO_PATH_CONFIG_FILE\n",
    "from src.utils import load_paths_from_yaml, replace_base_path\n",
    "from src.modeling.encodings import convert_aspect_to_cardinal_direction, convert_canopy_cover_to_classes, convert_ffmc_to_classes\n",
    "from src.modeling.bayesian_models import (create_model_ffmc_adjustment_aspect, \n",
    "                                          create_model_ffmc_adjustment_foresttype,\n",
    "                                          create_model_ffmc_adjustment_canopy_cover)\n",
    "from src.modeling.utils import temporal_train_test_split"
   ]
  },
  {
   "cell_type": "code",
   "execution_count": 4,
   "metadata": {},
   "outputs": [],
   "source": [
    "\n",
    "paths = load_paths_from_yaml(PATH_TO_PATH_CONFIG_FILE)\n",
    "paths = replace_base_path(paths, BASE_PATH)"
   ]
  },
  {
   "cell_type": "code",
   "execution_count": 30,
   "metadata": {},
   "outputs": [],
   "source": [
    "# read training data\n",
    "train_data = gpd.read_file(paths[\"training_data\"])\n",
    "train_data = train_data.loc[:, [\"ffmc\", \"aspect\", \"foresttype\", \"canopy_cov\", \"fire\", \"date\"]]\n"
   ]
  },
  {
   "cell_type": "code",
   "execution_count": 33,
   "metadata": {},
   "outputs": [],
   "source": [
    "# data preprocessing\n",
    "train_data.dropna(inplace=True)\n",
    "train_data[\"foresttype\"] = train_data.foresttype.astype(\"int\")\n",
    "train_data[\"aspect_categorized\"] = train_data.aspect.apply(convert_aspect_to_cardinal_direction).astype(\"int\")\n",
    "train_data[\"canopy_cover_categorized\"] = train_data.canopy_cov.apply(convert_canopy_cover_to_classes).astype(\"int\")\n"
   ]
  },
  {
   "cell_type": "code",
   "execution_count": 34,
   "metadata": {},
   "outputs": [],
   "source": [
    "coords = {\"aspect_groups\": [0, 1, 2, 3, 4, 5, 6, 7], \n",
    "          \"foresttype_groups\": [0, 1, 2, 3, 4, 5, 6], \n",
    "          \"canopy_cover_groups\": [0, 1, 2, 3, 4]}"
   ]
  },
  {
   "cell_type": "code",
   "execution_count": 35,
   "metadata": {},
   "outputs": [],
   "source": [
    "# Split data temporally \n",
    "# Older samples (70%) will be used for training; newer samples (30%) will be used for evaluation\n",
    "train_df, test_df = temporal_train_test_split(train_data, \"date\", 0.7)\n",
    "relevant_columns = [\"ffmc\", \"foresttype\", \"aspect_categorized\", \"canopy_cover_categorized\", \"date\"]\n",
    "X_train, y_train = train_df.loc[:, relevant_columns], train_df.loc[:, \"fire\"]\n",
    "X_test, y_test = test_df.loc[:, relevant_columns], train_df.loc[:, \"fire\"]\n",
    "\n",
    "scaler = StandardScaler()\n",
    "X_train[\"ffmc\"] = scaler.fit_transform(X_train[[\"ffmc\"]])\n",
    "X_test[\"ffmc\"] = scaler.transform(X_test[[\"ffmc\"]])\n"
   ]
  },
  {
   "cell_type": "code",
   "execution_count": 36,
   "metadata": {},
   "outputs": [
    {
     "name": "stderr",
     "output_type": "stream",
     "text": [
      "Auto-assigning NUTS sampler...\n",
      "Initializing NUTS using jitter+adapt_diag...\n",
      "Multiprocess sampling (2 chains in 2 jobs)\n",
      "NUTS: [mu_b1, sigma_b1, intercept, beta_ffmc, error_beta]\n"
     ]
    },
    {
     "data": {
      "text/html": [
       "\n",
       "<style>\n",
       "    /* Turns off some styling */\n",
       "    progress {\n",
       "        /* gets rid of default border in Firefox and Opera. */\n",
       "        border: none;\n",
       "        /* Needs to be in here for Safari polyfill so background images work as expected. */\n",
       "        background-size: auto;\n",
       "    }\n",
       "    progress:not([value]), progress:not([value])::-webkit-progress-bar {\n",
       "        background: repeating-linear-gradient(45deg, #7e7e7e, #7e7e7e 10px, #5c5c5c 10px, #5c5c5c 20px);\n",
       "    }\n",
       "    .progress-bar-interrupted, .progress-bar-interrupted::-webkit-progress-bar {\n",
       "        background: #F44336;\n",
       "    }\n",
       "</style>\n"
      ],
      "text/plain": [
       "<IPython.core.display.HTML object>"
      ]
     },
     "metadata": {},
     "output_type": "display_data"
    },
    {
     "data": {
      "text/html": [
       "\n",
       "    <div>\n",
       "      <progress value='4000' class='' max='4000' style='width:300px; height:20px; vertical-align: middle;'></progress>\n",
       "      100.00% [4000/4000 02:09&lt;00:00 Sampling 2 chains, 0 divergences]\n",
       "    </div>\n",
       "    "
      ],
      "text/plain": [
       "<IPython.core.display.HTML object>"
      ]
     },
     "metadata": {},
     "output_type": "display_data"
    },
    {
     "name": "stderr",
     "output_type": "stream",
     "text": [
      "Sampling 2 chains for 1_000 tune and 1_000 draw iterations (2_000 + 2_000 draws total) took 161 seconds.\n",
      "Auto-assigning NUTS sampler...\n",
      "Initializing NUTS using jitter+adapt_diag...\n",
      "Multiprocess sampling (2 chains in 2 jobs)\n",
      "NUTS: [mu_b1, sigma_b1, intercept, beta_ffmc, error_beta]\n"
     ]
    },
    {
     "data": {
      "text/html": [
       "\n",
       "<style>\n",
       "    /* Turns off some styling */\n",
       "    progress {\n",
       "        /* gets rid of default border in Firefox and Opera. */\n",
       "        border: none;\n",
       "        /* Needs to be in here for Safari polyfill so background images work as expected. */\n",
       "        background-size: auto;\n",
       "    }\n",
       "    progress:not([value]), progress:not([value])::-webkit-progress-bar {\n",
       "        background: repeating-linear-gradient(45deg, #7e7e7e, #7e7e7e 10px, #5c5c5c 10px, #5c5c5c 20px);\n",
       "    }\n",
       "    .progress-bar-interrupted, .progress-bar-interrupted::-webkit-progress-bar {\n",
       "        background: #F44336;\n",
       "    }\n",
       "</style>\n"
      ],
      "text/plain": [
       "<IPython.core.display.HTML object>"
      ]
     },
     "metadata": {},
     "output_type": "display_data"
    },
    {
     "data": {
      "text/html": [
       "\n",
       "    <div>\n",
       "      <progress value='4000' class='' max='4000' style='width:300px; height:20px; vertical-align: middle;'></progress>\n",
       "      100.00% [4000/4000 01:47&lt;00:00 Sampling 2 chains, 0 divergences]\n",
       "    </div>\n",
       "    "
      ],
      "text/plain": [
       "<IPython.core.display.HTML object>"
      ]
     },
     "metadata": {},
     "output_type": "display_data"
    },
    {
     "name": "stderr",
     "output_type": "stream",
     "text": [
      "Sampling 2 chains for 1_000 tune and 1_000 draw iterations (2_000 + 2_000 draws total) took 129 seconds.\n",
      "Auto-assigning NUTS sampler...\n",
      "Initializing NUTS using jitter+adapt_diag...\n",
      "Multiprocess sampling (2 chains in 2 jobs)\n",
      "NUTS: [mu_b1, sigma_b1, intercept, beta_ffmc, error_beta]\n"
     ]
    },
    {
     "data": {
      "text/html": [
       "\n",
       "<style>\n",
       "    /* Turns off some styling */\n",
       "    progress {\n",
       "        /* gets rid of default border in Firefox and Opera. */\n",
       "        border: none;\n",
       "        /* Needs to be in here for Safari polyfill so background images work as expected. */\n",
       "        background-size: auto;\n",
       "    }\n",
       "    progress:not([value]), progress:not([value])::-webkit-progress-bar {\n",
       "        background: repeating-linear-gradient(45deg, #7e7e7e, #7e7e7e 10px, #5c5c5c 10px, #5c5c5c 20px);\n",
       "    }\n",
       "    .progress-bar-interrupted, .progress-bar-interrupted::-webkit-progress-bar {\n",
       "        background: #F44336;\n",
       "    }\n",
       "</style>\n"
      ],
      "text/plain": [
       "<IPython.core.display.HTML object>"
      ]
     },
     "metadata": {},
     "output_type": "display_data"
    },
    {
     "data": {
      "text/html": [
       "\n",
       "    <div>\n",
       "      <progress value='1700' class='' max='4000' style='width:300px; height:20px; vertical-align: middle;'></progress>\n",
       "      42.50% [1700/4000 02:27&lt;03:19 Sampling 2 chains, 0 divergences]\n",
       "    </div>\n",
       "    "
      ],
      "text/plain": [
       "<IPython.core.display.HTML object>"
      ]
     },
     "metadata": {},
     "output_type": "display_data"
    }
   ],
   "source": [
    "model_aspect = create_model_ffmc_adjustment_aspect(X_train, y_train, coords)\n",
    "model_foresttype = create_model_ffmc_adjustment_foresttype(X_train, y_train, coords)\n",
    "model_canopy_cover = create_model_ffmc_adjustment_canopy_cover(X_train, y_train, coords)\n",
    "\n",
    "with model_aspect:\n",
    "    idata_aspect=pm.sample()\n",
    "\n",
    "with model_foresttype:\n",
    "    idata_foresttype=pm.sample()\n",
    "\n",
    "with model_canopy_cover:\n",
    "    idata_canopy_cover=pm.sample()\n"
   ]
  },
  {
   "cell_type": "code",
   "execution_count": null,
   "metadata": {},
   "outputs": [],
   "source": [
    "# save model\n",
    "import cloudpickle\n",
    "\n",
    "dict_to_save = {'model': model_aspect,\n",
    "                'idata': idata_aspect\n",
    "                }\n",
    "\n",
    "with open(f'../../models/ffmc_adjustment/model_aspect.pkl' , 'wb') as buff:\n",
    "    cloudpickle.dump(dict_to_save, buff)\n",
    "\n",
    "\n",
    "dict_to_save = {'model': model_foresttype,\n",
    "                'idata': idata_foresttype\n",
    "                }\n",
    "\n",
    "with open(f'../../models/ffmc_adjustment/model_foresttype.pkl' , 'wb') as buff:\n",
    "    cloudpickle.dump(dict_to_save, buff)\n",
    "\n",
    "\n",
    "dict_to_save = {'model': model_canopy_cover,\n",
    "                'idata': idata_canopy_cover\n",
    "                }\n",
    "\n",
    "with open(f'../../models/ffmc_adjustment/model_canopy_cover.pkl' , 'wb') as buff:\n",
    "    cloudpickle.dump(dict_to_save, buff)"
   ]
  },
  {
   "cell_type": "code",
   "execution_count": null,
   "metadata": {},
   "outputs": [],
   "source": []
  },
  {
   "cell_type": "code",
   "execution_count": null,
   "metadata": {},
   "outputs": [],
   "source": []
  },
  {
   "cell_type": "code",
   "execution_count": null,
   "metadata": {},
   "outputs": [],
   "source": [
    "# Interpretation of contrast between group level coefficients and population level coefficient of ffmc\n",
    "# The population level beta specifies the impact of ffmc on forest fire ignition (theoretically this should be positive; with increasing ffmc the danger of forest fire ignition increases)\n",
    "# "
   ]
  },
  {
   "cell_type": "code",
   "execution_count": 19,
   "metadata": {},
   "outputs": [
    {
     "data": {
      "text/html": [
       "<div>\n",
       "<style scoped>\n",
       "    .dataframe tbody tr th:only-of-type {\n",
       "        vertical-align: middle;\n",
       "    }\n",
       "\n",
       "    .dataframe tbody tr th {\n",
       "        vertical-align: top;\n",
       "    }\n",
       "\n",
       "    .dataframe thead th {\n",
       "        text-align: right;\n",
       "    }\n",
       "</style>\n",
       "<table border=\"1\" class=\"dataframe\">\n",
       "  <thead>\n",
       "    <tr style=\"text-align: right;\">\n",
       "      <th></th>\n",
       "      <th>mean</th>\n",
       "      <th>sd</th>\n",
       "      <th>hdi_3%</th>\n",
       "      <th>hdi_97%</th>\n",
       "      <th>mcse_mean</th>\n",
       "      <th>mcse_sd</th>\n",
       "      <th>ess_bulk</th>\n",
       "      <th>ess_tail</th>\n",
       "      <th>r_hat</th>\n",
       "    </tr>\n",
       "  </thead>\n",
       "  <tbody>\n",
       "    <tr>\n",
       "      <th>beta_ffmc[0]</th>\n",
       "      <td>9.141</td>\n",
       "      <td>22.387</td>\n",
       "      <td>1.078</td>\n",
       "      <td>26.761</td>\n",
       "      <td>1.791</td>\n",
       "      <td>1.401</td>\n",
       "      <td>286.0</td>\n",
       "      <td>261.0</td>\n",
       "      <td>1.01</td>\n",
       "    </tr>\n",
       "    <tr>\n",
       "      <th>beta_ffmc[1]</th>\n",
       "      <td>2.639</td>\n",
       "      <td>0.778</td>\n",
       "      <td>1.494</td>\n",
       "      <td>4.166</td>\n",
       "      <td>0.038</td>\n",
       "      <td>0.027</td>\n",
       "      <td>414.0</td>\n",
       "      <td>700.0</td>\n",
       "      <td>1.00</td>\n",
       "    </tr>\n",
       "    <tr>\n",
       "      <th>beta_ffmc[2]</th>\n",
       "      <td>2.098</td>\n",
       "      <td>0.398</td>\n",
       "      <td>1.420</td>\n",
       "      <td>2.921</td>\n",
       "      <td>0.016</td>\n",
       "      <td>0.011</td>\n",
       "      <td>593.0</td>\n",
       "      <td>1073.0</td>\n",
       "      <td>1.01</td>\n",
       "    </tr>\n",
       "    <tr>\n",
       "      <th>beta_ffmc[3]</th>\n",
       "      <td>2.067</td>\n",
       "      <td>0.263</td>\n",
       "      <td>1.620</td>\n",
       "      <td>2.594</td>\n",
       "      <td>0.012</td>\n",
       "      <td>0.008</td>\n",
       "      <td>496.0</td>\n",
       "      <td>706.0</td>\n",
       "      <td>1.00</td>\n",
       "    </tr>\n",
       "    <tr>\n",
       "      <th>beta_ffmc[4]</th>\n",
       "      <td>1.578</td>\n",
       "      <td>0.122</td>\n",
       "      <td>1.347</td>\n",
       "      <td>1.815</td>\n",
       "      <td>0.005</td>\n",
       "      <td>0.003</td>\n",
       "      <td>680.0</td>\n",
       "      <td>587.0</td>\n",
       "      <td>1.01</td>\n",
       "    </tr>\n",
       "  </tbody>\n",
       "</table>\n",
       "</div>"
      ],
      "text/plain": [
       "               mean      sd  hdi_3%  hdi_97%  mcse_mean  mcse_sd  ess_bulk  \\\n",
       "beta_ffmc[0]  9.141  22.387   1.078   26.761      1.791    1.401     286.0   \n",
       "beta_ffmc[1]  2.639   0.778   1.494    4.166      0.038    0.027     414.0   \n",
       "beta_ffmc[2]  2.098   0.398   1.420    2.921      0.016    0.011     593.0   \n",
       "beta_ffmc[3]  2.067   0.263   1.620    2.594      0.012    0.008     496.0   \n",
       "beta_ffmc[4]  1.578   0.122   1.347    1.815      0.005    0.003     680.0   \n",
       "\n",
       "              ess_tail  r_hat  \n",
       "beta_ffmc[0]     261.0   1.01  \n",
       "beta_ffmc[1]     700.0   1.00  \n",
       "beta_ffmc[2]    1073.0   1.01  \n",
       "beta_ffmc[3]     706.0   1.00  \n",
       "beta_ffmc[4]     587.0   1.01  "
      ]
     },
     "execution_count": 19,
     "metadata": {},
     "output_type": "execute_result"
    }
   ],
   "source": [
    "az.summary(idata_canopy_cover, var_names=[\"beta_ffmc\"])"
   ]
  },
  {
   "cell_type": "code",
   "execution_count": 18,
   "metadata": {},
   "outputs": [
    {
     "name": "stdout",
     "output_type": "stream",
     "text": [
      "[ 0.17605097 -0.29629205 -0.77074934 -0.03129043  0.59940299  0.10729073\n",
      "  0.07869177  0.19337925]\n",
      "[ 0.60103592 -0.00354114  0.22389765 -0.35657617 -0.1727104  -0.27366792\n",
      "  0.66473309]\n",
      "[ 7.15664568  0.65411939  0.11372197  0.08277428 -0.40691867]\n"
     ]
    }
   ],
   "source": [
    "print((idata_aspect.posterior.beta_ffmc - idata_aspect.posterior.mu_b1).mean(axis=(0, 1)).values)"
   ]
  },
  {
   "cell_type": "code",
   "execution_count": 21,
   "metadata": {},
   "outputs": [
    {
     "name": "stdout",
     "output_type": "stream",
     "text": [
      "[ 0.60103592 -0.00354114  0.22389765 -0.35657617 -0.1727104  -0.27366792\n",
      "  0.66473309]\n"
     ]
    }
   ],
   "source": [
    "# 0 = coniferous non pine\n",
    "# 1 = coniferous with mixed pine\n",
    "# 2 = pine pure\n",
    "# 3 = coniferous deciduous mixed with pine\n",
    "# 4 = coniferous_deciduous_mixed_non_pine\n",
    "# 5 = deciduous pure\n",
    "# 6 = low and no vegetation\n",
    "\n",
    "print((idata_foresttype.posterior.beta_ffmc - idata_foresttype.posterior.mu_b1).mean(axis=(0, 1)).values)"
   ]
  },
  {
   "cell_type": "code",
   "execution_count": 22,
   "metadata": {},
   "outputs": [
    {
     "name": "stdout",
     "output_type": "stream",
     "text": [
      "[ 7.15664568  0.65411939  0.11372197  0.08277428 -0.40691867]\n"
     ]
    }
   ],
   "source": [
    "# 4 >80%\n",
    "# 3 61-80%\n",
    "# 2 41-60%\n",
    "# 1 21-40%\n",
    "# 0 ≤20%\n",
    "print((idata_canopy_cover.posterior.beta_ffmc - idata_canopy_cover.posterior.mu_b1).mean(axis=(0, 1)).values)"
   ]
  },
  {
   "cell_type": "code",
   "execution_count": null,
   "metadata": {},
   "outputs": [],
   "source": []
  },
  {
   "cell_type": "code",
   "execution_count": null,
   "metadata": {},
   "outputs": [],
   "source": []
  }
 ],
 "metadata": {
  "kernelspec": {
   "display_name": "Python 3",
   "language": "python",
   "name": "python3"
  },
  "language_info": {
   "codemirror_mode": {
    "name": "ipython",
    "version": 3
   },
   "file_extension": ".py",
   "mimetype": "text/x-python",
   "name": "python",
   "nbconvert_exporter": "python",
   "pygments_lexer": "ipython3",
   "version": "3.11.0"
  }
 },
 "nbformat": 4,
 "nbformat_minor": 2
}
