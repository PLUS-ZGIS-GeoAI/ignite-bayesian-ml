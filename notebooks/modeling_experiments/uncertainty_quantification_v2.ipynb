{
 "cells": [
  {
   "cell_type": "code",
   "execution_count": 2,
   "metadata": {},
   "outputs": [
    {
     "name": "stdout",
     "output_type": "stream",
     "text": [
      "The autoreload extension is already loaded. To reload it, use:\n",
      "  %reload_ext autoreload\n"
     ]
    }
   ],
   "source": [
    "%load_ext autoreload\n",
    "%autoreload 2"
   ]
  },
  {
   "cell_type": "markdown",
   "metadata": {},
   "source": [
    "### Load libraries and paths"
   ]
  },
  {
   "cell_type": "code",
   "execution_count": 3,
   "metadata": {},
   "outputs": [],
   "source": [
    "import sys\n",
    "sys.path.append(\"../../\")"
   ]
  },
  {
   "cell_type": "code",
   "execution_count": 4,
   "metadata": {},
   "outputs": [
    {
     "name": "stderr",
     "output_type": "stream",
     "text": [
      "WARNING (pytensor.tensor.blas): Using NumPy C-API based implementation for BLAS functions.\n"
     ]
    }
   ],
   "source": [
    "import pandas as pd\n",
    "import geopandas as gpd\n",
    "import pymc as pm \n",
    "\n",
    "from sklearn.compose import ColumnTransformer\n",
    "from sklearn.preprocessing import StandardScaler, OneHotEncoder\n",
    "from sklearn.metrics import accuracy_score, precision_score, recall_score\n",
    "\n",
    "from config.config import BASE_PATH, PATH_TO_PATH_CONFIG_FILE, PROJECT_EPSG\n",
    "from src.utils import load_paths_from_yaml, replace_base_path\n",
    "from src.modeling.encodings import convert_aspect_to_cardinal_direction, convert_population_to_classes, convert_elevation_to_classes, convert_slope_to_classes, apply_encoding, naturraumregionen_encoding, map_to_binary\n",
    "from src.modeling.utils import temporal_train_test_split\n",
    "from src.modeling.bayesian_models import create_blr_v2, create_st_blr_v2, create_bnn\n",
    "from src.modeling.predictions import BinaryClassification, BinaryClassificationBNN"
   ]
  },
  {
   "cell_type": "code",
   "execution_count": 6,
   "metadata": {},
   "outputs": [],
   "source": [
    "paths = load_paths_from_yaml(PATH_TO_PATH_CONFIG_FILE)\n",
    "paths = replace_base_path(paths, BASE_PATH)"
   ]
  },
  {
   "cell_type": "markdown",
   "metadata": {},
   "source": [
    "### Read in data"
   ]
  },
  {
   "cell_type": "code",
   "execution_count": 7,
   "metadata": {},
   "outputs": [],
   "source": [
    "# read in training data\n",
    "training_data = gpd.read_file(paths[\"training_data\"])\n",
    "training_data.date = pd.to_datetime(training_data.date)\n",
    "\n",
    "# read in Naturraumregionen\n",
    "naturraumregionen = gpd.read_file(paths[\"naturraumregionen\"])\n",
    "naturraumregionen.to_crs(PROJECT_EPSG, inplace=True)"
   ]
  },
  {
   "cell_type": "markdown",
   "metadata": {},
   "source": [
    "### Data Cleaning & Preparation"
   ]
  },
  {
   "cell_type": "code",
   "execution_count": 9,
   "metadata": {},
   "outputs": [],
   "source": [
    "# rename columns\n",
    "training_data.rename(columns={\"farmyard_d\": \"farmyard_density\", \n",
    "                              \"hiking_ds\": \"hikingtrail_density\", \n",
    "                              \"forest_ds\": \"forestroad_density\", \n",
    "                              \"rail_dens\": \"railway_density\", \n",
    "                              \"foresttype\": \"forest_type\", \n",
    "                              \"pop_dens\": \"population_density\"}, inplace=True)\n",
    "\n",
    "training_data = training_data.sjoin(naturraumregionen.loc[:, [\"EINHEIT\", \"geometry\"]])\n",
    "training_data.drop(columns=[\"index_right\"], inplace=True)\n",
    "\n",
    "# create season column (0 = winter (1,2,3), 1 = spring (4,5,6), 2 = sommer (7,8,9), 3 = winter (10,11,12))\n",
    "training_data[\"season\"] = (training_data.date.dt.month -1) // 3 \n",
    "\n",
    "# encode features into predefined classes\n",
    "training_data[\"naturraumregionen_encoded\"] = training_data[\"EINHEIT\"].apply(apply_encoding, mapping=naturraumregionen_encoding)\n",
    "training_data[\"elevation_encoded\"] = training_data[\"elevation\"].apply(convert_elevation_to_classes)\n",
    "training_data[\"slope_encoded\"] = training_data[\"slope\"].apply(convert_slope_to_classes)\n",
    "training_data[\"aspect_encoded\"] = training_data[\"aspect\"].apply(convert_aspect_to_cardinal_direction)\n",
    "training_data[\"population_encoded\"] = training_data[\"population_density\"].apply(convert_population_to_classes)\n",
    "\n",
    "# binarize features\n",
    "training_data[\"farmyard_density_bin\"] = training_data[\"farmyard_density\"].apply(map_to_binary)\n",
    "training_data[\"forestroad_density_bin\"] = training_data[\"forestroad_density\"].apply(map_to_binary)\n",
    "training_data[\"railway_density_bin\"] = training_data[\"railway_density\"].apply(map_to_binary)\n",
    "training_data[\"hikingtrail_density_bin\"] = training_data[\"hikingtrail_density\"].apply(map_to_binary)\n",
    "\n",
    "# deal with missing data in forest type feature\n",
    "training_data[\"forest_type\"].fillna(6, inplace=True)\n",
    "training_data[\"forest_type\"] = training_data[\"forest_type\"].astype(int)"
   ]
  },
  {
   "cell_type": "markdown",
   "metadata": {},
   "source": [
    "### Temporal train test split"
   ]
  },
  {
   "cell_type": "code",
   "execution_count": 10,
   "metadata": {},
   "outputs": [],
   "source": [
    "X_train_unprocessed, X_test_unprocessed = temporal_train_test_split(training_data, \"date\", 0.7)\n",
    "y_train, y_test = X_train_unprocessed[\"fire\"], X_test_unprocessed[\"fire\"]"
   ]
  },
  {
   "cell_type": "code",
   "execution_count": null,
   "metadata": {},
   "outputs": [],
   "source": []
  },
  {
   "cell_type": "markdown",
   "metadata": {},
   "source": [
    "### Feature Preprocessing"
   ]
  },
  {
   "cell_type": "code",
   "execution_count": 11,
   "metadata": {},
   "outputs": [],
   "source": [
    "# feature processing for BLR and ST_BLR\n",
    "preprocessor_blr = ColumnTransformer(\n",
    "    transformers=[\n",
    "        ('std_scaler', StandardScaler(), [\"ffmc\"])\n",
    "    ],\n",
    "    remainder='drop',\n",
    ")\n",
    "\n",
    "preprocessor_blr.fit(X_train_unprocessed)\n",
    "train_ffmc_scaled = preprocessor_blr.transform(X_train_unprocessed)\n",
    "test_ffmc_scaled = preprocessor_blr.transform(X_test_unprocessed)\n",
    "\n",
    "X_train = X_train_unprocessed.copy()\n",
    "X_test = X_test_unprocessed.copy()\n",
    "X_train[\"ffmc\"] = train_ffmc_scaled\n",
    "X_test[\"ffmc\"] = test_ffmc_scaled\n",
    "\n",
    "# feature processing for BNN\n",
    "features_to_scale = ['ffmc', 'farmyard_density',\n",
    "       'hikingtrail_density', 'forestroad_density', 'railway_density',\n",
    "       'elevation', 'slope', 'population_density']\n",
    "features_bnn_ohe = ['aspect_encoded', 'forest_type']\n",
    "\n",
    "preprocessor_bnn = ColumnTransformer(\n",
    "    transformers=[\n",
    "        ('std_scaler', StandardScaler(), features_to_scale),\n",
    "        ('ohe', OneHotEncoder(), features_bnn_ohe)\n",
    "    ],\n",
    "    remainder='drop',\n",
    ")\n",
    "\n",
    "# scaler\n",
    "preprocessor_bnn.fit(X_train_unprocessed)\n",
    "X_train_bnn = preprocessor_bnn.fit_transform(X_train_unprocessed)\n",
    "X_test_bnn = preprocessor_bnn.transform(X_test_unprocessed)"
   ]
  },
  {
   "cell_type": "code",
   "execution_count": null,
   "metadata": {},
   "outputs": [],
   "source": []
  },
  {
   "cell_type": "markdown",
   "metadata": {},
   "source": [
    "### Modeling"
   ]
  },
  {
   "cell_type": "code",
   "execution_count": 12,
   "metadata": {},
   "outputs": [],
   "source": [
    "coords = {\"elevation_classes\": [0, 1, 2, 3, 4, 5], \n",
    "          \"slope_classes\": [0, 1, 2, 3, 4], \n",
    "          \"aspect_classes\": [0, 1, 2, 3, 4, 5, 6, 7],\n",
    "          \"forest_type_classes\": [0, 1, 2, 3, 4, 5, 6], \n",
    "          \"population_classes\": [0, 1, 2, 3, 4, 5], \n",
    "          \"farmyard_density_classes\": [0, 1], \n",
    "          \"forestroad_density_classes\": [0, 1], \n",
    "          \"railway_density_classes\": [0, 1], \n",
    "          \"hikingtrail_density_classes\": [0, 1], \n",
    "          \"spatial_groups\": [0, 1, 2, 3, 4, 5, 6, 7, 8, 9], \n",
    "          \"temporal_groups\": [0, 1, 2, 3]}"
   ]
  },
  {
   "cell_type": "code",
   "execution_count": 13,
   "metadata": {},
   "outputs": [
    {
     "data": {
      "text/html": [
       "\n",
       "<style>\n",
       "    /* Turns off some styling */\n",
       "    progress {\n",
       "        /* gets rid of default border in Firefox and Opera. */\n",
       "        border: none;\n",
       "        /* Needs to be in here for Safari polyfill so background images work as expected. */\n",
       "        background-size: auto;\n",
       "    }\n",
       "    progress:not([value]), progress:not([value])::-webkit-progress-bar {\n",
       "        background: repeating-linear-gradient(45deg, #7e7e7e, #7e7e7e 10px, #5c5c5c 10px, #5c5c5c 20px);\n",
       "    }\n",
       "    .progress-bar-interrupted, .progress-bar-interrupted::-webkit-progress-bar {\n",
       "        background: #F44336;\n",
       "    }\n",
       "</style>\n"
      ],
      "text/plain": [
       "<IPython.core.display.HTML object>"
      ]
     },
     "metadata": {},
     "output_type": "display_data"
    },
    {
     "data": {
      "text/html": [
       "\n",
       "    <div>\n",
       "      <progress value='20000' class='' max='20000' style='width:300px; height:20px; vertical-align: middle;'></progress>\n",
       "      100.00% [20000/20000 00:20&lt;00:00 Average Loss = 436.8]\n",
       "    </div>\n",
       "    "
      ],
      "text/plain": [
       "<IPython.core.display.HTML object>"
      ]
     },
     "metadata": {},
     "output_type": "display_data"
    },
    {
     "name": "stderr",
     "output_type": "stream",
     "text": [
      "Finished [100%]: Average Loss = 436.75\n"
     ]
    },
    {
     "data": {
      "text/html": [
       "\n",
       "<style>\n",
       "    /* Turns off some styling */\n",
       "    progress {\n",
       "        /* gets rid of default border in Firefox and Opera. */\n",
       "        border: none;\n",
       "        /* Needs to be in here for Safari polyfill so background images work as expected. */\n",
       "        background-size: auto;\n",
       "    }\n",
       "    progress:not([value]), progress:not([value])::-webkit-progress-bar {\n",
       "        background: repeating-linear-gradient(45deg, #7e7e7e, #7e7e7e 10px, #5c5c5c 10px, #5c5c5c 20px);\n",
       "    }\n",
       "    .progress-bar-interrupted, .progress-bar-interrupted::-webkit-progress-bar {\n",
       "        background: #F44336;\n",
       "    }\n",
       "</style>\n"
      ],
      "text/plain": [
       "<IPython.core.display.HTML object>"
      ]
     },
     "metadata": {},
     "output_type": "display_data"
    },
    {
     "data": {
      "text/html": [
       "\n",
       "    <div>\n",
       "      <progress value='500' class='' max='500' style='width:300px; height:20px; vertical-align: middle;'></progress>\n",
       "      100.00% [500/500 00:00&lt;00:00]\n",
       "    </div>\n",
       "    "
      ],
      "text/plain": [
       "<IPython.core.display.HTML object>"
      ]
     },
     "metadata": {},
     "output_type": "display_data"
    }
   ],
   "source": [
    "# Create simple Bayesian Log Reg Model\n",
    "model_blr = create_blr_v2(X_train, y_train, coords)\n",
    "with model_blr:\n",
    "    approx = pm.fit(n=20000, random_seed=0)\n",
    "    blr_idata = approx.sample()\n",
    "    pm.compute_log_likelihood(blr_idata)"
   ]
  },
  {
   "cell_type": "code",
   "execution_count": 14,
   "metadata": {},
   "outputs": [
    {
     "data": {
      "text/html": [
       "\n",
       "<style>\n",
       "    /* Turns off some styling */\n",
       "    progress {\n",
       "        /* gets rid of default border in Firefox and Opera. */\n",
       "        border: none;\n",
       "        /* Needs to be in here for Safari polyfill so background images work as expected. */\n",
       "        background-size: auto;\n",
       "    }\n",
       "    progress:not([value]), progress:not([value])::-webkit-progress-bar {\n",
       "        background: repeating-linear-gradient(45deg, #7e7e7e, #7e7e7e 10px, #5c5c5c 10px, #5c5c5c 20px);\n",
       "    }\n",
       "    .progress-bar-interrupted, .progress-bar-interrupted::-webkit-progress-bar {\n",
       "        background: #F44336;\n",
       "    }\n",
       "</style>\n"
      ],
      "text/plain": [
       "<IPython.core.display.HTML object>"
      ]
     },
     "metadata": {},
     "output_type": "display_data"
    },
    {
     "data": {
      "text/html": [
       "\n",
       "    <div>\n",
       "      <progress value='20000' class='' max='20000' style='width:300px; height:20px; vertical-align: middle;'></progress>\n",
       "      100.00% [20000/20000 01:27&lt;00:00 Average Loss = 831.67]\n",
       "    </div>\n",
       "    "
      ],
      "text/plain": [
       "<IPython.core.display.HTML object>"
      ]
     },
     "metadata": {},
     "output_type": "display_data"
    },
    {
     "name": "stderr",
     "output_type": "stream",
     "text": [
      "Finished [100%]: Average Loss = 831.55\n"
     ]
    },
    {
     "data": {
      "text/html": [
       "\n",
       "<style>\n",
       "    /* Turns off some styling */\n",
       "    progress {\n",
       "        /* gets rid of default border in Firefox and Opera. */\n",
       "        border: none;\n",
       "        /* Needs to be in here for Safari polyfill so background images work as expected. */\n",
       "        background-size: auto;\n",
       "    }\n",
       "    progress:not([value]), progress:not([value])::-webkit-progress-bar {\n",
       "        background: repeating-linear-gradient(45deg, #7e7e7e, #7e7e7e 10px, #5c5c5c 10px, #5c5c5c 20px);\n",
       "    }\n",
       "    .progress-bar-interrupted, .progress-bar-interrupted::-webkit-progress-bar {\n",
       "        background: #F44336;\n",
       "    }\n",
       "</style>\n"
      ],
      "text/plain": [
       "<IPython.core.display.HTML object>"
      ]
     },
     "metadata": {},
     "output_type": "display_data"
    },
    {
     "data": {
      "text/html": [
       "\n",
       "    <div>\n",
       "      <progress value='500' class='' max='500' style='width:300px; height:20px; vertical-align: middle;'></progress>\n",
       "      100.00% [500/500 00:01&lt;00:00]\n",
       "    </div>\n",
       "    "
      ],
      "text/plain": [
       "<IPython.core.display.HTML object>"
      ]
     },
     "metadata": {},
     "output_type": "display_data"
    }
   ],
   "source": [
    "# Spatio temporal Bayesian Logistic Regression Model\n",
    "model_st_blr = create_st_blr_v2(X_train, y_train, coords, \"naturraumregionen_encoded\", \"season\")\n",
    "with model_st_blr:\n",
    "    approx = pm.fit(n=20000, random_seed=0)\n",
    "    st_blr_idata = approx.sample()\n",
    "    pm.compute_log_likelihood(st_blr_idata)"
   ]
  },
  {
   "cell_type": "code",
   "execution_count": 15,
   "metadata": {},
   "outputs": [
    {
     "data": {
      "text/html": [
       "\n",
       "<style>\n",
       "    /* Turns off some styling */\n",
       "    progress {\n",
       "        /* gets rid of default border in Firefox and Opera. */\n",
       "        border: none;\n",
       "        /* Needs to be in here for Safari polyfill so background images work as expected. */\n",
       "        background-size: auto;\n",
       "    }\n",
       "    progress:not([value]), progress:not([value])::-webkit-progress-bar {\n",
       "        background: repeating-linear-gradient(45deg, #7e7e7e, #7e7e7e 10px, #5c5c5c 10px, #5c5c5c 20px);\n",
       "    }\n",
       "    .progress-bar-interrupted, .progress-bar-interrupted::-webkit-progress-bar {\n",
       "        background: #F44336;\n",
       "    }\n",
       "</style>\n"
      ],
      "text/plain": [
       "<IPython.core.display.HTML object>"
      ]
     },
     "metadata": {},
     "output_type": "display_data"
    },
    {
     "data": {
      "text/html": [
       "\n",
       "    <div>\n",
       "      <progress value='20000' class='' max='20000' style='width:300px; height:20px; vertical-align: middle;'></progress>\n",
       "      100.00% [20000/20000 00:45&lt;00:00 Average Loss = 427.68]\n",
       "    </div>\n",
       "    "
      ],
      "text/plain": [
       "<IPython.core.display.HTML object>"
      ]
     },
     "metadata": {},
     "output_type": "display_data"
    },
    {
     "name": "stderr",
     "output_type": "stream",
     "text": [
      "Finished [100%]: Average Loss = 427.68\n"
     ]
    }
   ],
   "source": [
    "model_bnn = create_bnn(X_train_bnn, y_train)\n",
    "\n",
    "with model_bnn:\n",
    "    approx = pm.fit(n=20000, random_seed=0)\n",
    "    bnn_idata = approx.sample()"
   ]
  },
  {
   "cell_type": "code",
   "execution_count": null,
   "metadata": {},
   "outputs": [],
   "source": []
  },
  {
   "cell_type": "markdown",
   "metadata": {},
   "source": [
    "### Out-of-sample prediction"
   ]
  },
  {
   "cell_type": "code",
   "execution_count": 16,
   "metadata": {},
   "outputs": [],
   "source": [
    "y_dummy = [0 for i in y_test]\n",
    "X_new_blr = {\n",
    "    \"elevation\": X_test.elevation_encoded,\n",
    "    \"slope\": X_test.slope_encoded,\n",
    "    \"aspect\": X_test.aspect_encoded,\n",
    "    \"forestroad_density\": X_test.forestroad_density_bin,\n",
    "    \"railway_density\": X_test.railway_density_bin,\n",
    "    \"hikingtrail_density\": X_test.hikingtrail_density_bin,\n",
    "    \"farmyard_density\": X_test.farmyard_density_bin,\n",
    "    \"population\": X_test.population_encoded,\n",
    "    \"forest_type\": X_test.forest_type,\n",
    "    \"ffmc\": X_test.ffmc,\n",
    "    \"fire\": y_dummy\n",
    "    }\n",
    "\n",
    "X_new_st_blr = X_new_blr.copy()\n",
    "X_new_st_blr[\"spatial_groups_idx\"] = X_test.naturraumregionen_encoded\n",
    "X_new_st_blr[\"temporal_groups_idx\"] = X_test.season"
   ]
  },
  {
   "cell_type": "code",
   "execution_count": 17,
   "metadata": {},
   "outputs": [
    {
     "name": "stderr",
     "output_type": "stream",
     "text": [
      "Sampling: [y_pred]\n"
     ]
    },
    {
     "data": {
      "text/html": [
       "\n",
       "<style>\n",
       "    /* Turns off some styling */\n",
       "    progress {\n",
       "        /* gets rid of default border in Firefox and Opera. */\n",
       "        border: none;\n",
       "        /* Needs to be in here for Safari polyfill so background images work as expected. */\n",
       "        background-size: auto;\n",
       "    }\n",
       "    progress:not([value]), progress:not([value])::-webkit-progress-bar {\n",
       "        background: repeating-linear-gradient(45deg, #7e7e7e, #7e7e7e 10px, #5c5c5c 10px, #5c5c5c 20px);\n",
       "    }\n",
       "    .progress-bar-interrupted, .progress-bar-interrupted::-webkit-progress-bar {\n",
       "        background: #F44336;\n",
       "    }\n",
       "</style>\n"
      ],
      "text/plain": [
       "<IPython.core.display.HTML object>"
      ]
     },
     "metadata": {},
     "output_type": "display_data"
    },
    {
     "data": {
      "text/html": [
       "\n",
       "    <div>\n",
       "      <progress value='500' class='' max='500' style='width:300px; height:20px; vertical-align: middle;'></progress>\n",
       "      100.00% [500/500 00:00&lt;00:00]\n",
       "    </div>\n",
       "    "
      ],
      "text/plain": [
       "<IPython.core.display.HTML object>"
      ]
     },
     "metadata": {},
     "output_type": "display_data"
    },
    {
     "name": "stderr",
     "output_type": "stream",
     "text": [
      "Sampling: [y_pred]\n"
     ]
    },
    {
     "data": {
      "text/html": [
       "\n",
       "<style>\n",
       "    /* Turns off some styling */\n",
       "    progress {\n",
       "        /* gets rid of default border in Firefox and Opera. */\n",
       "        border: none;\n",
       "        /* Needs to be in here for Safari polyfill so background images work as expected. */\n",
       "        background-size: auto;\n",
       "    }\n",
       "    progress:not([value]), progress:not([value])::-webkit-progress-bar {\n",
       "        background: repeating-linear-gradient(45deg, #7e7e7e, #7e7e7e 10px, #5c5c5c 10px, #5c5c5c 20px);\n",
       "    }\n",
       "    .progress-bar-interrupted, .progress-bar-interrupted::-webkit-progress-bar {\n",
       "        background: #F44336;\n",
       "    }\n",
       "</style>\n"
      ],
      "text/plain": [
       "<IPython.core.display.HTML object>"
      ]
     },
     "metadata": {},
     "output_type": "display_data"
    },
    {
     "data": {
      "text/html": [
       "\n",
       "    <div>\n",
       "      <progress value='500' class='' max='500' style='width:300px; height:20px; vertical-align: middle;'></progress>\n",
       "      100.00% [500/500 00:00&lt;00:00]\n",
       "    </div>\n",
       "    "
      ],
      "text/plain": [
       "<IPython.core.display.HTML object>"
      ]
     },
     "metadata": {},
     "output_type": "display_data"
    },
    {
     "name": "stderr",
     "output_type": "stream",
     "text": [
      "Sampling: [y_pred]\n"
     ]
    },
    {
     "data": {
      "text/html": [
       "\n",
       "<style>\n",
       "    /* Turns off some styling */\n",
       "    progress {\n",
       "        /* gets rid of default border in Firefox and Opera. */\n",
       "        border: none;\n",
       "        /* Needs to be in here for Safari polyfill so background images work as expected. */\n",
       "        background-size: auto;\n",
       "    }\n",
       "    progress:not([value]), progress:not([value])::-webkit-progress-bar {\n",
       "        background: repeating-linear-gradient(45deg, #7e7e7e, #7e7e7e 10px, #5c5c5c 10px, #5c5c5c 20px);\n",
       "    }\n",
       "    .progress-bar-interrupted, .progress-bar-interrupted::-webkit-progress-bar {\n",
       "        background: #F44336;\n",
       "    }\n",
       "</style>\n"
      ],
      "text/plain": [
       "<IPython.core.display.HTML object>"
      ]
     },
     "metadata": {},
     "output_type": "display_data"
    },
    {
     "data": {
      "text/html": [
       "\n",
       "    <div>\n",
       "      <progress value='500' class='' max='500' style='width:300px; height:20px; vertical-align: middle;'></progress>\n",
       "      100.00% [500/500 00:00&lt;00:00]\n",
       "    </div>\n",
       "    "
      ],
      "text/plain": [
       "<IPython.core.display.HTML object>"
      ]
     },
     "metadata": {},
     "output_type": "display_data"
    },
    {
     "name": "stdout",
     "output_type": "stream",
     "text": [
      "BLR Accuracy:  0.7493112947658402\n",
      "BLR Precision:  0.8492462311557789\n",
      "BLR Recall:  0.7347826086956522\n",
      "---------------------------------\n",
      "ST BLR Accuracy:  0.7134986225895317\n",
      "ST BLR Precision:  0.8315789473684211\n",
      "ST BLR Recall:  0.6869565217391305\n",
      "---------------------------------\n",
      "BNN Accuracy:  0.7493112947658402\n",
      "BNN Precision:  0.8357487922705314\n",
      "BNN Recall:  0.7521739130434782\n"
     ]
    }
   ],
   "source": [
    "seed = 0\n",
    "\n",
    "# predictions for blr model\n",
    "blr_prediction_obj = BinaryClassification(model_blr, blr_idata, X_new_blr, seed, \"y_pred\", \"p\")\n",
    "blr_prediction_obj.extend_trace()\n",
    "blr_preds = blr_prediction_obj.predict()\n",
    "\n",
    "# predictions for st_blr model\n",
    "st_blr_prediction_obj = BinaryClassification(model_st_blr, st_blr_idata, X_new_st_blr, seed, \"y_pred\", \"p\")\n",
    "st_blr_prediction_obj.extend_trace()\n",
    "st_blr_preds = st_blr_prediction_obj.predict()\n",
    "\n",
    "# predictions for bnn model\n",
    "bnn_prediction_obj = BinaryClassificationBNN(model_bnn, bnn_idata, X_test_bnn, seed, \"y_pred\", \"p\")\n",
    "bnn_prediction_obj.extend_trace()\n",
    "bnn_preds = bnn_prediction_obj.predict()\n",
    "\n",
    "print(\"BLR Accuracy: \", accuracy_score(y_test, blr_preds.y_pred))\n",
    "print(\"BLR Precision: \", precision_score(y_test, blr_preds.y_pred))\n",
    "print(\"BLR Recall: \", recall_score(y_test, blr_preds.y_pred))\n",
    "\n",
    "print(\"---------------------------------\")\n",
    "\n",
    "print(\"ST BLR Accuracy: \", accuracy_score(y_test, st_blr_preds.y_pred))\n",
    "print(\"ST BLR Precision: \", precision_score(y_test, st_blr_preds.y_pred))\n",
    "print(\"ST BLR Recall: \", recall_score(y_test, st_blr_preds.y_pred))\n",
    "\n",
    "print(\"---------------------------------\")\n",
    "\n",
    "print(\"BNN Accuracy: \", accuracy_score(y_test, bnn_preds.y_pred))\n",
    "print(\"BNN Precision: \", precision_score(y_test, bnn_preds.y_pred))\n",
    "print(\"BNN Recall: \", recall_score(y_test, bnn_preds.y_pred))\n"
   ]
  },
  {
   "cell_type": "code",
   "execution_count": null,
   "metadata": {},
   "outputs": [],
   "source": []
  }
 ],
 "metadata": {
  "kernelspec": {
   "display_name": "Python 3",
   "language": "python",
   "name": "python3"
  },
  "language_info": {
   "codemirror_mode": {
    "name": "ipython",
    "version": 3
   },
   "file_extension": ".py",
   "mimetype": "text/x-python",
   "name": "python",
   "nbconvert_exporter": "python",
   "pygments_lexer": "ipython3",
   "version": "3.11.0"
  }
 },
 "nbformat": 4,
 "nbformat_minor": 2
}
