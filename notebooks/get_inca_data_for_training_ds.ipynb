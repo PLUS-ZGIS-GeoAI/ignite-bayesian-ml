{
 "cells": [
  {
   "cell_type": "code",
   "execution_count": 49,
   "metadata": {},
   "outputs": [],
   "source": [
    "import sys\n",
    "import time\n",
    "import requests\n",
    "import json\n",
    "from datetime import datetime, timedelta\n",
    "import pandas as pd\n",
    "import geopandas as gpd \n",
    "\n",
    "sys.path.append(\"../\")\n",
    "from config.config import GEOSPHERE_INCA_TS_URL\n",
    "from config.config import BASE_PATH, PATH_TO_PATH_CONFIG_FILE\n",
    "from src.utils import load_paths_from_yaml, replace_base_path, calculate_date_of_interest_x_hours_before"
   ]
  },
  {
   "cell_type": "code",
   "execution_count": 50,
   "metadata": {},
   "outputs": [],
   "source": [
    "# Load paths from the YAML file\n",
    "paths = load_paths_from_yaml(PATH_TO_PATH_CONFIG_FILE)\n",
    "paths = replace_base_path(paths, BASE_PATH)"
   ]
  },
  {
   "cell_type": "code",
   "execution_count": 77,
   "metadata": {},
   "outputs": [],
   "source": [
    "\n",
    "def get_geosphere_data(parameters: list = [\"T2M\", \"RR\"],\n",
    "                       start: str = '2021-08-01T00:00', \n",
    "                       end: str = '2021-08-01T00:00', \n",
    "                       lat_lon: list = ['48.206248, 16.367569'], \n",
    "                       output_format: str = \"geojson\"):\n",
    "    \"\"\"\n",
    "    function for retrieving data from geosphere API\n",
    "    \"\"\"\n",
    "    \n",
    "    lat_lon_params = '&lat_lon='.join(lat_lon)\n",
    "\n",
    "    parameter_string_for_url = \"\"\n",
    "    for a in parameters:\n",
    "        parameter_string_for_url += f\"parameters={a}&\"\n",
    "    \n",
    "    url = f'{GEOSPHERE_INCA_TS_URL}?{parameter_string_for_url[:-1]}&start={start}&end={end}&lat_lon={lat_lon_params}&output_format={output_format}'\n",
    "    response = requests.get(url)\n",
    "    if response.status_code == 200:\n",
    "        return response.json()\n",
    "    else:\n",
    "        raise Exception(f'Request failed with status code {response.status_code}.')\n",
    "\n",
    "def get_lat_lon(row: pd.Series):\n",
    "    point = (row[\"geometry\"].y, row[\"geometry\"].x)\n",
    "    return point\n",
    "\n",
    "def get_time_range(row: pd.Series, days: int):\n",
    "    end = row.date\n",
    "    start = end - timedelta(days=days)\n",
    "    return start.isoformat(), end.isoformat()\n",
    "\n",
    "def transform_date(input_date):\n",
    "    \"\"\"transforms date from \"%m/%d/%Y\" into '%Y-%m-%dT12:00' format\"\"\"\n",
    "    date_object = datetime.strptime(input_date, \"%m/%d/%Y\")\n",
    "    output_date = date_object.strftime('%Y-%m-%dT12:00')\n",
    "    return str(output_date)"
   ]
  },
  {
   "cell_type": "code",
   "execution_count": 78,
   "metadata": {},
   "outputs": [],
   "source": [
    "# loading fire dataset\n",
    "event_data = gpd.read_file(paths[\"fire_events\"][\"final\"])\n",
    "event_data[\"date\"] = event_data[\"date\"].apply(transform_date)\n",
    "event_data.to_crs(\"EPSG:4326\", inplace=True)"
   ]
  },
  {
   "cell_type": "code",
   "execution_count": 79,
   "metadata": {},
   "outputs": [
    {
     "name": "stdout",
     "output_type": "stream",
     "text": [
      "0\n",
      "1\n",
      "2\n",
      "3\n",
      "4\n",
      "5\n",
      "6\n",
      "7\n",
      "8\n",
      "9\n",
      "10\n",
      "11\n",
      "12\n",
      "13\n",
      "14\n",
      "15\n",
      "16\n",
      "17\n",
      "18\n",
      "19\n",
      "20\n",
      "21\n",
      "22\n",
      "23\n",
      "24\n",
      "25\n",
      "26\n",
      "27\n",
      "28\n",
      "29\n",
      "30\n",
      "31\n",
      "32\n",
      "33\n",
      "34\n",
      "35\n",
      "36\n",
      "37\n",
      "38\n",
      "39\n",
      "40\n",
      "41\n",
      "42\n",
      "43\n",
      "44\n",
      "45\n",
      "46\n",
      "47\n",
      "48\n",
      "49\n",
      "50\n",
      "51\n",
      "52\n",
      "53\n",
      "54\n",
      "55\n",
      "56\n",
      "57\n"
     ]
    }
   ],
   "source": [
    "with open(paths[\"inca\"][\"training_data\"][\"T2M\"], 'a') as f:\n",
    "\n",
    "    for i, row in event_data.iterrows():\n",
    "        transformed_point = get_lat_lon(row)\n",
    "        lat_lon = [f\"{transformed_point[0]}, {transformed_point[1]}\"]\n",
    "        start_date = calculate_date_of_interest_x_hours_before(row.date, hours=24)\n",
    "        data = get_geosphere_data([\"T2M\", \"RR\", \"UU\", \"VV\", \"RH2M\"], start_date, row.date, lat_lon, \"geojson\")\n",
    "        json.dump(data, f)\n",
    "        f.write('\\n')\n",
    "        print(i)\n",
    "\n",
    "        time.sleep(5)\n",
    "\n",
    "f.close()"
   ]
  },
  {
   "cell_type": "code",
   "execution_count": null,
   "metadata": {},
   "outputs": [],
   "source": []
  },
  {
   "cell_type": "code",
   "execution_count": null,
   "metadata": {},
   "outputs": [],
   "source": []
  }
 ],
 "metadata": {
  "kernelspec": {
   "display_name": "pymc_env",
   "language": "python",
   "name": "pymc_env"
  },
  "language_info": {
   "codemirror_mode": {
    "name": "ipython",
    "version": 3
   },
   "file_extension": ".py",
   "mimetype": "text/x-python",
   "name": "python",
   "nbconvert_exporter": "python",
   "pygments_lexer": "ipython3",
   "version": "3.11.0"
  }
 },
 "nbformat": 4,
 "nbformat_minor": 2
}
