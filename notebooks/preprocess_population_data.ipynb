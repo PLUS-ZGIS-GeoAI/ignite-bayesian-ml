{
 "cells": [
  {
   "cell_type": "code",
   "execution_count": 2,
   "metadata": {},
   "outputs": [],
   "source": [
    "import os\n",
    "import sys\n",
    "import geopandas as gpd\n",
    "import pandas as pd \n",
    "\n",
    "\n",
    "sys.path.append(\"../\")\n",
    "from config import base_path"
   ]
  },
  {
   "cell_type": "code",
   "execution_count": 54,
   "metadata": {},
   "outputs": [],
   "source": [
    "path_to_geostat_2006 = os.path.join(base_path, \"data/raw/GEOSTAT_Population/GEOSTAT_Grid_POP_2006_1K/GEOSTAT_grid_EU_POP_2006_1K_V1_1_1.csv\")\n",
    "path_to_geostat_2011 = os.path.join(base_path, \"data/raw/GEOSTAT_Population/GEOSTAT-grid-POP-1K-2011-V2-0-1/Version 2_0_1/GEOSTAT_grid_POP_1K_2011_V2_0_1.csv\")\n",
    "path_to_geostat_2018 = os.path.join(base_path, \"data/raw/GEOSTAT_POPULATION/JRC_GRID_2018/JRC_POPULATION_2018.shp\")\n",
    "path_to_geostat_2021 = os.path.join(base_path, \"data/raw/GEOSTAT_Population/Eurostat_Census-GRID_2021_V1-0/ESTAT_Census_2011_V1-0.gpkg\")\n",
    "path_to_nuts_data = os.path.join(base_path, \"data/raw/EU_NUTS/NUTS_RG_01M_2021_3035.shp\")\n"
   ]
  },
  {
   "cell_type": "code",
   "execution_count": 17,
   "metadata": {},
   "outputs": [
    {
     "name": "stderr",
     "output_type": "stream",
     "text": [
      "C:\\Users\\David\\AppData\\Local\\Temp;\\ipykernel_3704\\2126506555.py:3: DtypeWarning: Columns (6) have mixed types. Specify dtype option on import or set low_memory=False.\n",
      "  geostat_2011 = pd.read_csv(path_to_geostat_2011)\n"
     ]
    }
   ],
   "source": [
    "# read in csv data from 2006 and 2011\n",
    "geostat_2006 = pd.read_csv(path_to_geostat_2006, sep=\";\")\n",
    "geostat_2011 = pd.read_csv(path_to_geostat_2011)\n"
   ]
  },
  {
   "cell_type": "code",
   "execution_count": null,
   "metadata": {},
   "outputs": [],
   "source": [
    "\n",
    "# read in shp-file and geopackage from 2018 and 2021\n",
    "geostat_2018 = gpd.read_file(path_to_geostat_2018)\n",
    "geostat_2021 = gpd.read_file(path_to_geostat_2021)"
   ]
  },
  {
   "cell_type": "code",
   "execution_count": 55,
   "metadata": {},
   "outputs": [],
   "source": [
    "# read in nuts data\n",
    "nuts = gpd.read_file(path_to_nuts_data)"
   ]
  },
  {
   "cell_type": "code",
   "execution_count": 56,
   "metadata": {},
   "outputs": [
    {
     "data": {
      "text/html": [
       "<div>\n",
       "<style scoped>\n",
       "    .dataframe tbody tr th:only-of-type {\n",
       "        vertical-align: middle;\n",
       "    }\n",
       "\n",
       "    .dataframe tbody tr th {\n",
       "        vertical-align: top;\n",
       "    }\n",
       "\n",
       "    .dataframe thead th {\n",
       "        text-align: right;\n",
       "    }\n",
       "</style>\n",
       "<table border=\"1\" class=\"dataframe\">\n",
       "  <thead>\n",
       "    <tr style=\"text-align: right;\">\n",
       "      <th></th>\n",
       "      <th>NUTS_ID</th>\n",
       "      <th>LEVL_CODE</th>\n",
       "      <th>CNTR_CODE</th>\n",
       "      <th>NAME_LATN</th>\n",
       "      <th>NUTS_NAME</th>\n",
       "      <th>MOUNT_TYPE</th>\n",
       "      <th>URBN_TYPE</th>\n",
       "      <th>COAST_TYPE</th>\n",
       "      <th>FID</th>\n",
       "      <th>geometry</th>\n",
       "    </tr>\n",
       "  </thead>\n",
       "  <tbody>\n",
       "    <tr>\n",
       "      <th>0</th>\n",
       "      <td>CZ</td>\n",
       "      <td>0</td>\n",
       "      <td>CZ</td>\n",
       "      <td>Česko</td>\n",
       "      <td>Česko</td>\n",
       "      <td>0.0</td>\n",
       "      <td>0</td>\n",
       "      <td>0</td>\n",
       "      <td>CZ</td>\n",
       "      <td>POLYGON ((4635755.041 3113254.655, 4636313.459...</td>\n",
       "    </tr>\n",
       "    <tr>\n",
       "      <th>1</th>\n",
       "      <td>DE</td>\n",
       "      <td>0</td>\n",
       "      <td>DE</td>\n",
       "      <td>Deutschland</td>\n",
       "      <td>Deutschland</td>\n",
       "      <td>0.0</td>\n",
       "      <td>0</td>\n",
       "      <td>0</td>\n",
       "      <td>DE</td>\n",
       "      <td>MULTIPOLYGON (((4355225.365 2715902.993, 43541...</td>\n",
       "    </tr>\n",
       "    <tr>\n",
       "      <th>2</th>\n",
       "      <td>DK</td>\n",
       "      <td>0</td>\n",
       "      <td>DK</td>\n",
       "      <td>Danmark</td>\n",
       "      <td>Danmark</td>\n",
       "      <td>0.0</td>\n",
       "      <td>0</td>\n",
       "      <td>0</td>\n",
       "      <td>DK</td>\n",
       "      <td>MULTIPOLYGON (((4650502.736 3591342.844, 46503...</td>\n",
       "    </tr>\n",
       "    <tr>\n",
       "      <th>3</th>\n",
       "      <td>AL</td>\n",
       "      <td>0</td>\n",
       "      <td>AL</td>\n",
       "      <td>Shqipëria</td>\n",
       "      <td>Shqipëria</td>\n",
       "      <td>0.0</td>\n",
       "      <td>0</td>\n",
       "      <td>0</td>\n",
       "      <td>AL</td>\n",
       "      <td>MULTIPOLYGON (((5129579.170 2204098.752, 51298...</td>\n",
       "    </tr>\n",
       "    <tr>\n",
       "      <th>4</th>\n",
       "      <td>CY</td>\n",
       "      <td>0</td>\n",
       "      <td>CY</td>\n",
       "      <td>Kýpros</td>\n",
       "      <td>Κύπρος</td>\n",
       "      <td>0.0</td>\n",
       "      <td>0</td>\n",
       "      <td>0</td>\n",
       "      <td>CY</td>\n",
       "      <td>MULTIPOLYGON (((6527040.718 1762367.593, 65267...</td>\n",
       "    </tr>\n",
       "  </tbody>\n",
       "</table>\n",
       "</div>"
      ],
      "text/plain": [
       "  NUTS_ID  LEVL_CODE CNTR_CODE    NAME_LATN    NUTS_NAME  MOUNT_TYPE  \\\n",
       "0      CZ          0        CZ        Česko        Česko         0.0   \n",
       "1      DE          0        DE  Deutschland  Deutschland         0.0   \n",
       "2      DK          0        DK      Danmark      Danmark         0.0   \n",
       "3      AL          0        AL    Shqipëria    Shqipëria         0.0   \n",
       "4      CY          0        CY       Kýpros       Κύπρος         0.0   \n",
       "\n",
       "   URBN_TYPE  COAST_TYPE FID  \\\n",
       "0          0           0  CZ   \n",
       "1          0           0  DE   \n",
       "2          0           0  DK   \n",
       "3          0           0  AL   \n",
       "4          0           0  CY   \n",
       "\n",
       "                                            geometry  \n",
       "0  POLYGON ((4635755.041 3113254.655, 4636313.459...  \n",
       "1  MULTIPOLYGON (((4355225.365 2715902.993, 43541...  \n",
       "2  MULTIPOLYGON (((4650502.736 3591342.844, 46503...  \n",
       "3  MULTIPOLYGON (((5129579.170 2204098.752, 51298...  \n",
       "4  MULTIPOLYGON (((6527040.718 1762367.593, 65267...  "
      ]
     },
     "execution_count": 56,
     "metadata": {},
     "output_type": "execute_result"
    }
   ],
   "source": [
    "nuts.head()"
   ]
  },
  {
   "cell_type": "code",
   "execution_count": 82,
   "metadata": {},
   "outputs": [
    {
     "name": "stderr",
     "output_type": "stream",
     "text": [
      "c:\\Users\\David\\anaconda3\\envs\\pymc_env\\Lib\\site-packages\\geopandas\\geodataframe.py:1443: SettingWithCopyWarning: \n",
      "A value is trying to be set on a copy of a slice from a DataFrame.\n",
      "Try using .loc[row_indexer,col_indexer] = value instead\n",
      "\n",
      "See the caveats in the documentation: https://pandas.pydata.org/pandas-docs/stable/user_guide/indexing.html#returning-a-view-versus-a-copy\n",
      "  super().__setitem__(key, value)\n"
     ]
    }
   ],
   "source": [
    "# intersect geostat_2021 data with nuts austria level 0 shape\n",
    "nuts_austria = nuts[(nuts.LEVL_CODE == 0) & (nuts.CNTR_CODE == \"AT\")]\n",
    "nuts_austria.set_crs(epsg=\"3035\", allow_override=True, inplace=True)\n",
    "geostat_2021_austria = geostat_2021[geostat_2021.within(nuts_austria.unary_union)]"
   ]
  },
  {
   "cell_type": "code",
   "execution_count": 84,
   "metadata": {},
   "outputs": [
    {
     "data": {
      "text/html": [
       "<div>\n",
       "<style scoped>\n",
       "    .dataframe tbody tr th:only-of-type {\n",
       "        vertical-align: middle;\n",
       "    }\n",
       "\n",
       "    .dataframe tbody tr th {\n",
       "        vertical-align: top;\n",
       "    }\n",
       "\n",
       "    .dataframe thead th {\n",
       "        text-align: right;\n",
       "    }\n",
       "</style>\n",
       "<table border=\"1\" class=\"dataframe\">\n",
       "  <thead>\n",
       "    <tr style=\"text-align: right;\">\n",
       "      <th></th>\n",
       "      <th>GRD_ID</th>\n",
       "      <th>POP_2021</th>\n",
       "      <th>geometry</th>\n",
       "    </tr>\n",
       "  </thead>\n",
       "  <tbody>\n",
       "    <tr>\n",
       "      <th>1630265</th>\n",
       "      <td>CRS3035RES1000mN2596000E4672000</td>\n",
       "      <td>0.0</td>\n",
       "      <td>POLYGON ((4672000.000 2596000.000, 4673000.000...</td>\n",
       "    </tr>\n",
       "    <tr>\n",
       "      <th>1632555</th>\n",
       "      <td>CRS3035RES1000mN2597000E4672000</td>\n",
       "      <td>0.0</td>\n",
       "      <td>POLYGON ((4672000.000 2597000.000, 4673000.000...</td>\n",
       "    </tr>\n",
       "    <tr>\n",
       "      <th>1634847</th>\n",
       "      <td>CRS3035RES1000mN2598000E4671000</td>\n",
       "      <td>0.0</td>\n",
       "      <td>POLYGON ((4671000.000 2598000.000, 4672000.000...</td>\n",
       "    </tr>\n",
       "    <tr>\n",
       "      <th>1634848</th>\n",
       "      <td>CRS3035RES1000mN2598000E4672000</td>\n",
       "      <td>0.0</td>\n",
       "      <td>POLYGON ((4672000.000 2598000.000, 4673000.000...</td>\n",
       "    </tr>\n",
       "    <tr>\n",
       "      <th>1637143</th>\n",
       "      <td>CRS3035RES1000mN2599000E4671000</td>\n",
       "      <td>1.0</td>\n",
       "      <td>POLYGON ((4671000.000 2599000.000, 4672000.000...</td>\n",
       "    </tr>\n",
       "  </tbody>\n",
       "</table>\n",
       "</div>"
      ],
      "text/plain": [
       "                                  GRD_ID  POP_2021  \\\n",
       "1630265  CRS3035RES1000mN2596000E4672000       0.0   \n",
       "1632555  CRS3035RES1000mN2597000E4672000       0.0   \n",
       "1634847  CRS3035RES1000mN2598000E4671000       0.0   \n",
       "1634848  CRS3035RES1000mN2598000E4672000       0.0   \n",
       "1637143  CRS3035RES1000mN2599000E4671000       1.0   \n",
       "\n",
       "                                                  geometry  \n",
       "1630265  POLYGON ((4672000.000 2596000.000, 4673000.000...  \n",
       "1632555  POLYGON ((4672000.000 2597000.000, 4673000.000...  \n",
       "1634847  POLYGON ((4671000.000 2598000.000, 4672000.000...  \n",
       "1634848  POLYGON ((4672000.000 2598000.000, 4673000.000...  \n",
       "1637143  POLYGON ((4671000.000 2599000.000, 4672000.000...  "
      ]
     },
     "execution_count": 84,
     "metadata": {},
     "output_type": "execute_result"
    }
   ],
   "source": [
    "geostat_2021_austria.head()"
   ]
  },
  {
   "cell_type": "code",
   "execution_count": 85,
   "metadata": {},
   "outputs": [
    {
     "name": "stderr",
     "output_type": "stream",
     "text": [
      "C:\\Users\\David\\AppData\\Local\\Temp;\\ipykernel_3704\\3377811848.py:4: SettingWithCopyWarning: \n",
      "A value is trying to be set on a copy of a slice from a DataFrame\n",
      "\n",
      "See the caveats in the documentation: https://pandas.pydata.org/pandas-docs/stable/user_guide/indexing.html#returning-a-view-versus-a-copy\n",
      "  geostat_2021_austria.rename(columns={\"OBS_VALUE_T\": \"POP_2021\"}, inplace=True)\n"
     ]
    }
   ],
   "source": [
    "# rename population columns into a uniform way \n",
    "geostat_2006.rename(columns={\"POP_TOT\": \"POP_2006\"}, inplace=True)\n",
    "geostat_2011.rename(columns={\"TOT_P\": \"POP_2011\"}, inplace=True)\n",
    "geostat_2018.rename(columns={\"TOT_P_2018\": \"POP_2018\"}, inplace=True)\n",
    "geostat_2021_austria.rename(columns={\"OBS_VALUE_T\": \"POP_2021\"}, inplace=True)\n"
   ]
  },
  {
   "cell_type": "code",
   "execution_count": 86,
   "metadata": {},
   "outputs": [],
   "source": [
    "# rename GRD_ID columns of data from 2006 and 2011 so that it matches the column names from 2018 and 2021\n",
    "\n",
    "def convert_grd_id(grd_id: str):\n",
    "    grd_str = grd_id.split(\"km\")[1]\n",
    "    nrd_component = grd_str.split(\"E\")[0]\n",
    "    east_component = \"E\" + grd_str.split(\"E\")[1]\n",
    "    final_str = f\"CRS3035RES1000m{nrd_component}000{east_component}000\"\n",
    "    return final_str\n",
    "    \n",
    "geostat_2006.GRD_ID = geostat_2006.GRD_ID.apply(lambda x: convert_grd_id(x))\n",
    "geostat_2011.GRD_ID = geostat_2011.GRD_ID.apply(lambda x: convert_grd_id(x))"
   ]
  },
  {
   "cell_type": "code",
   "execution_count": 87,
   "metadata": {},
   "outputs": [],
   "source": [
    "# merge data from different years\n",
    "geostat_pop = geostat_2021_austria.merge(geostat_2018.loc[:, [\"GRD_ID\", \"POP_2018\"]], on=\"GRD_ID\", how=\"left\")\n",
    "geostat_pop = geostat_pop.merge(geostat_2011.loc[:, [\"GRD_ID\", \"POP_2011\"]], on=\"GRD_ID\", how=\"left\")\n",
    "geostat_pop = geostat_pop.merge(geostat_2006.loc[:, [\"GRD_ID\", \"POP_2006\"]], on=\"GRD_ID\", how=\"left\")"
   ]
  },
  {
   "cell_type": "code",
   "execution_count": 88,
   "metadata": {},
   "outputs": [],
   "source": [
    "# fill NaN values with 0\n",
    "geostat_pop[\"POP_2006\"] = geostat_pop[\"POP_2006\"].fillna(0)\n",
    "geostat_pop[\"POP_2011\"] = geostat_pop[\"POP_2011\"].fillna(0)\n",
    "geostat_pop[\"POP_2018\"] = geostat_pop[\"POP_2018\"].fillna(0)\n",
    "geostat_pop[\"POP_2021\"] = geostat_pop[\"POP_2021\"].fillna(0)\n"
   ]
  },
  {
   "cell_type": "code",
   "execution_count": 89,
   "metadata": {},
   "outputs": [],
   "source": [
    "# bring columns into the right order\n",
    "geostat_pop = geostat_pop.loc[:, [\"GRD_ID\", \"POP_2006\", \"POP_2011\", \"POP_2018\", \"POP_2021\", \"geometry\"]]"
   ]
  },
  {
   "cell_type": "code",
   "execution_count": 91,
   "metadata": {},
   "outputs": [
    {
     "data": {
      "text/html": [
       "<div>\n",
       "<style scoped>\n",
       "    .dataframe tbody tr th:only-of-type {\n",
       "        vertical-align: middle;\n",
       "    }\n",
       "\n",
       "    .dataframe tbody tr th {\n",
       "        vertical-align: top;\n",
       "    }\n",
       "\n",
       "    .dataframe thead th {\n",
       "        text-align: right;\n",
       "    }\n",
       "</style>\n",
       "<table border=\"1\" class=\"dataframe\">\n",
       "  <thead>\n",
       "    <tr style=\"text-align: right;\">\n",
       "      <th></th>\n",
       "      <th>GRD_ID</th>\n",
       "      <th>POP_2006</th>\n",
       "      <th>POP_2011</th>\n",
       "      <th>POP_2018</th>\n",
       "      <th>POP_2021</th>\n",
       "      <th>geometry</th>\n",
       "    </tr>\n",
       "  </thead>\n",
       "  <tbody>\n",
       "    <tr>\n",
       "      <th>0</th>\n",
       "      <td>CRS3035RES1000mN2596000E4672000</td>\n",
       "      <td>0.0</td>\n",
       "      <td>0.0</td>\n",
       "      <td>0.0</td>\n",
       "      <td>0.0</td>\n",
       "      <td>POLYGON ((4672000.000 2596000.000, 4673000.000...</td>\n",
       "    </tr>\n",
       "    <tr>\n",
       "      <th>1</th>\n",
       "      <td>CRS3035RES1000mN2597000E4672000</td>\n",
       "      <td>0.0</td>\n",
       "      <td>0.0</td>\n",
       "      <td>0.0</td>\n",
       "      <td>0.0</td>\n",
       "      <td>POLYGON ((4672000.000 2597000.000, 4673000.000...</td>\n",
       "    </tr>\n",
       "    <tr>\n",
       "      <th>2</th>\n",
       "      <td>CRS3035RES1000mN2598000E4671000</td>\n",
       "      <td>0.0</td>\n",
       "      <td>0.0</td>\n",
       "      <td>0.0</td>\n",
       "      <td>0.0</td>\n",
       "      <td>POLYGON ((4671000.000 2598000.000, 4672000.000...</td>\n",
       "    </tr>\n",
       "    <tr>\n",
       "      <th>3</th>\n",
       "      <td>CRS3035RES1000mN2598000E4672000</td>\n",
       "      <td>0.0</td>\n",
       "      <td>0.0</td>\n",
       "      <td>0.0</td>\n",
       "      <td>0.0</td>\n",
       "      <td>POLYGON ((4672000.000 2598000.000, 4673000.000...</td>\n",
       "    </tr>\n",
       "    <tr>\n",
       "      <th>4</th>\n",
       "      <td>CRS3035RES1000mN2599000E4671000</td>\n",
       "      <td>1.0</td>\n",
       "      <td>1.0</td>\n",
       "      <td>1.0</td>\n",
       "      <td>1.0</td>\n",
       "      <td>POLYGON ((4671000.000 2599000.000, 4672000.000...</td>\n",
       "    </tr>\n",
       "    <tr>\n",
       "      <th>5</th>\n",
       "      <td>CRS3035RES1000mN2599000E4672000</td>\n",
       "      <td>3.0</td>\n",
       "      <td>2.0</td>\n",
       "      <td>2.0</td>\n",
       "      <td>3.0</td>\n",
       "      <td>POLYGON ((4672000.000 2599000.000, 4673000.000...</td>\n",
       "    </tr>\n",
       "    <tr>\n",
       "      <th>6</th>\n",
       "      <td>CRS3035RES1000mN2600000E4665000</td>\n",
       "      <td>0.0</td>\n",
       "      <td>0.0</td>\n",
       "      <td>0.0</td>\n",
       "      <td>0.0</td>\n",
       "      <td>POLYGON ((4665000.000 2600000.000, 4666000.000...</td>\n",
       "    </tr>\n",
       "    <tr>\n",
       "      <th>7</th>\n",
       "      <td>CRS3035RES1000mN2600000E4670000</td>\n",
       "      <td>14.0</td>\n",
       "      <td>20.0</td>\n",
       "      <td>19.0</td>\n",
       "      <td>8.0</td>\n",
       "      <td>POLYGON ((4670000.000 2600000.000, 4671000.000...</td>\n",
       "    </tr>\n",
       "    <tr>\n",
       "      <th>8</th>\n",
       "      <td>CRS3035RES1000mN2600000E4671000</td>\n",
       "      <td>1.0</td>\n",
       "      <td>1.0</td>\n",
       "      <td>1.0</td>\n",
       "      <td>1.0</td>\n",
       "      <td>POLYGON ((4671000.000 2600000.000, 4672000.000...</td>\n",
       "    </tr>\n",
       "    <tr>\n",
       "      <th>9</th>\n",
       "      <td>CRS3035RES1000mN2600000E4672000</td>\n",
       "      <td>0.0</td>\n",
       "      <td>0.0</td>\n",
       "      <td>0.0</td>\n",
       "      <td>0.0</td>\n",
       "      <td>POLYGON ((4672000.000 2600000.000, 4673000.000...</td>\n",
       "    </tr>\n",
       "  </tbody>\n",
       "</table>\n",
       "</div>"
      ],
      "text/plain": [
       "                            GRD_ID  POP_2006  POP_2011  POP_2018  POP_2021  \\\n",
       "0  CRS3035RES1000mN2596000E4672000       0.0       0.0       0.0       0.0   \n",
       "1  CRS3035RES1000mN2597000E4672000       0.0       0.0       0.0       0.0   \n",
       "2  CRS3035RES1000mN2598000E4671000       0.0       0.0       0.0       0.0   \n",
       "3  CRS3035RES1000mN2598000E4672000       0.0       0.0       0.0       0.0   \n",
       "4  CRS3035RES1000mN2599000E4671000       1.0       1.0       1.0       1.0   \n",
       "5  CRS3035RES1000mN2599000E4672000       3.0       2.0       2.0       3.0   \n",
       "6  CRS3035RES1000mN2600000E4665000       0.0       0.0       0.0       0.0   \n",
       "7  CRS3035RES1000mN2600000E4670000      14.0      20.0      19.0       8.0   \n",
       "8  CRS3035RES1000mN2600000E4671000       1.0       1.0       1.0       1.0   \n",
       "9  CRS3035RES1000mN2600000E4672000       0.0       0.0       0.0       0.0   \n",
       "\n",
       "                                            geometry  \n",
       "0  POLYGON ((4672000.000 2596000.000, 4673000.000...  \n",
       "1  POLYGON ((4672000.000 2597000.000, 4673000.000...  \n",
       "2  POLYGON ((4671000.000 2598000.000, 4672000.000...  \n",
       "3  POLYGON ((4672000.000 2598000.000, 4673000.000...  \n",
       "4  POLYGON ((4671000.000 2599000.000, 4672000.000...  \n",
       "5  POLYGON ((4672000.000 2599000.000, 4673000.000...  \n",
       "6  POLYGON ((4665000.000 2600000.000, 4666000.000...  \n",
       "7  POLYGON ((4670000.000 2600000.000, 4671000.000...  \n",
       "8  POLYGON ((4671000.000 2600000.000, 4672000.000...  \n",
       "9  POLYGON ((4672000.000 2600000.000, 4673000.000...  "
      ]
     },
     "execution_count": 91,
     "metadata": {},
     "output_type": "execute_result"
    }
   ],
   "source": [
    "geostat_pop.head(10)"
   ]
  },
  {
   "cell_type": "code",
   "execution_count": 92,
   "metadata": {},
   "outputs": [],
   "source": [
    "# export GeoDataFrame to shp file\n",
    "geostat_pop.to_file(os.path.join(base_path, \"data/processed/population_data/population_data_all_years_vector/geostat_pop.shp\"))"
   ]
  },
  {
   "cell_type": "code",
   "execution_count": null,
   "metadata": {},
   "outputs": [],
   "source": []
  }
 ],
 "metadata": {
  "kernelspec": {
   "display_name": "pymc_env",
   "language": "python",
   "name": "pymc_env"
  },
  "language_info": {
   "codemirror_mode": {
    "name": "ipython",
    "version": 3
   },
   "file_extension": ".py",
   "mimetype": "text/x-python",
   "name": "python",
   "nbconvert_exporter": "python",
   "pygments_lexer": "ipython3",
   "version": "3.11.0"
  }
 },
 "nbformat": 4,
 "nbformat_minor": 2
}
