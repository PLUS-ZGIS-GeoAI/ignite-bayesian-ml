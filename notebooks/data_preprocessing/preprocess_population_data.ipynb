{
 "cells": [
  {
   "cell_type": "code",
   "execution_count": 5,
   "metadata": {},
   "outputs": [],
   "source": [
    "import os\n",
    "import sys\n",
    "import geopandas as gpd\n",
    "import pandas as pd \n",
    "\n",
    "\n",
    "sys.path.append(\"../\")\n",
    "from config.config import BASE_PATH, PATH_TO_PATH_CONFIG_FILE\n",
    "from src.utils import load_paths_from_yaml, replace_base_path"
   ]
  },
  {
   "cell_type": "code",
   "execution_count": 6,
   "metadata": {},
   "outputs": [],
   "source": [
    "# Load paths from the YAML file\n",
    "paths = load_paths_from_yaml(PATH_TO_PATH_CONFIG_FILE)\n",
    "paths = replace_base_path(paths, BASE_PATH)"
   ]
  },
  {
   "cell_type": "code",
   "execution_count": 7,
   "metadata": {},
   "outputs": [
    {
     "name": "stderr",
     "output_type": "stream",
     "text": [
      "C:\\Users\\David\\AppData\\Local\\Temp;\\ipykernel_21304\\2545552645.py:3: DtypeWarning: Columns (6) have mixed types. Specify dtype option on import or set low_memory=False.\n",
      "  geostat_2011 = pd.read_csv(paths[\"population_layers\"][\"2011\"][\"source\"])\n"
     ]
    }
   ],
   "source": [
    "# read in csv data from 2006 and 2011\n",
    "geostat_2006 = pd.read_csv(paths[\"population_layers\"][\"2006\"][\"source\"], sep=\";\")\n",
    "geostat_2011 = pd.read_csv(paths[\"population_layers\"][\"2011\"][\"source\"])\n",
    "\n",
    "# read in shp-file and geopackage from 2018 and 2021\n",
    "geostat_2018 = gpd.read_file(paths[\"population_layers\"][\"2018\"][\"source\"])\n",
    "geostat_2021 = gpd.read_file(paths[\"population_layers\"][\"2021\"][\"source\"])\n",
    "\n",
    "# read in nuts data\n",
    "nuts = gpd.read_file(paths[\"nuts_data\"])\n"
   ]
  },
  {
   "cell_type": "code",
   "execution_count": 82,
   "metadata": {},
   "outputs": [
    {
     "name": "stderr",
     "output_type": "stream",
     "text": [
      "c:\\Users\\David\\anaconda3\\envs\\pymc_env\\Lib\\site-packages\\geopandas\\geodataframe.py:1443: SettingWithCopyWarning: \n",
      "A value is trying to be set on a copy of a slice from a DataFrame.\n",
      "Try using .loc[row_indexer,col_indexer] = value instead\n",
      "\n",
      "See the caveats in the documentation: https://pandas.pydata.org/pandas-docs/stable/user_guide/indexing.html#returning-a-view-versus-a-copy\n",
      "  super().__setitem__(key, value)\n"
     ]
    }
   ],
   "source": [
    "# intersect geostat_2021 data with nuts austria level 0 shape\n",
    "nuts_austria = nuts[(nuts.LEVL_CODE == 0) & (nuts.CNTR_CODE == \"AT\")]\n",
    "nuts_austria.set_crs(epsg=\"3035\", allow_override=True, inplace=True)\n",
    "geostat_2021_austria = geostat_2021[geostat_2021.within(nuts_austria.unary_union)]"
   ]
  },
  {
   "cell_type": "code",
   "execution_count": 85,
   "metadata": {},
   "outputs": [
    {
     "name": "stderr",
     "output_type": "stream",
     "text": [
      "C:\\Users\\David\\AppData\\Local\\Temp;\\ipykernel_3704\\3377811848.py:4: SettingWithCopyWarning: \n",
      "A value is trying to be set on a copy of a slice from a DataFrame\n",
      "\n",
      "See the caveats in the documentation: https://pandas.pydata.org/pandas-docs/stable/user_guide/indexing.html#returning-a-view-versus-a-copy\n",
      "  geostat_2021_austria.rename(columns={\"OBS_VALUE_T\": \"POP_2021\"}, inplace=True)\n"
     ]
    }
   ],
   "source": [
    "# rename population columns into a uniform way \n",
    "geostat_2006.rename(columns={\"POP_TOT\": \"POP_2006\"}, inplace=True)\n",
    "geostat_2011.rename(columns={\"TOT_P\": \"POP_2011\"}, inplace=True)\n",
    "geostat_2018.rename(columns={\"TOT_P_2018\": \"POP_2018\"}, inplace=True)\n",
    "geostat_2021_austria.rename(columns={\"OBS_VALUE_T\": \"POP_2021\"}, inplace=True)\n"
   ]
  },
  {
   "cell_type": "code",
   "execution_count": 86,
   "metadata": {},
   "outputs": [],
   "source": [
    "# rename GRD_ID columns of data from 2006 and 2011 so that it matches the column names from 2018 and 2021\n",
    "\n",
    "def convert_grd_id(grd_id: str):\n",
    "    grd_str = grd_id.split(\"km\")[1]\n",
    "    nrd_component = grd_str.split(\"E\")[0]\n",
    "    east_component = \"E\" + grd_str.split(\"E\")[1]\n",
    "    final_str = f\"CRS3035RES1000m{nrd_component}000{east_component}000\"\n",
    "    return final_str\n",
    "    \n",
    "geostat_2006.GRD_ID = geostat_2006.GRD_ID.apply(lambda x: convert_grd_id(x))\n",
    "geostat_2011.GRD_ID = geostat_2011.GRD_ID.apply(lambda x: convert_grd_id(x))"
   ]
  },
  {
   "cell_type": "code",
   "execution_count": 87,
   "metadata": {},
   "outputs": [],
   "source": [
    "# merge data from different years\n",
    "geostat_pop = geostat_2021_austria.merge(geostat_2018.loc[:, [\"GRD_ID\", \"POP_2018\"]], on=\"GRD_ID\", how=\"left\")\n",
    "geostat_pop = geostat_pop.merge(geostat_2011.loc[:, [\"GRD_ID\", \"POP_2011\"]], on=\"GRD_ID\", how=\"left\")\n",
    "geostat_pop = geostat_pop.merge(geostat_2006.loc[:, [\"GRD_ID\", \"POP_2006\"]], on=\"GRD_ID\", how=\"left\")"
   ]
  },
  {
   "cell_type": "code",
   "execution_count": 88,
   "metadata": {},
   "outputs": [],
   "source": [
    "# fill NaN values with 0\n",
    "geostat_pop[\"POP_2006\"] = geostat_pop[\"POP_2006\"].fillna(0)\n",
    "geostat_pop[\"POP_2011\"] = geostat_pop[\"POP_2011\"].fillna(0)\n",
    "geostat_pop[\"POP_2018\"] = geostat_pop[\"POP_2018\"].fillna(0)\n",
    "geostat_pop[\"POP_2021\"] = geostat_pop[\"POP_2021\"].fillna(0)\n"
   ]
  },
  {
   "cell_type": "code",
   "execution_count": 89,
   "metadata": {},
   "outputs": [],
   "source": [
    "# bring columns into the right order\n",
    "geostat_pop = geostat_pop.loc[:, [\"GRD_ID\", \"POP_2006\", \"POP_2011\", \"POP_2018\", \"POP_2021\", \"geometry\"]]"
   ]
  },
  {
   "cell_type": "code",
   "execution_count": 92,
   "metadata": {},
   "outputs": [],
   "source": [
    "# export GeoDataFrame to shp file\n",
    "geostat_pop.to_file(paths[\"populations_layers\"][\"population_all_years_vector\"])"
   ]
  },
  {
   "cell_type": "code",
   "execution_count": null,
   "metadata": {},
   "outputs": [],
   "source": []
  }
 ],
 "metadata": {
  "kernelspec": {
   "display_name": "pymc_env",
   "language": "python",
   "name": "pymc_env"
  },
  "language_info": {
   "codemirror_mode": {
    "name": "ipython",
    "version": 3
   },
   "file_extension": ".py",
   "mimetype": "text/x-python",
   "name": "python",
   "nbconvert_exporter": "python",
   "pygments_lexer": "ipython3",
   "version": "3.11.0"
  }
 },
 "nbformat": 4,
 "nbformat_minor": 2
}
