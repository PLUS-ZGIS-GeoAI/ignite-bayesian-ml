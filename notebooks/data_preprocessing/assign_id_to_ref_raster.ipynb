{
 "cells": [
  {
   "cell_type": "code",
   "execution_count": 20,
   "metadata": {},
   "outputs": [],
   "source": [
    "import sys\n",
    "sys.path.append(\"../../\")"
   ]
  },
  {
   "cell_type": "code",
   "execution_count": 21,
   "metadata": {},
   "outputs": [],
   "source": [
    "import numpy as np\n",
    "from osgeo import gdal\n",
    "\n",
    "from config.config import BASE_PATH, PATH_TO_PATH_CONFIG_FILE\n",
    "from src.utils import load_paths_from_yaml, replace_base_path"
   ]
  },
  {
   "cell_type": "code",
   "execution_count": 2,
   "metadata": {},
   "outputs": [],
   "source": [
    "\n",
    "def assign_id(path_to_ref_layer: str, path_to_output: str):\n",
    "    \"\"\"assign id to each cell of reference raster based on row and column\"\"\"\n",
    "\n",
    "    dataset = gdal.Open(path_to_ref_layer, gdal.GA_ReadOnly)\n",
    "\n",
    "    cols = dataset.RasterXSize\n",
    "    rows = dataset.RasterYSize\n",
    "\n",
    "    driver = gdal.GetDriverByName(\"GTiff\")\n",
    "    output_raster = driver.Create(path_to_output, cols, rows, 1, gdal.GDT_Int32)\n",
    "    output_raster.SetProjection(dataset.GetProjection())\n",
    "    output_raster.SetGeoTransform(dataset.GetGeoTransform())\n",
    "\n",
    "    id_array = np.arange(1, cols * rows + 1, dtype=np.int32).reshape((rows, cols))\n",
    "\n",
    "    output_band = output_raster.GetRasterBand(1)\n",
    "    output_band.WriteArray(id_array)\n",
    "\n",
    "    output_raster = None\n",
    "    dataset = None\n",
    "\n",
    "    return True "
   ]
  },
  {
   "cell_type": "code",
   "execution_count": 22,
   "metadata": {},
   "outputs": [],
   "source": [
    "paths = load_paths_from_yaml(PATH_TO_PATH_CONFIG_FILE)\n",
    "paths = replace_base_path(paths, BASE_PATH)"
   ]
  },
  {
   "cell_type": "code",
   "execution_count": null,
   "metadata": {},
   "outputs": [],
   "source": [
    "\n",
    "input_geotiff = paths[\"reference_grid\"][\"raster\"]\n",
    "output_geotiff = paths[\"reference_grid\"][\"raster\"]\n",
    "assign_id(input_geotiff, output_geotiff)"
   ]
  }
 ],
 "metadata": {
  "kernelspec": {
   "display_name": "Python 3",
   "language": "python",
   "name": "python3"
  },
  "language_info": {
   "codemirror_mode": {
    "name": "ipython",
    "version": 3
   },
   "file_extension": ".py",
   "mimetype": "text/x-python",
   "name": "python",
   "nbconvert_exporter": "python",
   "pygments_lexer": "ipython3",
   "version": "3.11.0"
  }
 },
 "nbformat": 4,
 "nbformat_minor": 2
}
