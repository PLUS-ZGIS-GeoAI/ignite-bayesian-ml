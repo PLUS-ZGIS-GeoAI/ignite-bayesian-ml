{
 "cells": [
  {
   "cell_type": "code",
   "execution_count": 1,
   "metadata": {},
   "outputs": [],
   "source": [
    "import sys\n",
    "sys.path.append(\"../../\")"
   ]
  },
  {
   "cell_type": "code",
   "execution_count": 10,
   "metadata": {},
   "outputs": [],
   "source": [
    "import geopandas as gpd\n",
    "\n",
    "from config.config import BASE_PATH, PATH_TO_PATH_CONFIG_FILE\n",
    "from config.config import PROJECT_EPSG\n",
    "from src.utils import load_paths_from_yaml, replace_base_path"
   ]
  },
  {
   "cell_type": "code",
   "execution_count": 5,
   "metadata": {},
   "outputs": [],
   "source": [
    "paths = load_paths_from_yaml(PATH_TO_PATH_CONFIG_FILE)\n",
    "paths = replace_base_path(paths, BASE_PATH)"
   ]
  },
  {
   "cell_type": "code",
   "execution_count": 8,
   "metadata": {},
   "outputs": [],
   "source": [
    "# load nuts data\n",
    "nuts_gdf = gpd.read_file(paths[\"nuts_data\"][\"source\"])\n",
    "\n",
    "# extract only austrian nuts \n",
    "nuts_aut = nuts_gdf[nuts_gdf['CNTR_CODE'] == \"AT\"]\n",
    "\n",
    "# reproject to target projection\n",
    "nuts_aut.to_crs(PROJECT_EPSG, inplace=True)\n",
    "\n",
    "# save\n",
    "nuts_aut.to_file(paths[\"nuts_data\"][\"final\"])"
   ]
  }
 ],
 "metadata": {
  "kernelspec": {
   "display_name": "Python 3",
   "language": "python",
   "name": "python3"
  },
  "language_info": {
   "codemirror_mode": {
    "name": "ipython",
    "version": 3
   },
   "file_extension": ".py",
   "mimetype": "text/x-python",
   "name": "python",
   "nbconvert_exporter": "python",
   "pygments_lexer": "ipython3",
   "version": "3.11.0"
  }
 },
 "nbformat": 4,
 "nbformat_minor": 2
}
