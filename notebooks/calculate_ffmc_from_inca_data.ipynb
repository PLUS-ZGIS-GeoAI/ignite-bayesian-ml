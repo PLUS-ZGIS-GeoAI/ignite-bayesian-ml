{
 "cells": [
  {
   "cell_type": "code",
   "execution_count": 4,
   "metadata": {},
   "outputs": [],
   "source": [
    "import requests\n",
    "import numpy as np\n",
    "import pandas as pd \n",
    "import geopandas as gpd"
   ]
  },
  {
   "cell_type": "code",
   "execution_count": 11,
   "metadata": {},
   "outputs": [],
   "source": [
    "def get_geosphere_data(parameters: list = \"T2M\",\n",
    "                       start: str = '2021-08-01T12:00', \n",
    "                       end: str = '2021-08-02T12:00', \n",
    "                       lat_lon: list = ['48.206248, 16.367569'], \n",
    "                       output_format: str = \"geojson\"):\n",
    "    \"\"\"\n",
    "    function for retrieving data from geosphere API\n",
    "    \"\"\"\n",
    "    \n",
    "    base_url = 'https://dataset.api.hub.zamg.ac.at/v1/timeseries/historical/inca-v1-1h-1km'\n",
    "    lat_lon_params = '&lat_lon='.join(lat_lon)\n",
    "    url = f'{base_url}?parameters={parameters}&start={start}&end={end}&lat_lon={lat_lon_params}&output_format={output_format}'\n",
    "    print(url)\n",
    "    response = requests.get(url)\n",
    "    if response.status_code == 200:\n",
    "        return response.json()\n",
    "    else:\n",
    "        raise Exception(f'Request failed with status code {response.status_code}.')"
   ]
  },
  {
   "cell_type": "code",
   "execution_count": 12,
   "metadata": {},
   "outputs": [
    {
     "name": "stdout",
     "output_type": "stream",
     "text": [
      "https://dataset.api.hub.zamg.ac.at/v1/timeseries/historical/inca-v1-1h-1km?parameters=T2M&start=2021-08-01T12:00&end=2021-08-02T12:00&lat_lon=48.206248, 16.367569&output_format=geojson\n"
     ]
    }
   ],
   "source": [
    "data = get_geosphere_data()"
   ]
  },
  {
   "cell_type": "code",
   "execution_count": 3,
   "metadata": {},
   "outputs": [],
   "source": [
    "# function\n",
    "# input bounding box and get data (temp, prec, rhum, wind) for last 24 hours from day of interest (DOI) noon - day before DOI noon \n",
    "\n",
    "def get_geosphere_data(parameters: str = \"T2M\",\n",
    "                       day_of_interest: str = '2021-08-01T12:00',\n",
    "                       bbox: list = [int], \n",
    "                       output_format: str = \"geojson\"):\n",
    "    \n",
    "\n",
    "    url = \"https://dataset.api.hub.geosphere.at/v1/grid/historical/inca-v1-1h-1km?parameters=RR&parameters=T2M&start=2021-01-01T00%3A00&end=2021-01-01T00%3A00&bbox=47.45%2C14.05%2C47.50%2C14.10&output_format=geojson\" \n",
    "    base_url = \"https://dataset.api.hub.geosphere.at/v1/grid/historical/inca-v1-1h-1km\"\n",
    "    url = f\"{base_url}?parameters=RR&parameters=T2M\"\n",
    "\"\n",
    "    lat_lon_params = '&lat_lon='.join(lat_lon)\n",
    "    url = f'{base_url}?parameters={parameters}&start={start}&end={end}&lat_lon={lat_lon_params}&output_format={output_format}'\n",
    "    print(url)\n",
    "    response = requests.get(url)\n",
    "    if response.status_code == 200:\n",
    "        return response.json()\n",
    "    else:\n",
    "        raise Exception(f'Request failed with status code {response.status_code}.')"
   ]
  },
  {
   "cell_type": "code",
   "execution_count": 5,
   "metadata": {},
   "outputs": [],
   "source": [
    "path_to_test_aoi = r\"C:\\Users\\David\\Documents\\ZGIS\\Nextcloud_MyFiles\\Projects\\IGNITE\\data\\processed\\fwi_data\\test_aoi.shp\"\n",
    "aoi = gpd.read_file(path_to_test_aoi)"
   ]
  },
  {
   "cell_type": "code",
   "execution_count": 10,
   "metadata": {},
   "outputs": [],
   "source": [
    "data = get_geosphere_data(\"T2M\", '2021-08-01T12:00', aoi.bounds.iloc[0], \"geojson\")"
   ]
  },
  {
   "cell_type": "code",
   "execution_count": null,
   "metadata": {},
   "outputs": [],
   "source": []
  },
  {
   "cell_type": "code",
   "execution_count": null,
   "metadata": {},
   "outputs": [],
   "source": []
  }
 ],
 "metadata": {
  "kernelspec": {
   "display_name": "pymc_env",
   "language": "python",
   "name": "pymc_env"
  },
  "language_info": {
   "codemirror_mode": {
    "name": "ipython",
    "version": 3
   },
   "file_extension": ".py",
   "mimetype": "text/x-python",
   "name": "python",
   "nbconvert_exporter": "python",
   "pygments_lexer": "ipython3",
   "version": "3.11.0"
  }
 },
 "nbformat": 4,
 "nbformat_minor": 2
}
