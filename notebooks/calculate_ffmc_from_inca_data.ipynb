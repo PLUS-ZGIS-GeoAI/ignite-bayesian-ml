{
 "cells": [
  {
   "cell_type": "code",
   "execution_count": 29,
   "metadata": {},
   "outputs": [],
   "source": [
    "import requests\n",
    "import numpy as np\n",
    "import pandas as pd \n"
   ]
  },
  {
   "cell_type": "code",
   "execution_count": 11,
   "metadata": {},
   "outputs": [],
   "source": [
    "def get_geosphere_data(parameters: list = \"T2M\",\n",
    "                       start: str = '2021-08-01T12:00', \n",
    "                       end: str = '2021-08-02T12:00', \n",
    "                       lat_lon: list = ['48.206248, 16.367569'], \n",
    "                       output_format: str = \"geojson\"):\n",
    "    \"\"\"\n",
    "    function for retrieving data from geosphere API\n",
    "    \"\"\"\n",
    "    \n",
    "    base_url = 'https://dataset.api.hub.zamg.ac.at/v1/timeseries/historical/inca-v1-1h-1km'\n",
    "    lat_lon_params = '&lat_lon='.join(lat_lon)\n",
    "    url = f'{base_url}?parameters={parameters}&start={start}&end={end}&lat_lon={lat_lon_params}&output_format={output_format}'\n",
    "    print(url)\n",
    "    response = requests.get(url)\n",
    "    if response.status_code == 200:\n",
    "        return response.json()\n",
    "    else:\n",
    "        raise Exception(f'Request failed with status code {response.status_code}.')"
   ]
  },
  {
   "cell_type": "code",
   "execution_count": 12,
   "metadata": {},
   "outputs": [
    {
     "name": "stdout",
     "output_type": "stream",
     "text": [
      "https://dataset.api.hub.zamg.ac.at/v1/timeseries/historical/inca-v1-1h-1km?parameters=T2M&start=2021-08-01T12:00&end=2021-08-02T12:00&lat_lon=48.206248, 16.367569&output_format=geojson\n"
     ]
    }
   ],
   "source": [
    "data = get_geosphere_data()"
   ]
  },
  {
   "cell_type": "code",
   "execution_count": 30,
   "metadata": {},
   "outputs": [
    {
     "data": {
      "text/plain": [
       "18.7552"
      ]
     },
     "execution_count": 30,
     "metadata": {},
     "output_type": "execute_result"
    }
   ],
   "source": [
    "np.mean(data[\"features\"][0][\"properties\"][\"parameters\"][\"T2M\"][\"data\"])"
   ]
  },
  {
   "cell_type": "code",
   "execution_count": null,
   "metadata": {},
   "outputs": [],
   "source": [
    "# function\n",
    "# input bounding box and get data (temp, prec, rhum, wind) for last 24 hours of \n"
   ]
  }
 ],
 "metadata": {
  "kernelspec": {
   "display_name": "pymc_env",
   "language": "python",
   "name": "pymc_env"
  },
  "language_info": {
   "codemirror_mode": {
    "name": "ipython",
    "version": 3
   },
   "file_extension": ".py",
   "mimetype": "text/x-python",
   "name": "python",
   "nbconvert_exporter": "python",
   "pygments_lexer": "ipython3",
   "version": "3.11.0"
  }
 },
 "nbformat": 4,
 "nbformat_minor": 2
}
