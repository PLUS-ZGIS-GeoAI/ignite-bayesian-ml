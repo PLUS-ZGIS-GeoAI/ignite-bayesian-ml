{
 "cells": [
  {
   "cell_type": "code",
   "execution_count": 12,
   "metadata": {},
   "outputs": [],
   "source": [
    "import requests\n",
    "import numpy as np\n",
    "import pandas as pd \n",
    "import geopandas as gpd\n",
    "from datetime import timedelta\n",
    "import json"
   ]
  },
  {
   "cell_type": "code",
   "execution_count": 54,
   "metadata": {},
   "outputs": [],
   "source": [
    "def get_geosphere_data(parameters: list = [\"T2M\"],\n",
    "                       start_date: str = '2021-08-01T12:00',\n",
    "                       end_date: str = '2021-08-02T12:00',\n",
    "                       bbox: list = [47.45, 14.05, 47.50, 14.10],\n",
    "                       output_format: str = \"geojson\"):\n",
    "\n",
    "    base_url = \"https://dataset.api.hub.geosphere.at/v1/grid/historical/inca-v1-1h-1km\"\n",
    "    \n",
    "    # Constructing the URL with parameters\n",
    "    parameters_str = \"&parameters=\".join(parameters)\n",
    "    url = f\"{base_url}?parameters={parameters_str}&start={start_date}&end={end_date}&bbox={','.join(map(str, bbox))}&output_format={output_format}\"\n",
    "\n",
    "    try:\n",
    "        # Making the HTTP request\n",
    "        response = requests.get(url)\n",
    "        response.raise_for_status()  # Raise an exception for bad responses (4xx and 5xx)\n",
    "        \n",
    "        # Returning the data as text\n",
    "        return response.text\n",
    "    \n",
    "    except requests.exceptions.RequestException as e:\n",
    "        # Handling any exceptions that may occur during the request\n",
    "        print(f\"Error: {e}\")\n",
    "        return None\n"
   ]
  },
  {
   "cell_type": "code",
   "execution_count": 100,
   "metadata": {},
   "outputs": [],
   "source": [
    "\n",
    "# Example usage:\n",
    "parameters_list = [\"T2M\", \"RR\"]\n",
    "data = get_geosphere_data(parameters=parameters_list, start_date='2021-08-01T12:00', end_date='2021-08-02T12:00', bbox=[47.45, 14.05, 47.50, 14.10], output_format=\"geojson\")\n",
    "data_dict = json.loads(data)"
   ]
  },
  {
   "cell_type": "code",
   "execution_count": 101,
   "metadata": {},
   "outputs": [],
   "source": [
    "data_prep = {\"RR\": [], \"T2M\": [], \"latitude\": [], \"longitude\": []}\n",
    "for row in data_dict[\"features\"]:\n",
    "    lat = row[\"geometry\"][\"coordinates\"][1]\n",
    "    lon = row[\"geometry\"][\"coordinates\"][0]\n",
    "    temp_mean = np.mean(row[\"properties\"][\"parameters\"][\"T2M\"][\"data\"])\n",
    "    prec_sum =  np.sum(row[\"properties\"][\"parameters\"][\"RR\"][\"data\"])\n",
    "    data_prep[\"latitude\"].append(lat)\n",
    "    data_prep[\"longitude\"].append(lon)\n",
    "    data_prep[\"T2M\"].append(temp_mean)\n",
    "    data_prep[\"RR\"].append(prec_sum)"
   ]
  },
  {
   "cell_type": "code",
   "execution_count": 102,
   "metadata": {},
   "outputs": [
    {
     "data": {
      "text/plain": [
       "<AxesSubplot: >"
      ]
     },
     "execution_count": 102,
     "metadata": {},
     "output_type": "execute_result"
    },
    {
     "data": {
      "image/png": "[encoded data removed]",
      "text/plain": [
       "<Figure size 640x480 with 1 Axes>"
      ]
     },
     "metadata": {},
     "output_type": "display_data"
    }
   ],
   "source": [
    "df = pd.DataFrame(data_prep)\n",
    "gdf = gpd.GeoDataFrame(\n",
    "    df, geometry=gpd.points_from_xy(df.longitude, df.latitude), crs=\"EPSG:4326\"\n",
    ")\n",
    "gdf.plot()"
   ]
  },
  {
   "cell_type": "code",
   "execution_count": null,
   "metadata": {},
   "outputs": [],
   "source": [
    "# TODO check out how input parameters need to be prepared for FFMC/FWI calculation\n",
    "# TODO apply FWI calculator to create new columns with FFMC and FWI\n",
    "# TODO write to script (delete notebook)\n",
    "# TODO save as csv"
   ]
  }
 ],
 "metadata": {
  "kernelspec": {
   "display_name": "pymc_env",
   "language": "python",
   "name": "pymc_env"
  },
  "language_info": {
   "codemirror_mode": {
    "name": "ipython",
    "version": 3
   },
   "file_extension": ".py",
   "mimetype": "text/x-python",
   "name": "python",
   "nbconvert_exporter": "python",
   "pygments_lexer": "ipython3",
   "version": "3.11.0"
  }
 },
 "nbformat": 4,
 "nbformat_minor": 2
}
